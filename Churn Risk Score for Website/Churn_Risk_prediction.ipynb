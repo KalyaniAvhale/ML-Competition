{
  "nbformat": 4,
  "nbformat_minor": 0,
  "metadata": {
    "colab": {
      "name": "Churn_Risk_prediction_v3.ipynb",
      "provenance": [],
      "collapsed_sections": [
        "TvvRxvR8GtbA",
        "Vl8Rr6rrLfYi",
        "cwUuBhqXIuNt",
        "WIjX2k5DMZxk",
        "bWCBEN2wQvNY",
        "kFQr5nxSVcF0",
        "YrgjL7Nrgdd9",
        "lQi-8BlBswj0",
        "9jFKbDsLws0t",
        "dg_eAxn3BVVF",
        "N0kMXwVgCCFG",
        "UpzWiCj6GNxu",
        "AQjf-lgeJo1s",
        "X9gwj3epKKJi"
      ]
    },
    "kernelspec": {
      "display_name": "Python 3",
      "name": "python3"
    },
    "language_info": {
      "name": "python"
    }
  },
  "cells": [
    {
      "cell_type": "markdown",
      "metadata": {
        "id": "WfeNmYTtGYtS"
      },
      "source": [
        "###Import Required libraries"
      ]
    },
    {
      "cell_type": "code",
      "metadata": {
        "id": "pBDhpXEeGA-n"
      },
      "source": [
        "#import required libraries\n",
        "import pandas as pd\n",
        "import numpy as np\n",
        "import matplotlib.pyplot as plt\n",
        "import seaborn as sns\n",
        "\n",
        "from sklearn.model_selection import train_test_split\n",
        "from sklearn.preprocessing import StandardScaler\n",
        "from sklearn.linear_model import LogisticRegression\n",
        "from sklearn.metrics import accuracy_score, confusion_matrix, f1_score,classification_report\n",
        "from sklearn.ensemble import RandomForestClassifier,GradientBoostingClassifier\n",
        "from sklearn.model_selection import RandomizedSearchCV\n",
        "from sklearn.svm import SVC\n",
        "from sklearn.neighbors import KNeighborsClassifier"
      ],
      "execution_count": null,
      "outputs": []
    },
    {
      "cell_type": "markdown",
      "metadata": {
        "id": "EWr3kJdfGX9N"
      },
      "source": [
        "###Load the datset"
      ]
    },
    {
      "cell_type": "code",
      "metadata": {
        "colab": {
          "base_uri": "https://localhost:8080/"
        },
        "id": "PbkyENidGT_6",
        "outputId": "6c506c74-b61e-4a60-e863-d0b7546c192b"
      },
      "source": [
        "#read csv file\n",
        "\n",
        "train_data = pd.read_csv(\"/content/drive/MyDrive/Colab Notebooks/Datasets/Customer_churn_pred/train.csv\") #read train file\n",
        "test_data = pd.read_csv('/content/drive/MyDrive/Colab Notebooks/Datasets/Customer_churn_pred/test.csv') #read test file\n",
        "\n",
        "#shape of train data and test data\n",
        "\n",
        "print(\"Shape of Train dataset : \",train_data.shape)\n",
        "\n",
        "print(\"Shape of Test dataset : \",test_data.shape)"
      ],
      "execution_count": null,
      "outputs": [
        {
          "output_type": "stream",
          "text": [
            "Shape of Train dataset :  (36992, 25)\n",
            "Shape of Test dataset :  (19919, 24)\n"
          ],
          "name": "stdout"
        }
      ]
    },
    {
      "cell_type": "markdown",
      "metadata": {
        "id": "TvvRxvR8GtbA"
      },
      "source": [
        "### Understand the data and decide the task to perform"
      ]
    },
    {
      "cell_type": "code",
      "metadata": {
        "colab": {
          "base_uri": "https://localhost:8080/",
          "height": 247
        },
        "id": "CExljcLPG6SZ",
        "outputId": "5bdbc304-21c3-4dd2-8d75-64b62a294859"
      },
      "source": [
        "train_data.head(3)"
      ],
      "execution_count": null,
      "outputs": [
        {
          "output_type": "execute_result",
          "data": {
            "text/html": [
              "<div>\n",
              "<style scoped>\n",
              "    .dataframe tbody tr th:only-of-type {\n",
              "        vertical-align: middle;\n",
              "    }\n",
              "\n",
              "    .dataframe tbody tr th {\n",
              "        vertical-align: top;\n",
              "    }\n",
              "\n",
              "    .dataframe thead th {\n",
              "        text-align: right;\n",
              "    }\n",
              "</style>\n",
              "<table border=\"1\" class=\"dataframe\">\n",
              "  <thead>\n",
              "    <tr style=\"text-align: right;\">\n",
              "      <th></th>\n",
              "      <th>customer_id</th>\n",
              "      <th>Name</th>\n",
              "      <th>age</th>\n",
              "      <th>gender</th>\n",
              "      <th>security_no</th>\n",
              "      <th>region_category</th>\n",
              "      <th>membership_category</th>\n",
              "      <th>joining_date</th>\n",
              "      <th>joined_through_referral</th>\n",
              "      <th>referral_id</th>\n",
              "      <th>preferred_offer_types</th>\n",
              "      <th>medium_of_operation</th>\n",
              "      <th>internet_option</th>\n",
              "      <th>last_visit_time</th>\n",
              "      <th>days_since_last_login</th>\n",
              "      <th>avg_time_spent</th>\n",
              "      <th>avg_transaction_value</th>\n",
              "      <th>avg_frequency_login_days</th>\n",
              "      <th>points_in_wallet</th>\n",
              "      <th>used_special_discount</th>\n",
              "      <th>offer_application_preference</th>\n",
              "      <th>past_complaint</th>\n",
              "      <th>complaint_status</th>\n",
              "      <th>feedback</th>\n",
              "      <th>churn_risk_score</th>\n",
              "    </tr>\n",
              "  </thead>\n",
              "  <tbody>\n",
              "    <tr>\n",
              "      <th>0</th>\n",
              "      <td>fffe4300490044003600300030003800</td>\n",
              "      <td>Pattie Morrisey</td>\n",
              "      <td>18</td>\n",
              "      <td>F</td>\n",
              "      <td>XW0DQ7H</td>\n",
              "      <td>Village</td>\n",
              "      <td>Platinum Membership</td>\n",
              "      <td>2017-08-17</td>\n",
              "      <td>No</td>\n",
              "      <td>xxxxxxxx</td>\n",
              "      <td>Gift Vouchers/Coupons</td>\n",
              "      <td>?</td>\n",
              "      <td>Wi-Fi</td>\n",
              "      <td>16:08:02</td>\n",
              "      <td>17</td>\n",
              "      <td>300.63</td>\n",
              "      <td>53005.25</td>\n",
              "      <td>17.0</td>\n",
              "      <td>781.75</td>\n",
              "      <td>Yes</td>\n",
              "      <td>Yes</td>\n",
              "      <td>No</td>\n",
              "      <td>Not Applicable</td>\n",
              "      <td>Products always in Stock</td>\n",
              "      <td>2</td>\n",
              "    </tr>\n",
              "    <tr>\n",
              "      <th>1</th>\n",
              "      <td>fffe43004900440032003100300035003700</td>\n",
              "      <td>Traci Peery</td>\n",
              "      <td>32</td>\n",
              "      <td>F</td>\n",
              "      <td>5K0N3X1</td>\n",
              "      <td>City</td>\n",
              "      <td>Premium Membership</td>\n",
              "      <td>2017-08-28</td>\n",
              "      <td>?</td>\n",
              "      <td>CID21329</td>\n",
              "      <td>Gift Vouchers/Coupons</td>\n",
              "      <td>Desktop</td>\n",
              "      <td>Mobile_Data</td>\n",
              "      <td>12:38:13</td>\n",
              "      <td>16</td>\n",
              "      <td>306.34</td>\n",
              "      <td>12838.38</td>\n",
              "      <td>10.0</td>\n",
              "      <td>NaN</td>\n",
              "      <td>Yes</td>\n",
              "      <td>No</td>\n",
              "      <td>Yes</td>\n",
              "      <td>Solved</td>\n",
              "      <td>Quality Customer Care</td>\n",
              "      <td>1</td>\n",
              "    </tr>\n",
              "    <tr>\n",
              "      <th>2</th>\n",
              "      <td>fffe4300490044003100390032003600</td>\n",
              "      <td>Merideth Mcmeen</td>\n",
              "      <td>44</td>\n",
              "      <td>F</td>\n",
              "      <td>1F2TCL3</td>\n",
              "      <td>Town</td>\n",
              "      <td>No Membership</td>\n",
              "      <td>2016-11-11</td>\n",
              "      <td>Yes</td>\n",
              "      <td>CID12313</td>\n",
              "      <td>Gift Vouchers/Coupons</td>\n",
              "      <td>Desktop</td>\n",
              "      <td>Wi-Fi</td>\n",
              "      <td>22:53:21</td>\n",
              "      <td>14</td>\n",
              "      <td>516.16</td>\n",
              "      <td>21027.00</td>\n",
              "      <td>22.0</td>\n",
              "      <td>500.69</td>\n",
              "      <td>No</td>\n",
              "      <td>Yes</td>\n",
              "      <td>Yes</td>\n",
              "      <td>Solved in Follow-up</td>\n",
              "      <td>Poor Website</td>\n",
              "      <td>5</td>\n",
              "    </tr>\n",
              "  </tbody>\n",
              "</table>\n",
              "</div>"
            ],
            "text/plain": [
              "                            customer_id  ... churn_risk_score\n",
              "0      fffe4300490044003600300030003800  ...                2\n",
              "1  fffe43004900440032003100300035003700  ...                1\n",
              "2      fffe4300490044003100390032003600  ...                5\n",
              "\n",
              "[3 rows x 25 columns]"
            ]
          },
          "metadata": {
            "tags": []
          },
          "execution_count": 3
        }
      ]
    },
    {
      "cell_type": "markdown",
      "metadata": {
        "id": "PX64R0dQHAB9"
      },
      "source": [
        "<html><b> \n",
        "\n",
        "customer_id , Name , security_no ,referral_id this are the unique columns and wont be useful in predictions , so we wont be selecting this to feature set for training the model\n",
        "\n",
        "</b></html>"
      ]
    },
    {
      "cell_type": "code",
      "metadata": {
        "colab": {
          "base_uri": "https://localhost:8080/"
        },
        "id": "o9cxDSZnGquz",
        "outputId": "5f03cd08-6f7b-4b34-d543-41097944f320"
      },
      "source": [
        "train_data.info()\n",
        "print(\"_\"*50)\n",
        "test_data.info()\n"
      ],
      "execution_count": null,
      "outputs": [
        {
          "output_type": "stream",
          "text": [
            "<class 'pandas.core.frame.DataFrame'>\n",
            "RangeIndex: 36992 entries, 0 to 36991\n",
            "Data columns (total 25 columns):\n",
            " #   Column                        Non-Null Count  Dtype  \n",
            "---  ------                        --------------  -----  \n",
            " 0   customer_id                   36992 non-null  object \n",
            " 1   Name                          36992 non-null  object \n",
            " 2   age                           36992 non-null  int64  \n",
            " 3   gender                        36992 non-null  object \n",
            " 4   security_no                   36992 non-null  object \n",
            " 5   region_category               31564 non-null  object \n",
            " 6   membership_category           36992 non-null  object \n",
            " 7   joining_date                  36992 non-null  object \n",
            " 8   joined_through_referral       36992 non-null  object \n",
            " 9   referral_id                   36992 non-null  object \n",
            " 10  preferred_offer_types         36704 non-null  object \n",
            " 11  medium_of_operation           36992 non-null  object \n",
            " 12  internet_option               36992 non-null  object \n",
            " 13  last_visit_time               36992 non-null  object \n",
            " 14  days_since_last_login         36992 non-null  int64  \n",
            " 15  avg_time_spent                36992 non-null  float64\n",
            " 16  avg_transaction_value         36992 non-null  float64\n",
            " 17  avg_frequency_login_days      36992 non-null  object \n",
            " 18  points_in_wallet              33549 non-null  float64\n",
            " 19  used_special_discount         36992 non-null  object \n",
            " 20  offer_application_preference  36992 non-null  object \n",
            " 21  past_complaint                36992 non-null  object \n",
            " 22  complaint_status              36992 non-null  object \n",
            " 23  feedback                      36992 non-null  object \n",
            " 24  churn_risk_score              36992 non-null  int64  \n",
            "dtypes: float64(3), int64(3), object(19)\n",
            "memory usage: 7.1+ MB\n",
            "__________________________________________________\n",
            "<class 'pandas.core.frame.DataFrame'>\n",
            "RangeIndex: 19919 entries, 0 to 19918\n",
            "Data columns (total 24 columns):\n",
            " #   Column                        Non-Null Count  Dtype  \n",
            "---  ------                        --------------  -----  \n",
            " 0   customer_id                   19919 non-null  object \n",
            " 1   Name                          19919 non-null  object \n",
            " 2   age                           19919 non-null  int64  \n",
            " 3   gender                        19919 non-null  object \n",
            " 4   security_no                   19919 non-null  object \n",
            " 5   region_category               16971 non-null  object \n",
            " 6   membership_category           19919 non-null  object \n",
            " 7   joining_date                  19919 non-null  object \n",
            " 8   joined_through_referral       19919 non-null  object \n",
            " 9   referral_id                   19919 non-null  object \n",
            " 10  preferred_offer_types         19760 non-null  object \n",
            " 11  medium_of_operation           19919 non-null  object \n",
            " 12  internet_option               19919 non-null  object \n",
            " 13  last_visit_time               19919 non-null  object \n",
            " 14  days_since_last_login         19919 non-null  int64  \n",
            " 15  avg_time_spent                19919 non-null  float64\n",
            " 16  avg_transaction_value         19919 non-null  float64\n",
            " 17  avg_frequency_login_days      19919 non-null  object \n",
            " 18  points_in_wallet              17956 non-null  float64\n",
            " 19  used_special_discount         19919 non-null  object \n",
            " 20  offer_application_preference  19919 non-null  object \n",
            " 21  past_complaint                19919 non-null  object \n",
            " 22  complaint_status              19919 non-null  object \n",
            " 23  feedback                      19919 non-null  object \n",
            "dtypes: float64(3), int64(2), object(19)\n",
            "memory usage: 3.6+ MB\n"
          ],
          "name": "stdout"
        }
      ]
    },
    {
      "cell_type": "markdown",
      "metadata": {
        "id": "GpmO88ZcHkT7"
      },
      "source": [
        "\n",
        "<html><b> \n",
        "\n",
        "Here we can observe that few columns such as joining_date must be datetime type rather than object\n",
        "similarly last_visit_time must not be an object\n",
        "\n",
        "We will explore each feature values\n",
        "\n",
        "</b></html>"
      ]
    },
    {
      "cell_type": "markdown",
      "metadata": {
        "id": "Vl8Rr6rrLfYi"
      },
      "source": [
        "###check for null or missing values if any\n",
        "\n"
      ]
    },
    {
      "cell_type": "code",
      "metadata": {
        "colab": {
          "base_uri": "https://localhost:8080/"
        },
        "id": "2mJ4NKADKMab",
        "outputId": "084782a2-2202-419f-bdde-0fcdcb0acee7"
      },
      "source": [
        "#Percentage of NAN Values \n",
        "NAN_trainData = [(col, train_data[col].isna().mean()*100) for col in train_data]\n",
        "NAN_trainData = pd.DataFrame(NAN_trainData, columns=[\"column_name\", \"percentage\"])\n",
        "\n",
        "#features with null values\n",
        "NAN_trainData = NAN_trainData[NAN_trainData.percentage !=0]\n",
        "NAN_trainData.sort_values(\"percentage\", ascending=False)\n"
      ],
      "execution_count": null,
      "outputs": [
        {
          "output_type": "execute_result",
          "data": {
            "text/html": [
              "<div>\n",
              "<style scoped>\n",
              "    .dataframe tbody tr th:only-of-type {\n",
              "        vertical-align: middle;\n",
              "    }\n",
              "\n",
              "    .dataframe tbody tr th {\n",
              "        vertical-align: top;\n",
              "    }\n",
              "\n",
              "    .dataframe thead th {\n",
              "        text-align: right;\n",
              "    }\n",
              "</style>\n",
              "<table border=\"1\" class=\"dataframe\">\n",
              "  <thead>\n",
              "    <tr style=\"text-align: right;\">\n",
              "      <th></th>\n",
              "      <th>column_name</th>\n",
              "      <th>percentage</th>\n",
              "    </tr>\n",
              "  </thead>\n",
              "  <tbody>\n",
              "    <tr>\n",
              "      <th>5</th>\n",
              "      <td>region_category</td>\n",
              "      <td>14.673443</td>\n",
              "    </tr>\n",
              "    <tr>\n",
              "      <th>18</th>\n",
              "      <td>points_in_wallet</td>\n",
              "      <td>9.307418</td>\n",
              "    </tr>\n",
              "    <tr>\n",
              "      <th>10</th>\n",
              "      <td>preferred_offer_types</td>\n",
              "      <td>0.778547</td>\n",
              "    </tr>\n",
              "  </tbody>\n",
              "</table>\n",
              "</div>"
            ],
            "text/plain": [
              "              column_name  percentage\n",
              "5         region_category   14.673443\n",
              "18       points_in_wallet    9.307418\n",
              "10  preferred_offer_types    0.778547"
            ]
          },
          "metadata": {
            "tags": []
          },
          "execution_count": 5
        }
      ]
    },
    {
      "cell_type": "code",
      "metadata": {
        "colab": {
          "base_uri": "https://localhost:8080/"
        },
        "id": "0PreS2UZKm_W",
        "outputId": "adb82b64-7e8f-49d3-aa53-914f1e6803ed"
      },
      "source": [
        "#Percentage of NAN Values \n",
        "NAN_testData = [(col, test_data[col].isna().mean()*100) for col in test_data]\n",
        "NAN_testData = pd.DataFrame(NAN_testData, columns=[\"column_name\", \"percentage\"])\n",
        "\n",
        "#features with null values\n",
        "NAN_testData = NAN_testData[NAN_testData.percentage !=0]\n",
        "NAN_testData.sort_values(\"percentage\", ascending=False)\n"
      ],
      "execution_count": null,
      "outputs": [
        {
          "output_type": "execute_result",
          "data": {
            "text/html": [
              "<div>\n",
              "<style scoped>\n",
              "    .dataframe tbody tr th:only-of-type {\n",
              "        vertical-align: middle;\n",
              "    }\n",
              "\n",
              "    .dataframe tbody tr th {\n",
              "        vertical-align: top;\n",
              "    }\n",
              "\n",
              "    .dataframe thead th {\n",
              "        text-align: right;\n",
              "    }\n",
              "</style>\n",
              "<table border=\"1\" class=\"dataframe\">\n",
              "  <thead>\n",
              "    <tr style=\"text-align: right;\">\n",
              "      <th></th>\n",
              "      <th>column_name</th>\n",
              "      <th>percentage</th>\n",
              "    </tr>\n",
              "  </thead>\n",
              "  <tbody>\n",
              "    <tr>\n",
              "      <th>5</th>\n",
              "      <td>region_category</td>\n",
              "      <td>14.799940</td>\n",
              "    </tr>\n",
              "    <tr>\n",
              "      <th>18</th>\n",
              "      <td>points_in_wallet</td>\n",
              "      <td>9.854912</td>\n",
              "    </tr>\n",
              "    <tr>\n",
              "      <th>10</th>\n",
              "      <td>preferred_offer_types</td>\n",
              "      <td>0.798233</td>\n",
              "    </tr>\n",
              "  </tbody>\n",
              "</table>\n",
              "</div>"
            ],
            "text/plain": [
              "              column_name  percentage\n",
              "5         region_category   14.799940\n",
              "18       points_in_wallet    9.854912\n",
              "10  preferred_offer_types    0.798233"
            ]
          },
          "metadata": {
            "tags": []
          },
          "execution_count": 6
        }
      ]
    },
    {
      "cell_type": "markdown",
      "metadata": {
        "id": "cwUuBhqXIuNt"
      },
      "source": [
        "### Cleaning / Pre-processing"
      ]
    },
    {
      "cell_type": "markdown",
      "metadata": {
        "id": "kGnzBiZIMM_q"
      },
      "source": [
        "Will perform each feature analysis"
      ]
    },
    {
      "cell_type": "markdown",
      "metadata": {
        "id": "WIjX2k5DMZxk"
      },
      "source": [
        "####Check for unique values for each colummns"
      ]
    },
    {
      "cell_type": "code",
      "metadata": {
        "id": "dzsfZSjkU6nS"
      },
      "source": [
        "#keep copy of data\n",
        "train_copy = train_data.copy()\n",
        "test_copy = test_data.copy()"
      ],
      "execution_count": null,
      "outputs": []
    },
    {
      "cell_type": "code",
      "metadata": {
        "colab": {
          "base_uri": "https://localhost:8080/"
        },
        "id": "_bP9Iw48MMi3",
        "outputId": "0795cfee-d2a1-41c9-8079-84357f0f5ed4"
      },
      "source": [
        "unique_values_trainData = [(col , train_data[col].unique(),len(train_data[col].unique())) for col in train_data]\n",
        "unique_values_trainData = pd.DataFrame(unique_values_trainData, columns=[\"column_name\", \"Unique Values\",\"Count of Unique values\"])\n",
        "unique_values_trainData.sort_values(by=['Count of Unique values'])"
      ],
      "execution_count": null,
      "outputs": [
        {
          "output_type": "execute_result",
          "data": {
            "text/html": [
              "<div>\n",
              "<style scoped>\n",
              "    .dataframe tbody tr th:only-of-type {\n",
              "        vertical-align: middle;\n",
              "    }\n",
              "\n",
              "    .dataframe tbody tr th {\n",
              "        vertical-align: top;\n",
              "    }\n",
              "\n",
              "    .dataframe thead th {\n",
              "        text-align: right;\n",
              "    }\n",
              "</style>\n",
              "<table border=\"1\" class=\"dataframe\">\n",
              "  <thead>\n",
              "    <tr style=\"text-align: right;\">\n",
              "      <th></th>\n",
              "      <th>column_name</th>\n",
              "      <th>Unique Values</th>\n",
              "      <th>Count of Unique values</th>\n",
              "    </tr>\n",
              "  </thead>\n",
              "  <tbody>\n",
              "    <tr>\n",
              "      <th>21</th>\n",
              "      <td>past_complaint</td>\n",
              "      <td>[No, Yes]</td>\n",
              "      <td>2</td>\n",
              "    </tr>\n",
              "    <tr>\n",
              "      <th>20</th>\n",
              "      <td>offer_application_preference</td>\n",
              "      <td>[Yes, No]</td>\n",
              "      <td>2</td>\n",
              "    </tr>\n",
              "    <tr>\n",
              "      <th>19</th>\n",
              "      <td>used_special_discount</td>\n",
              "      <td>[Yes, No]</td>\n",
              "      <td>2</td>\n",
              "    </tr>\n",
              "    <tr>\n",
              "      <th>12</th>\n",
              "      <td>internet_option</td>\n",
              "      <td>[Wi-Fi, Mobile_Data, Fiber_Optic]</td>\n",
              "      <td>3</td>\n",
              "    </tr>\n",
              "    <tr>\n",
              "      <th>3</th>\n",
              "      <td>gender</td>\n",
              "      <td>[F, M, Unknown]</td>\n",
              "      <td>3</td>\n",
              "    </tr>\n",
              "    <tr>\n",
              "      <th>8</th>\n",
              "      <td>joined_through_referral</td>\n",
              "      <td>[No, ?, Yes]</td>\n",
              "      <td>3</td>\n",
              "    </tr>\n",
              "    <tr>\n",
              "      <th>5</th>\n",
              "      <td>region_category</td>\n",
              "      <td>[Village, City, Town, nan]</td>\n",
              "      <td>4</td>\n",
              "    </tr>\n",
              "    <tr>\n",
              "      <th>11</th>\n",
              "      <td>medium_of_operation</td>\n",
              "      <td>[?, Desktop, Smartphone, Both]</td>\n",
              "      <td>4</td>\n",
              "    </tr>\n",
              "    <tr>\n",
              "      <th>10</th>\n",
              "      <td>preferred_offer_types</td>\n",
              "      <td>[Gift Vouchers/Coupons, Credit/Debit Card Offe...</td>\n",
              "      <td>4</td>\n",
              "    </tr>\n",
              "    <tr>\n",
              "      <th>22</th>\n",
              "      <td>complaint_status</td>\n",
              "      <td>[Not Applicable, Solved, Solved in Follow-up, ...</td>\n",
              "      <td>5</td>\n",
              "    </tr>\n",
              "    <tr>\n",
              "      <th>24</th>\n",
              "      <td>churn_risk_score</td>\n",
              "      <td>[2, 1, 5, 3, 4, -1]</td>\n",
              "      <td>6</td>\n",
              "    </tr>\n",
              "    <tr>\n",
              "      <th>6</th>\n",
              "      <td>membership_category</td>\n",
              "      <td>[Platinum Membership, Premium Membership, No M...</td>\n",
              "      <td>6</td>\n",
              "    </tr>\n",
              "    <tr>\n",
              "      <th>23</th>\n",
              "      <td>feedback</td>\n",
              "      <td>[Products always in Stock, Quality Customer Ca...</td>\n",
              "      <td>9</td>\n",
              "    </tr>\n",
              "    <tr>\n",
              "      <th>14</th>\n",
              "      <td>days_since_last_login</td>\n",
              "      <td>[17, 16, 14, 11, 20, 23, 10, 19, 15, 13, -999,...</td>\n",
              "      <td>27</td>\n",
              "    </tr>\n",
              "    <tr>\n",
              "      <th>2</th>\n",
              "      <td>age</td>\n",
              "      <td>[18, 32, 44, 37, 31, 13, 21, 42, 45, 25, 60, 1...</td>\n",
              "      <td>55</td>\n",
              "    </tr>\n",
              "    <tr>\n",
              "      <th>7</th>\n",
              "      <td>joining_date</td>\n",
              "      <td>[2017-08-17, 2017-08-28, 2016-11-11, 2016-10-2...</td>\n",
              "      <td>1096</td>\n",
              "    </tr>\n",
              "    <tr>\n",
              "      <th>17</th>\n",
              "      <td>avg_frequency_login_days</td>\n",
              "      <td>[17.0, 10.0, 22.0, 6.0, 16.0, 24.0, 28.0, 20.0...</td>\n",
              "      <td>1654</td>\n",
              "    </tr>\n",
              "    <tr>\n",
              "      <th>9</th>\n",
              "      <td>referral_id</td>\n",
              "      <td>[xxxxxxxx, CID21329, CID12313, CID3793, CID247...</td>\n",
              "      <td>11359</td>\n",
              "    </tr>\n",
              "    <tr>\n",
              "      <th>18</th>\n",
              "      <td>points_in_wallet</td>\n",
              "      <td>[781.75, nan, 500.69, 567.66, 663.06, 722.27, ...</td>\n",
              "      <td>23700</td>\n",
              "    </tr>\n",
              "    <tr>\n",
              "      <th>15</th>\n",
              "      <td>avg_time_spent</td>\n",
              "      <td>[300.63, 306.34, 516.16, 53.27, 113.13, 433.62...</td>\n",
              "      <td>25961</td>\n",
              "    </tr>\n",
              "    <tr>\n",
              "      <th>13</th>\n",
              "      <td>last_visit_time</td>\n",
              "      <td>[16:08:02, 12:38:13, 22:53:21, 15:57:50, 15:46...</td>\n",
              "      <td>30101</td>\n",
              "    </tr>\n",
              "    <tr>\n",
              "      <th>16</th>\n",
              "      <td>avg_transaction_value</td>\n",
              "      <td>[53005.25, 12838.38, 21027.0, 25239.56, 24483....</td>\n",
              "      <td>36894</td>\n",
              "    </tr>\n",
              "    <tr>\n",
              "      <th>4</th>\n",
              "      <td>security_no</td>\n",
              "      <td>[XW0DQ7H, 5K0N3X1, 1F2TCL3, VJGJ33N, SVZXCWB, ...</td>\n",
              "      <td>36992</td>\n",
              "    </tr>\n",
              "    <tr>\n",
              "      <th>1</th>\n",
              "      <td>Name</td>\n",
              "      <td>[Pattie Morrisey, Traci Peery, Merideth Mcmeen...</td>\n",
              "      <td>36992</td>\n",
              "    </tr>\n",
              "    <tr>\n",
              "      <th>0</th>\n",
              "      <td>customer_id</td>\n",
              "      <td>[fffe4300490044003600300030003800, fffe4300490...</td>\n",
              "      <td>36992</td>\n",
              "    </tr>\n",
              "  </tbody>\n",
              "</table>\n",
              "</div>"
            ],
            "text/plain": [
              "                     column_name  ... Count of Unique values\n",
              "21                past_complaint  ...                      2\n",
              "20  offer_application_preference  ...                      2\n",
              "19         used_special_discount  ...                      2\n",
              "12               internet_option  ...                      3\n",
              "3                         gender  ...                      3\n",
              "8        joined_through_referral  ...                      3\n",
              "5                region_category  ...                      4\n",
              "11           medium_of_operation  ...                      4\n",
              "10         preferred_offer_types  ...                      4\n",
              "22              complaint_status  ...                      5\n",
              "24              churn_risk_score  ...                      6\n",
              "6            membership_category  ...                      6\n",
              "23                      feedback  ...                      9\n",
              "14         days_since_last_login  ...                     27\n",
              "2                            age  ...                     55\n",
              "7                   joining_date  ...                   1096\n",
              "17      avg_frequency_login_days  ...                   1654\n",
              "9                    referral_id  ...                  11359\n",
              "18              points_in_wallet  ...                  23700\n",
              "15                avg_time_spent  ...                  25961\n",
              "13               last_visit_time  ...                  30101\n",
              "16         avg_transaction_value  ...                  36894\n",
              "4                    security_no  ...                  36992\n",
              "1                           Name  ...                  36992\n",
              "0                    customer_id  ...                  36992\n",
              "\n",
              "[25 rows x 3 columns]"
            ]
          },
          "metadata": {
            "tags": []
          },
          "execution_count": 8
        }
      ]
    },
    {
      "cell_type": "code",
      "metadata": {
        "colab": {
          "base_uri": "https://localhost:8080/"
        },
        "id": "7-Q1i2FyG4h4",
        "outputId": "79b953b9-faff-4539-8ced-7eb76d612152"
      },
      "source": [
        "unique_values_testData = [(col , test_data[col].unique(),len(test_data[col].unique())) for col in test_data]\n",
        "unique_values_testData = pd.DataFrame(unique_values_testData, columns=[\"column_name\", \"Unique Values\",\"Count of Unique values\"])\n",
        "unique_values_testData.sort_values(by=['Count of Unique values'])"
      ],
      "execution_count": null,
      "outputs": [
        {
          "output_type": "execute_result",
          "data": {
            "text/html": [
              "<div>\n",
              "<style scoped>\n",
              "    .dataframe tbody tr th:only-of-type {\n",
              "        vertical-align: middle;\n",
              "    }\n",
              "\n",
              "    .dataframe tbody tr th {\n",
              "        vertical-align: top;\n",
              "    }\n",
              "\n",
              "    .dataframe thead th {\n",
              "        text-align: right;\n",
              "    }\n",
              "</style>\n",
              "<table border=\"1\" class=\"dataframe\">\n",
              "  <thead>\n",
              "    <tr style=\"text-align: right;\">\n",
              "      <th></th>\n",
              "      <th>column_name</th>\n",
              "      <th>Unique Values</th>\n",
              "      <th>Count of Unique values</th>\n",
              "    </tr>\n",
              "  </thead>\n",
              "  <tbody>\n",
              "    <tr>\n",
              "      <th>21</th>\n",
              "      <td>past_complaint</td>\n",
              "      <td>[No, Yes]</td>\n",
              "      <td>2</td>\n",
              "    </tr>\n",
              "    <tr>\n",
              "      <th>20</th>\n",
              "      <td>offer_application_preference</td>\n",
              "      <td>[No, Yes]</td>\n",
              "      <td>2</td>\n",
              "    </tr>\n",
              "    <tr>\n",
              "      <th>19</th>\n",
              "      <td>used_special_discount</td>\n",
              "      <td>[Yes, No]</td>\n",
              "      <td>2</td>\n",
              "    </tr>\n",
              "    <tr>\n",
              "      <th>3</th>\n",
              "      <td>gender</td>\n",
              "      <td>[F, M, Unknown]</td>\n",
              "      <td>3</td>\n",
              "    </tr>\n",
              "    <tr>\n",
              "      <th>12</th>\n",
              "      <td>internet_option</td>\n",
              "      <td>[Wi-Fi, Fiber_Optic, Mobile_Data]</td>\n",
              "      <td>3</td>\n",
              "    </tr>\n",
              "    <tr>\n",
              "      <th>8</th>\n",
              "      <td>joined_through_referral</td>\n",
              "      <td>[No, Yes, ?]</td>\n",
              "      <td>3</td>\n",
              "    </tr>\n",
              "    <tr>\n",
              "      <th>11</th>\n",
              "      <td>medium_of_operation</td>\n",
              "      <td>[Smartphone, Desktop, Both, ?]</td>\n",
              "      <td>4</td>\n",
              "    </tr>\n",
              "    <tr>\n",
              "      <th>5</th>\n",
              "      <td>region_category</td>\n",
              "      <td>[Village, Town, City, nan]</td>\n",
              "      <td>4</td>\n",
              "    </tr>\n",
              "    <tr>\n",
              "      <th>10</th>\n",
              "      <td>preferred_offer_types</td>\n",
              "      <td>[Without Offers, Gift Vouchers/Coupons, Credit...</td>\n",
              "      <td>4</td>\n",
              "    </tr>\n",
              "    <tr>\n",
              "      <th>22</th>\n",
              "      <td>complaint_status</td>\n",
              "      <td>[Not Applicable, Solved in Follow-up, No Infor...</td>\n",
              "      <td>5</td>\n",
              "    </tr>\n",
              "    <tr>\n",
              "      <th>6</th>\n",
              "      <td>membership_category</td>\n",
              "      <td>[Premium Membership, Gold Membership, Silver M...</td>\n",
              "      <td>6</td>\n",
              "    </tr>\n",
              "    <tr>\n",
              "      <th>23</th>\n",
              "      <td>feedback</td>\n",
              "      <td>[Poor Product Quality, Poor Website, No reason...</td>\n",
              "      <td>9</td>\n",
              "    </tr>\n",
              "    <tr>\n",
              "      <th>14</th>\n",
              "      <td>days_since_last_login</td>\n",
              "      <td>[12, 11, 18, -999, 6, 15, 3, 14, 4, 22, 24, 9,...</td>\n",
              "      <td>27</td>\n",
              "    </tr>\n",
              "    <tr>\n",
              "      <th>2</th>\n",
              "      <td>age</td>\n",
              "      <td>[50, 41, 31, 64, 16, 17, 58, 22, 33, 28, 23, 2...</td>\n",
              "      <td>55</td>\n",
              "    </tr>\n",
              "    <tr>\n",
              "      <th>17</th>\n",
              "      <td>avg_frequency_login_days</td>\n",
              "      <td>[7.0, 9.0, 21.0, 11.0, 8.0, 16.0, 6.0, 15.0, 1...</td>\n",
              "      <td>946</td>\n",
              "    </tr>\n",
              "    <tr>\n",
              "      <th>7</th>\n",
              "      <td>joining_date</td>\n",
              "      <td>[2015-11-02, 2016-03-01, 2017-03-03, 2017-08-1...</td>\n",
              "      <td>1096</td>\n",
              "    </tr>\n",
              "    <tr>\n",
              "      <th>9</th>\n",
              "      <td>referral_id</td>\n",
              "      <td>[xxxxxxxx, CID8941, CID5690, CID53746, CID8848...</td>\n",
              "      <td>7603</td>\n",
              "    </tr>\n",
              "    <tr>\n",
              "      <th>18</th>\n",
              "      <td>points_in_wallet</td>\n",
              "      <td>[733.83, 726.0, 713.78, 744.97, 299.0483512372...</td>\n",
              "      <td>14582</td>\n",
              "    </tr>\n",
              "    <tr>\n",
              "      <th>15</th>\n",
              "      <td>avg_time_spent</td>\n",
              "      <td>[386.26, 37.8, 215.36, 44.57, 349.88, 31.02, 2...</td>\n",
              "      <td>15703</td>\n",
              "    </tr>\n",
              "    <tr>\n",
              "      <th>13</th>\n",
              "      <td>last_visit_time</td>\n",
              "      <td>[07:19:30, 22:21:16, 16:40:39, 14:56:17, 02:57...</td>\n",
              "      <td>17821</td>\n",
              "    </tr>\n",
              "    <tr>\n",
              "      <th>16</th>\n",
              "      <td>avg_transaction_value</td>\n",
              "      <td>[40721.44, 9644.4, 3693.25, 36809.56, 40675.86...</td>\n",
              "      <td>19883</td>\n",
              "    </tr>\n",
              "    <tr>\n",
              "      <th>4</th>\n",
              "      <td>security_no</td>\n",
              "      <td>[OQJ1XAY, OUQRPKO, 02J2RE7, 5YEQIF1, 100RYB5, ...</td>\n",
              "      <td>19919</td>\n",
              "    </tr>\n",
              "    <tr>\n",
              "      <th>1</th>\n",
              "      <td>Name</td>\n",
              "      <td>[Alethia Meints, Ming Lopez, Carina Flannigan,...</td>\n",
              "      <td>19919</td>\n",
              "    </tr>\n",
              "    <tr>\n",
              "      <th>0</th>\n",
              "      <td>customer_id</td>\n",
              "      <td>[fffe43004900440031003700300030003400, fffe430...</td>\n",
              "      <td>19919</td>\n",
              "    </tr>\n",
              "  </tbody>\n",
              "</table>\n",
              "</div>"
            ],
            "text/plain": [
              "                     column_name  ... Count of Unique values\n",
              "21                past_complaint  ...                      2\n",
              "20  offer_application_preference  ...                      2\n",
              "19         used_special_discount  ...                      2\n",
              "3                         gender  ...                      3\n",
              "12               internet_option  ...                      3\n",
              "8        joined_through_referral  ...                      3\n",
              "11           medium_of_operation  ...                      4\n",
              "5                region_category  ...                      4\n",
              "10         preferred_offer_types  ...                      4\n",
              "22              complaint_status  ...                      5\n",
              "6            membership_category  ...                      6\n",
              "23                      feedback  ...                      9\n",
              "14         days_since_last_login  ...                     27\n",
              "2                            age  ...                     55\n",
              "17      avg_frequency_login_days  ...                    946\n",
              "7                   joining_date  ...                   1096\n",
              "9                    referral_id  ...                   7603\n",
              "18              points_in_wallet  ...                  14582\n",
              "15                avg_time_spent  ...                  15703\n",
              "13               last_visit_time  ...                  17821\n",
              "16         avg_transaction_value  ...                  19883\n",
              "4                    security_no  ...                  19919\n",
              "1                           Name  ...                  19919\n",
              "0                    customer_id  ...                  19919\n",
              "\n",
              "[24 rows x 3 columns]"
            ]
          },
          "metadata": {
            "tags": []
          },
          "execution_count": 9
        }
      ]
    },
    {
      "cell_type": "markdown",
      "metadata": {
        "id": "KJZ5DYaZPRIR"
      },
      "source": [
        "<html><b>Here we have feature values that has '?' , nan , -999 , -1 ,etc.. this are the values that might have went missing during datacollection process or has been assigned wrong values instead.\n",
        "So lets clean this values and do some preprocessing task <b></html>"
      ]
    },
    {
      "cell_type": "markdown",
      "metadata": {
        "id": "bWCBEN2wQvNY"
      },
      "source": [
        "####Feature : joined_through_referral"
      ]
    },
    {
      "cell_type": "code",
      "metadata": {
        "colab": {
          "base_uri": "https://localhost:8080/"
        },
        "id": "SG7UrJwNNL9D",
        "outputId": "c8905eac-2b67-4777-8b84-c4c3c5d3f685"
      },
      "source": [
        "print(\"Train :\\n\",train_data['joined_through_referral'].value_counts())\n",
        "\n",
        "print(\"__\"*40)\n",
        "\n",
        "print(\"Test :\\n\",test_data['joined_through_referral'].value_counts())\n"
      ],
      "execution_count": null,
      "outputs": [
        {
          "output_type": "stream",
          "text": [
            "Train :\n",
            " No     15839\n",
            "Yes    15715\n",
            "?       5438\n",
            "Name: joined_through_referral, dtype: int64\n",
            "________________________________________________________________________________\n",
            "Test :\n",
            " Yes    8617\n",
            "No     8304\n",
            "?      2998\n",
            "Name: joined_through_referral, dtype: int64\n"
          ],
          "name": "stdout"
        }
      ]
    },
    {
      "cell_type": "markdown",
      "metadata": {
        "id": "rbN9Btv6R7TK"
      },
      "source": [
        "We have other feature referral_id which has unique referral_id for each customer that has joined through referral.\n",
        "Lets analysis this feature "
      ]
    },
    {
      "cell_type": "code",
      "metadata": {
        "colab": {
          "base_uri": "https://localhost:8080/"
        },
        "id": "zgg3_bXlRTV9",
        "outputId": "b8fabdab-954c-499e-d304-64ec4bcb1ea4"
      },
      "source": [
        "train_data['referral_id'].isnull().sum() , test_data['referral_id'].isnull().sum()"
      ],
      "execution_count": null,
      "outputs": [
        {
          "output_type": "execute_result",
          "data": {
            "text/plain": [
              "(0, 0)"
            ]
          },
          "metadata": {
            "tags": []
          },
          "execution_count": 11
        }
      ]
    },
    {
      "cell_type": "code",
      "metadata": {
        "colab": {
          "base_uri": "https://localhost:8080/"
        },
        "id": "wEjuFExGSkn5",
        "outputId": "1288d770-1a58-42ba-d9b4-f0187ca97307"
      },
      "source": [
        "print(train_data['referral_id'].unique() ,\"\\n\", test_data['referral_id'].unique() )\n",
        "\n",
        "print(\"__\"*40) \n",
        "\n",
        "print(\"\\n\\n\",train_data['referral_id'].value_counts())\n",
        "\n",
        "print(\"__\"*40)\n",
        "\n",
        "print(\"\\n\\n\",test_data['referral_id'].value_counts())"
      ],
      "execution_count": null,
      "outputs": [
        {
          "output_type": "stream",
          "text": [
            "['xxxxxxxx' 'CID21329' 'CID12313' ... 'CID60808' 'CID10431' 'CID45477'] \n",
            " ['xxxxxxxx' 'CID8941' 'CID5690' ... 'CID45490' 'CID37167' 'CID56352']\n",
            "________________________________________________________________________________\n",
            "\n",
            "\n",
            " xxxxxxxx    17846\n",
            "CID43705       12\n",
            "CID3979        11\n",
            "CID49601       10\n",
            "CID15792        9\n",
            "            ...  \n",
            "CID20460        1\n",
            "CID25663        1\n",
            "CID58831        1\n",
            "CID30255        1\n",
            "CID30132        1\n",
            "Name: referral_id, Length: 11359, dtype: int64\n",
            "________________________________________________________________________________\n",
            "\n",
            "\n",
            " xxxxxxxx    9454\n",
            "CID53991       6\n",
            "CID13303       6\n",
            "CID56534       6\n",
            "CID32760       6\n",
            "            ... \n",
            "CID14221       1\n",
            "CID2936        1\n",
            "CID7381        1\n",
            "CID34567       1\n",
            "CID53050       1\n",
            "Name: referral_id, Length: 7603, dtype: int64\n"
          ],
          "name": "stdout"
        }
      ]
    },
    {
      "cell_type": "code",
      "metadata": {
        "colab": {
          "base_uri": "https://localhost:8080/"
        },
        "id": "mCybN09mSoTK",
        "outputId": "fb22397d-93dc-465a-dde7-d8c9ec354903"
      },
      "source": [
        "train_data[['joined_through_referral','referral_id']]"
      ],
      "execution_count": null,
      "outputs": [
        {
          "output_type": "execute_result",
          "data": {
            "text/html": [
              "<div>\n",
              "<style scoped>\n",
              "    .dataframe tbody tr th:only-of-type {\n",
              "        vertical-align: middle;\n",
              "    }\n",
              "\n",
              "    .dataframe tbody tr th {\n",
              "        vertical-align: top;\n",
              "    }\n",
              "\n",
              "    .dataframe thead th {\n",
              "        text-align: right;\n",
              "    }\n",
              "</style>\n",
              "<table border=\"1\" class=\"dataframe\">\n",
              "  <thead>\n",
              "    <tr style=\"text-align: right;\">\n",
              "      <th></th>\n",
              "      <th>joined_through_referral</th>\n",
              "      <th>referral_id</th>\n",
              "    </tr>\n",
              "  </thead>\n",
              "  <tbody>\n",
              "    <tr>\n",
              "      <th>0</th>\n",
              "      <td>No</td>\n",
              "      <td>xxxxxxxx</td>\n",
              "    </tr>\n",
              "    <tr>\n",
              "      <th>1</th>\n",
              "      <td>?</td>\n",
              "      <td>CID21329</td>\n",
              "    </tr>\n",
              "    <tr>\n",
              "      <th>2</th>\n",
              "      <td>Yes</td>\n",
              "      <td>CID12313</td>\n",
              "    </tr>\n",
              "    <tr>\n",
              "      <th>3</th>\n",
              "      <td>Yes</td>\n",
              "      <td>CID3793</td>\n",
              "    </tr>\n",
              "    <tr>\n",
              "      <th>4</th>\n",
              "      <td>No</td>\n",
              "      <td>xxxxxxxx</td>\n",
              "    </tr>\n",
              "    <tr>\n",
              "      <th>...</th>\n",
              "      <td>...</td>\n",
              "      <td>...</td>\n",
              "    </tr>\n",
              "    <tr>\n",
              "      <th>36987</th>\n",
              "      <td>No</td>\n",
              "      <td>xxxxxxxx</td>\n",
              "    </tr>\n",
              "    <tr>\n",
              "      <th>36988</th>\n",
              "      <td>No</td>\n",
              "      <td>xxxxxxxx</td>\n",
              "    </tr>\n",
              "    <tr>\n",
              "      <th>36989</th>\n",
              "      <td>Yes</td>\n",
              "      <td>CID3838</td>\n",
              "    </tr>\n",
              "    <tr>\n",
              "      <th>36990</th>\n",
              "      <td>No</td>\n",
              "      <td>xxxxxxxx</td>\n",
              "    </tr>\n",
              "    <tr>\n",
              "      <th>36991</th>\n",
              "      <td>No</td>\n",
              "      <td>xxxxxxxx</td>\n",
              "    </tr>\n",
              "  </tbody>\n",
              "</table>\n",
              "<p>36992 rows × 2 columns</p>\n",
              "</div>"
            ],
            "text/plain": [
              "      joined_through_referral referral_id\n",
              "0                          No    xxxxxxxx\n",
              "1                           ?    CID21329\n",
              "2                         Yes    CID12313\n",
              "3                         Yes     CID3793\n",
              "4                          No    xxxxxxxx\n",
              "...                       ...         ...\n",
              "36987                      No    xxxxxxxx\n",
              "36988                      No    xxxxxxxx\n",
              "36989                     Yes     CID3838\n",
              "36990                      No    xxxxxxxx\n",
              "36991                      No    xxxxxxxx\n",
              "\n",
              "[36992 rows x 2 columns]"
            ]
          },
          "metadata": {
            "tags": []
          },
          "execution_count": 13
        }
      ]
    },
    {
      "cell_type": "code",
      "metadata": {
        "colab": {
          "base_uri": "https://localhost:8080/"
        },
        "id": "0am83woDTiCe",
        "outputId": "fb8972cc-a44b-4380-fccb-13b086325581"
      },
      "source": [
        "test_data[['joined_through_referral','referral_id']]"
      ],
      "execution_count": null,
      "outputs": [
        {
          "output_type": "execute_result",
          "data": {
            "text/html": [
              "<div>\n",
              "<style scoped>\n",
              "    .dataframe tbody tr th:only-of-type {\n",
              "        vertical-align: middle;\n",
              "    }\n",
              "\n",
              "    .dataframe tbody tr th {\n",
              "        vertical-align: top;\n",
              "    }\n",
              "\n",
              "    .dataframe thead th {\n",
              "        text-align: right;\n",
              "    }\n",
              "</style>\n",
              "<table border=\"1\" class=\"dataframe\">\n",
              "  <thead>\n",
              "    <tr style=\"text-align: right;\">\n",
              "      <th></th>\n",
              "      <th>joined_through_referral</th>\n",
              "      <th>referral_id</th>\n",
              "    </tr>\n",
              "  </thead>\n",
              "  <tbody>\n",
              "    <tr>\n",
              "      <th>0</th>\n",
              "      <td>No</td>\n",
              "      <td>xxxxxxxx</td>\n",
              "    </tr>\n",
              "    <tr>\n",
              "      <th>1</th>\n",
              "      <td>No</td>\n",
              "      <td>xxxxxxxx</td>\n",
              "    </tr>\n",
              "    <tr>\n",
              "      <th>2</th>\n",
              "      <td>No</td>\n",
              "      <td>xxxxxxxx</td>\n",
              "    </tr>\n",
              "    <tr>\n",
              "      <th>3</th>\n",
              "      <td>Yes</td>\n",
              "      <td>CID8941</td>\n",
              "    </tr>\n",
              "    <tr>\n",
              "      <th>4</th>\n",
              "      <td>Yes</td>\n",
              "      <td>CID5690</td>\n",
              "    </tr>\n",
              "    <tr>\n",
              "      <th>...</th>\n",
              "      <td>...</td>\n",
              "      <td>...</td>\n",
              "    </tr>\n",
              "    <tr>\n",
              "      <th>19914</th>\n",
              "      <td>No</td>\n",
              "      <td>xxxxxxxx</td>\n",
              "    </tr>\n",
              "    <tr>\n",
              "      <th>19915</th>\n",
              "      <td>Yes</td>\n",
              "      <td>CID45490</td>\n",
              "    </tr>\n",
              "    <tr>\n",
              "      <th>19916</th>\n",
              "      <td>No</td>\n",
              "      <td>xxxxxxxx</td>\n",
              "    </tr>\n",
              "    <tr>\n",
              "      <th>19917</th>\n",
              "      <td>Yes</td>\n",
              "      <td>CID37167</td>\n",
              "    </tr>\n",
              "    <tr>\n",
              "      <th>19918</th>\n",
              "      <td>Yes</td>\n",
              "      <td>CID56352</td>\n",
              "    </tr>\n",
              "  </tbody>\n",
              "</table>\n",
              "<p>19919 rows × 2 columns</p>\n",
              "</div>"
            ],
            "text/plain": [
              "      joined_through_referral referral_id\n",
              "0                          No    xxxxxxxx\n",
              "1                          No    xxxxxxxx\n",
              "2                          No    xxxxxxxx\n",
              "3                         Yes     CID8941\n",
              "4                         Yes     CID5690\n",
              "...                       ...         ...\n",
              "19914                      No    xxxxxxxx\n",
              "19915                     Yes    CID45490\n",
              "19916                      No    xxxxxxxx\n",
              "19917                     Yes    CID37167\n",
              "19918                     Yes    CID56352\n",
              "\n",
              "[19919 rows x 2 columns]"
            ]
          },
          "metadata": {
            "tags": []
          },
          "execution_count": 14
        }
      ]
    },
    {
      "cell_type": "code",
      "metadata": {
        "colab": {
          "base_uri": "https://localhost:8080/"
        },
        "id": "QeGQA82gTlBo",
        "outputId": "896e17d3-b82a-46d1-8895-8bbfd23b40a3"
      },
      "source": [
        "train_data[(train_data['joined_through_referral']=='Yes')][['joined_through_referral','referral_id']]"
      ],
      "execution_count": null,
      "outputs": [
        {
          "output_type": "execute_result",
          "data": {
            "text/html": [
              "<div>\n",
              "<style scoped>\n",
              "    .dataframe tbody tr th:only-of-type {\n",
              "        vertical-align: middle;\n",
              "    }\n",
              "\n",
              "    .dataframe tbody tr th {\n",
              "        vertical-align: top;\n",
              "    }\n",
              "\n",
              "    .dataframe thead th {\n",
              "        text-align: right;\n",
              "    }\n",
              "</style>\n",
              "<table border=\"1\" class=\"dataframe\">\n",
              "  <thead>\n",
              "    <tr style=\"text-align: right;\">\n",
              "      <th></th>\n",
              "      <th>joined_through_referral</th>\n",
              "      <th>referral_id</th>\n",
              "    </tr>\n",
              "  </thead>\n",
              "  <tbody>\n",
              "    <tr>\n",
              "      <th>2</th>\n",
              "      <td>Yes</td>\n",
              "      <td>CID12313</td>\n",
              "    </tr>\n",
              "    <tr>\n",
              "      <th>3</th>\n",
              "      <td>Yes</td>\n",
              "      <td>CID3793</td>\n",
              "    </tr>\n",
              "    <tr>\n",
              "      <th>6</th>\n",
              "      <td>Yes</td>\n",
              "      <td>CID24708</td>\n",
              "    </tr>\n",
              "    <tr>\n",
              "      <th>10</th>\n",
              "      <td>Yes</td>\n",
              "      <td>CID19275</td>\n",
              "    </tr>\n",
              "    <tr>\n",
              "      <th>13</th>\n",
              "      <td>Yes</td>\n",
              "      <td>CID10856</td>\n",
              "    </tr>\n",
              "    <tr>\n",
              "      <th>...</th>\n",
              "      <td>...</td>\n",
              "      <td>...</td>\n",
              "    </tr>\n",
              "    <tr>\n",
              "      <th>36978</th>\n",
              "      <td>Yes</td>\n",
              "      <td>CID57663</td>\n",
              "    </tr>\n",
              "    <tr>\n",
              "      <th>36981</th>\n",
              "      <td>Yes</td>\n",
              "      <td>CID50041</td>\n",
              "    </tr>\n",
              "    <tr>\n",
              "      <th>36983</th>\n",
              "      <td>Yes</td>\n",
              "      <td>CID45477</td>\n",
              "    </tr>\n",
              "    <tr>\n",
              "      <th>36986</th>\n",
              "      <td>Yes</td>\n",
              "      <td>CID15800</td>\n",
              "    </tr>\n",
              "    <tr>\n",
              "      <th>36989</th>\n",
              "      <td>Yes</td>\n",
              "      <td>CID3838</td>\n",
              "    </tr>\n",
              "  </tbody>\n",
              "</table>\n",
              "<p>15715 rows × 2 columns</p>\n",
              "</div>"
            ],
            "text/plain": [
              "      joined_through_referral referral_id\n",
              "2                         Yes    CID12313\n",
              "3                         Yes     CID3793\n",
              "6                         Yes    CID24708\n",
              "10                        Yes    CID19275\n",
              "13                        Yes    CID10856\n",
              "...                       ...         ...\n",
              "36978                     Yes    CID57663\n",
              "36981                     Yes    CID50041\n",
              "36983                     Yes    CID45477\n",
              "36986                     Yes    CID15800\n",
              "36989                     Yes     CID3838\n",
              "\n",
              "[15715 rows x 2 columns]"
            ]
          },
          "metadata": {
            "tags": []
          },
          "execution_count": 15
        }
      ]
    },
    {
      "cell_type": "code",
      "metadata": {
        "colab": {
          "base_uri": "https://localhost:8080/"
        },
        "id": "XP7Qks2BTqiO",
        "outputId": "09e2e7c0-1bbd-4893-b025-e48a338254da"
      },
      "source": [
        "train_data[(train_data['joined_through_referral']=='No')][['joined_through_referral','referral_id']]"
      ],
      "execution_count": null,
      "outputs": [
        {
          "output_type": "execute_result",
          "data": {
            "text/html": [
              "<div>\n",
              "<style scoped>\n",
              "    .dataframe tbody tr th:only-of-type {\n",
              "        vertical-align: middle;\n",
              "    }\n",
              "\n",
              "    .dataframe tbody tr th {\n",
              "        vertical-align: top;\n",
              "    }\n",
              "\n",
              "    .dataframe thead th {\n",
              "        text-align: right;\n",
              "    }\n",
              "</style>\n",
              "<table border=\"1\" class=\"dataframe\">\n",
              "  <thead>\n",
              "    <tr style=\"text-align: right;\">\n",
              "      <th></th>\n",
              "      <th>joined_through_referral</th>\n",
              "      <th>referral_id</th>\n",
              "    </tr>\n",
              "  </thead>\n",
              "  <tbody>\n",
              "    <tr>\n",
              "      <th>0</th>\n",
              "      <td>No</td>\n",
              "      <td>xxxxxxxx</td>\n",
              "    </tr>\n",
              "    <tr>\n",
              "      <th>4</th>\n",
              "      <td>No</td>\n",
              "      <td>xxxxxxxx</td>\n",
              "    </tr>\n",
              "    <tr>\n",
              "      <th>5</th>\n",
              "      <td>No</td>\n",
              "      <td>xxxxxxxx</td>\n",
              "    </tr>\n",
              "    <tr>\n",
              "      <th>8</th>\n",
              "      <td>No</td>\n",
              "      <td>xxxxxxxx</td>\n",
              "    </tr>\n",
              "    <tr>\n",
              "      <th>9</th>\n",
              "      <td>No</td>\n",
              "      <td>xxxxxxxx</td>\n",
              "    </tr>\n",
              "    <tr>\n",
              "      <th>...</th>\n",
              "      <td>...</td>\n",
              "      <td>...</td>\n",
              "    </tr>\n",
              "    <tr>\n",
              "      <th>36985</th>\n",
              "      <td>No</td>\n",
              "      <td>xxxxxxxx</td>\n",
              "    </tr>\n",
              "    <tr>\n",
              "      <th>36987</th>\n",
              "      <td>No</td>\n",
              "      <td>xxxxxxxx</td>\n",
              "    </tr>\n",
              "    <tr>\n",
              "      <th>36988</th>\n",
              "      <td>No</td>\n",
              "      <td>xxxxxxxx</td>\n",
              "    </tr>\n",
              "    <tr>\n",
              "      <th>36990</th>\n",
              "      <td>No</td>\n",
              "      <td>xxxxxxxx</td>\n",
              "    </tr>\n",
              "    <tr>\n",
              "      <th>36991</th>\n",
              "      <td>No</td>\n",
              "      <td>xxxxxxxx</td>\n",
              "    </tr>\n",
              "  </tbody>\n",
              "</table>\n",
              "<p>15839 rows × 2 columns</p>\n",
              "</div>"
            ],
            "text/plain": [
              "      joined_through_referral referral_id\n",
              "0                          No    xxxxxxxx\n",
              "4                          No    xxxxxxxx\n",
              "5                          No    xxxxxxxx\n",
              "8                          No    xxxxxxxx\n",
              "9                          No    xxxxxxxx\n",
              "...                       ...         ...\n",
              "36985                      No    xxxxxxxx\n",
              "36987                      No    xxxxxxxx\n",
              "36988                      No    xxxxxxxx\n",
              "36990                      No    xxxxxxxx\n",
              "36991                      No    xxxxxxxx\n",
              "\n",
              "[15839 rows x 2 columns]"
            ]
          },
          "metadata": {
            "tags": []
          },
          "execution_count": 16
        }
      ]
    },
    {
      "cell_type": "code",
      "metadata": {
        "colab": {
          "base_uri": "https://localhost:8080/"
        },
        "id": "6nZbTpywTtGq",
        "outputId": "017041d9-73e5-4aa6-cb62-a01b45ee9c8f"
      },
      "source": [
        "train_data[(train_data['joined_through_referral']=='Yes') & train_data['referral_id']=='xxxxxxxx']"
      ],
      "execution_count": null,
      "outputs": [
        {
          "output_type": "execute_result",
          "data": {
            "text/html": [
              "<div>\n",
              "<style scoped>\n",
              "    .dataframe tbody tr th:only-of-type {\n",
              "        vertical-align: middle;\n",
              "    }\n",
              "\n",
              "    .dataframe tbody tr th {\n",
              "        vertical-align: top;\n",
              "    }\n",
              "\n",
              "    .dataframe thead th {\n",
              "        text-align: right;\n",
              "    }\n",
              "</style>\n",
              "<table border=\"1\" class=\"dataframe\">\n",
              "  <thead>\n",
              "    <tr style=\"text-align: right;\">\n",
              "      <th></th>\n",
              "      <th>customer_id</th>\n",
              "      <th>Name</th>\n",
              "      <th>age</th>\n",
              "      <th>gender</th>\n",
              "      <th>security_no</th>\n",
              "      <th>region_category</th>\n",
              "      <th>membership_category</th>\n",
              "      <th>joining_date</th>\n",
              "      <th>joined_through_referral</th>\n",
              "      <th>referral_id</th>\n",
              "      <th>preferred_offer_types</th>\n",
              "      <th>medium_of_operation</th>\n",
              "      <th>internet_option</th>\n",
              "      <th>last_visit_time</th>\n",
              "      <th>days_since_last_login</th>\n",
              "      <th>avg_time_spent</th>\n",
              "      <th>avg_transaction_value</th>\n",
              "      <th>avg_frequency_login_days</th>\n",
              "      <th>points_in_wallet</th>\n",
              "      <th>used_special_discount</th>\n",
              "      <th>offer_application_preference</th>\n",
              "      <th>past_complaint</th>\n",
              "      <th>complaint_status</th>\n",
              "      <th>feedback</th>\n",
              "      <th>churn_risk_score</th>\n",
              "    </tr>\n",
              "  </thead>\n",
              "  <tbody>\n",
              "  </tbody>\n",
              "</table>\n",
              "</div>"
            ],
            "text/plain": [
              "Empty DataFrame\n",
              "Columns: [customer_id, Name, age, gender, security_no, region_category, membership_category, joining_date, joined_through_referral, referral_id, preferred_offer_types, medium_of_operation, internet_option, last_visit_time, days_since_last_login, avg_time_spent, avg_transaction_value, avg_frequency_login_days, points_in_wallet, used_special_discount, offer_application_preference, past_complaint, complaint_status, feedback, churn_risk_score]\n",
              "Index: []"
            ]
          },
          "metadata": {
            "tags": []
          },
          "execution_count": 17
        }
      ]
    },
    {
      "cell_type": "markdown",
      "metadata": {
        "id": "hhHrE8XeTyFx"
      },
      "source": [
        "Thus from above analysis we can say that user that did not join through referral has referral_id feature value as 'xxxxxxxx' value with corresponding value as 'No' in joined_through_referral feature.\n",
        "\n",
        "Lets fill missing values for joined_through_referral feature"
      ]
    },
    {
      "cell_type": "code",
      "metadata": {
        "colab": {
          "base_uri": "https://localhost:8080/"
        },
        "id": "ydfCfuA3TwxE",
        "outputId": "78a2b421-9763-4e8c-ebbc-fd92b6ed619c"
      },
      "source": [
        "train_data['joined_through_referral'] = train_data['referral_id'].apply(lambda x : 'No' if x == 'xxxxxxxx' else 'Yes')\n",
        "test_data['joined_through_referral'] = test_data['referral_id'].apply(lambda x : 'No' if x == 'xxxxxxxx' else 'Yes')\n",
        "\n",
        "train_data['joined_through_referral'].isnull().sum() , test_data['joined_through_referral'].isnull().sum()"
      ],
      "execution_count": null,
      "outputs": [
        {
          "output_type": "execute_result",
          "data": {
            "text/plain": [
              "(0, 0)"
            ]
          },
          "metadata": {
            "tags": []
          },
          "execution_count": 18
        }
      ]
    },
    {
      "cell_type": "markdown",
      "metadata": {
        "id": "kFQr5nxSVcF0"
      },
      "source": [
        "####Feature : medium_of_operation"
      ]
    },
    {
      "cell_type": "code",
      "metadata": {
        "colab": {
          "base_uri": "https://localhost:8080/"
        },
        "id": "cJ8eAYJ9VVRH",
        "outputId": "11abe406-7af7-4479-bf64-5d7fe77b2c7c"
      },
      "source": [
        "print(train_data['medium_of_operation'].value_counts())\n",
        "print(\"- -\"*20)\n",
        "print(test_data['medium_of_operation'].value_counts())"
      ],
      "execution_count": null,
      "outputs": [
        {
          "output_type": "stream",
          "text": [
            "Desktop       13913\n",
            "Smartphone    13876\n",
            "?              5393\n",
            "Both           3810\n",
            "Name: medium_of_operation, dtype: int64\n",
            "- -- -- -- -- -- -- -- -- -- -- -- -- -- -- -- -- -- -- -- -\n",
            "Desktop       7463\n",
            "Smartphone    7405\n",
            "?             2964\n",
            "Both          2087\n",
            "Name: medium_of_operation, dtype: int64\n"
          ],
          "name": "stdout"
        }
      ]
    },
    {
      "cell_type": "markdown",
      "metadata": {
        "id": "JkYjcPLiWTK_"
      },
      "source": [
        "Can replace ? with mode but that can skew the distribution .\n",
        "We can fill ? as other category(that can be Laptop,Tablets,etc used to login website)"
      ]
    },
    {
      "cell_type": "code",
      "metadata": {
        "id": "4KXRpI_4ZJCs"
      },
      "source": [
        "temp_train = train_data.copy()\n",
        "temp_test = test_data.copy()"
      ],
      "execution_count": null,
      "outputs": []
    },
    {
      "cell_type": "code",
      "metadata": {
        "colab": {
          "base_uri": "https://localhost:8080/"
        },
        "id": "U9Uu68bDcW8t",
        "outputId": "04c69221-f0c5-40f6-8d44-6e1a14bd467e"
      },
      "source": [
        "#before\n",
        "counts = temp_train['medium_of_operation'].value_counts()\n",
        "counts"
      ],
      "execution_count": null,
      "outputs": [
        {
          "output_type": "execute_result",
          "data": {
            "text/plain": [
              "Desktop       13913\n",
              "Smartphone    13876\n",
              "?              5393\n",
              "Both           3810\n",
              "Name: medium_of_operation, dtype: int64"
            ]
          },
          "metadata": {
            "tags": []
          },
          "execution_count": 21
        }
      ]
    },
    {
      "cell_type": "code",
      "metadata": {
        "id": "a5BN4d1GXKZv"
      },
      "source": [
        "train_data['medium_of_operation'] = train_data['medium_of_operation'].replace('?',np.nan)\n",
        "test_data['medium_of_operation'] = test_data['medium_of_operation'].replace('?',np.nan)\n",
        "\n"
      ],
      "execution_count": null,
      "outputs": []
    },
    {
      "cell_type": "markdown",
      "metadata": {
        "id": "0v2j7l9hfFDz"
      },
      "source": [
        "Imputation in later steps"
      ]
    },
    {
      "cell_type": "markdown",
      "metadata": {
        "id": "YrgjL7Nrgdd9"
      },
      "source": [
        "####Feature :region category"
      ]
    },
    {
      "cell_type": "code",
      "metadata": {
        "colab": {
          "base_uri": "https://localhost:8080/"
        },
        "id": "8oRq4alEqe-D",
        "outputId": "18a28d00-9125-4823-953c-bd4f299b64ba"
      },
      "source": [
        "train_data['region_category'].isnull().sum()"
      ],
      "execution_count": null,
      "outputs": [
        {
          "output_type": "execute_result",
          "data": {
            "text/plain": [
              "5428"
            ]
          },
          "metadata": {
            "tags": []
          },
          "execution_count": 23
        }
      ]
    },
    {
      "cell_type": "code",
      "metadata": {
        "colab": {
          "base_uri": "https://localhost:8080/"
        },
        "id": "KGCyHTdAfmmC",
        "outputId": "846bf02e-d951-44da-d6c0-00c2553d7306"
      },
      "source": [
        "train_data['region_category'].value_counts()"
      ],
      "execution_count": null,
      "outputs": [
        {
          "output_type": "execute_result",
          "data": {
            "text/plain": [
              "Town       14128\n",
              "City       12737\n",
              "Village     4699\n",
              "Name: region_category, dtype: int64"
            ]
          },
          "metadata": {
            "tags": []
          },
          "execution_count": 24
        }
      ]
    },
    {
      "cell_type": "code",
      "metadata": {
        "colab": {
          "base_uri": "https://localhost:8080/"
        },
        "id": "pPHGqG-eT7dL",
        "outputId": "492cec8d-0b4b-45f8-b2c1-d8d95079bc8c"
      },
      "source": [
        "sns.countplot(x = 'churn_risk_score' , palette= 'hsv', data=train_data,hue='region_category') ;\n",
        "plt.title(\"Count plot of region category \");"
      ],
      "execution_count": null,
      "outputs": [
        {
          "output_type": "display_data",
          "data": {
            "image/png": "[encoded data removed]",
            "text/plain": [
              "<Figure size 432x288 with 1 Axes>"
            ]
          },
          "metadata": {
            "tags": [],
            "needs_background": "light"
          }
        }
      ]
    },
    {
      "cell_type": "markdown",
      "metadata": {
        "id": "5ilJGdwjrQ6s"
      },
      "source": [
        "We can see that we have more customers from town / City compared to village .\n",
        "We will impute null values in later steps"
      ]
    },
    {
      "cell_type": "markdown",
      "metadata": {
        "id": "lQi-8BlBswj0"
      },
      "source": [
        "#### Feature : days_since_last_login"
      ]
    },
    {
      "cell_type": "code",
      "metadata": {
        "colab": {
          "base_uri": "https://localhost:8080/"
        },
        "id": "Z1KDR170s019",
        "outputId": "60ea1ab4-c071-4887-99b3-c823f2bcb74e"
      },
      "source": [
        "days=train_data['days_since_last_login'].unique()\n",
        "days.sort()\n",
        "print(days)\n",
        "\n",
        "print(\"- -\"*40)\n",
        "\n",
        "days=test_data['days_since_last_login'].unique()\n",
        "days.sort()\n",
        "print(days)"
      ],
      "execution_count": null,
      "outputs": [
        {
          "output_type": "stream",
          "text": [
            "[-999    1    2    3    4    5    6    7    8    9   10   11   12   13\n",
            "   14   15   16   17   18   19   20   21   22   23   24   25   26]\n",
            "- -- -- -- -- -- -- -- -- -- -- -- -- -- -- -- -- -- -- -- -- -- -- -- -- -- -- -- -- -- -- -- -- -- -- -- -- -- -- -- -\n",
            "[-999    1    2    3    4    5    6    7    8    9   10   11   12   13\n",
            "   14   15   16   17   18   19   20   21   22   23   24   25   26]\n"
          ],
          "name": "stdout"
        }
      ]
    },
    {
      "cell_type": "code",
      "metadata": {
        "colab": {
          "base_uri": "https://localhost:8080/"
        },
        "id": "DSnC6m2Fs0yX",
        "outputId": "84205950-0ae0-4653-aab0-3ff078600487"
      },
      "source": [
        "train_data[(train_data['days_since_last_login']==26) & (train_data['churn_risk_score']<3)]   #we can see that more number of days the customer has last login impacts churn risk score"
      ],
      "execution_count": null,
      "outputs": [
        {
          "output_type": "execute_result",
          "data": {
            "text/html": [
              "<div>\n",
              "<style scoped>\n",
              "    .dataframe tbody tr th:only-of-type {\n",
              "        vertical-align: middle;\n",
              "    }\n",
              "\n",
              "    .dataframe tbody tr th {\n",
              "        vertical-align: top;\n",
              "    }\n",
              "\n",
              "    .dataframe thead th {\n",
              "        text-align: right;\n",
              "    }\n",
              "</style>\n",
              "<table border=\"1\" class=\"dataframe\">\n",
              "  <thead>\n",
              "    <tr style=\"text-align: right;\">\n",
              "      <th></th>\n",
              "      <th>customer_id</th>\n",
              "      <th>Name</th>\n",
              "      <th>age</th>\n",
              "      <th>gender</th>\n",
              "      <th>security_no</th>\n",
              "      <th>region_category</th>\n",
              "      <th>membership_category</th>\n",
              "      <th>joining_date</th>\n",
              "      <th>joined_through_referral</th>\n",
              "      <th>referral_id</th>\n",
              "      <th>preferred_offer_types</th>\n",
              "      <th>medium_of_operation</th>\n",
              "      <th>internet_option</th>\n",
              "      <th>last_visit_time</th>\n",
              "      <th>days_since_last_login</th>\n",
              "      <th>avg_time_spent</th>\n",
              "      <th>avg_transaction_value</th>\n",
              "      <th>avg_frequency_login_days</th>\n",
              "      <th>points_in_wallet</th>\n",
              "      <th>used_special_discount</th>\n",
              "      <th>offer_application_preference</th>\n",
              "      <th>past_complaint</th>\n",
              "      <th>complaint_status</th>\n",
              "      <th>feedback</th>\n",
              "      <th>churn_risk_score</th>\n",
              "    </tr>\n",
              "  </thead>\n",
              "  <tbody>\n",
              "    <tr>\n",
              "      <th>2363</th>\n",
              "      <td>fffe43004900440033003000370031003900</td>\n",
              "      <td>Earlie Flick</td>\n",
              "      <td>19</td>\n",
              "      <td>F</td>\n",
              "      <td>FJO2EC4</td>\n",
              "      <td>City</td>\n",
              "      <td>Platinum Membership</td>\n",
              "      <td>2017-06-09</td>\n",
              "      <td>No</td>\n",
              "      <td>xxxxxxxx</td>\n",
              "      <td>Gift Vouchers/Coupons</td>\n",
              "      <td>Both</td>\n",
              "      <td>Wi-Fi</td>\n",
              "      <td>23:40:33</td>\n",
              "      <td>26</td>\n",
              "      <td>487.560000</td>\n",
              "      <td>89921.83</td>\n",
              "      <td>11.0</td>\n",
              "      <td>827.950000</td>\n",
              "      <td>Yes</td>\n",
              "      <td>No</td>\n",
              "      <td>Yes</td>\n",
              "      <td>Solved in Follow-up</td>\n",
              "      <td>Products always in Stock</td>\n",
              "      <td>-1</td>\n",
              "    </tr>\n",
              "    <tr>\n",
              "      <th>6787</th>\n",
              "      <td>fffe43004900440033003800380036003400</td>\n",
              "      <td>Bryon Shoaf</td>\n",
              "      <td>14</td>\n",
              "      <td>F</td>\n",
              "      <td>FL0DLRD</td>\n",
              "      <td>City</td>\n",
              "      <td>Silver Membership</td>\n",
              "      <td>2017-05-15</td>\n",
              "      <td>No</td>\n",
              "      <td>xxxxxxxx</td>\n",
              "      <td>Gift Vouchers/Coupons</td>\n",
              "      <td>Desktop</td>\n",
              "      <td>Wi-Fi</td>\n",
              "      <td>21:16:46</td>\n",
              "      <td>26</td>\n",
              "      <td>1388.223474</td>\n",
              "      <td>23984.31</td>\n",
              "      <td>3.0</td>\n",
              "      <td>712.960000</td>\n",
              "      <td>Yes</td>\n",
              "      <td>No</td>\n",
              "      <td>No</td>\n",
              "      <td>Not Applicable</td>\n",
              "      <td>Reasonable Price</td>\n",
              "      <td>-1</td>\n",
              "    </tr>\n",
              "    <tr>\n",
              "      <th>14404</th>\n",
              "      <td>fffe43004900440032003200310031003000</td>\n",
              "      <td>Ardella Abel</td>\n",
              "      <td>47</td>\n",
              "      <td>F</td>\n",
              "      <td>EJUVQJZ</td>\n",
              "      <td>City</td>\n",
              "      <td>Platinum Membership</td>\n",
              "      <td>2016-12-09</td>\n",
              "      <td>Yes</td>\n",
              "      <td>CID58833</td>\n",
              "      <td>Gift Vouchers/Coupons</td>\n",
              "      <td>Smartphone</td>\n",
              "      <td>Mobile_Data</td>\n",
              "      <td>13:17:55</td>\n",
              "      <td>26</td>\n",
              "      <td>65.590000</td>\n",
              "      <td>29549.00</td>\n",
              "      <td>Error</td>\n",
              "      <td>1131.953931</td>\n",
              "      <td>Yes</td>\n",
              "      <td>No</td>\n",
              "      <td>No</td>\n",
              "      <td>Not Applicable</td>\n",
              "      <td>Too many ads</td>\n",
              "      <td>-1</td>\n",
              "    </tr>\n",
              "    <tr>\n",
              "      <th>15593</th>\n",
              "      <td>fffe43004900440035003400350035003100</td>\n",
              "      <td>Marlena Villicana</td>\n",
              "      <td>45</td>\n",
              "      <td>M</td>\n",
              "      <td>YWK74OD</td>\n",
              "      <td>Village</td>\n",
              "      <td>Gold Membership</td>\n",
              "      <td>2017-02-16</td>\n",
              "      <td>No</td>\n",
              "      <td>xxxxxxxx</td>\n",
              "      <td>Gift Vouchers/Coupons</td>\n",
              "      <td>Desktop</td>\n",
              "      <td>Wi-Fi</td>\n",
              "      <td>20:30:54</td>\n",
              "      <td>26</td>\n",
              "      <td>-1006.401483</td>\n",
              "      <td>9532.45</td>\n",
              "      <td>29.530489802652568</td>\n",
              "      <td>725.950000</td>\n",
              "      <td>Yes</td>\n",
              "      <td>No</td>\n",
              "      <td>Yes</td>\n",
              "      <td>No Information Available</td>\n",
              "      <td>Reasonable Price</td>\n",
              "      <td>2</td>\n",
              "    </tr>\n",
              "    <tr>\n",
              "      <th>20114</th>\n",
              "      <td>fffe43004900440032003700340034003700</td>\n",
              "      <td>Elna Boan</td>\n",
              "      <td>21</td>\n",
              "      <td>M</td>\n",
              "      <td>4O9ANZI</td>\n",
              "      <td>City</td>\n",
              "      <td>Premium Membership</td>\n",
              "      <td>2016-12-17</td>\n",
              "      <td>Yes</td>\n",
              "      <td>CID58933</td>\n",
              "      <td>Gift Vouchers/Coupons</td>\n",
              "      <td>Smartphone</td>\n",
              "      <td>Mobile_Data</td>\n",
              "      <td>07:24:36</td>\n",
              "      <td>26</td>\n",
              "      <td>64.870000</td>\n",
              "      <td>99593.56</td>\n",
              "      <td>15.0</td>\n",
              "      <td>NaN</td>\n",
              "      <td>Yes</td>\n",
              "      <td>No</td>\n",
              "      <td>No</td>\n",
              "      <td>Not Applicable</td>\n",
              "      <td>User Friendly Website</td>\n",
              "      <td>2</td>\n",
              "    </tr>\n",
              "    <tr>\n",
              "      <th>21055</th>\n",
              "      <td>fffe43004900440034003800350039003400</td>\n",
              "      <td>Evelina Alverson</td>\n",
              "      <td>22</td>\n",
              "      <td>M</td>\n",
              "      <td>5DAWJ5S</td>\n",
              "      <td>City</td>\n",
              "      <td>Premium Membership</td>\n",
              "      <td>2015-03-11</td>\n",
              "      <td>No</td>\n",
              "      <td>xxxxxxxx</td>\n",
              "      <td>Without Offers</td>\n",
              "      <td>Smartphone</td>\n",
              "      <td>Mobile_Data</td>\n",
              "      <td>08:40:28</td>\n",
              "      <td>26</td>\n",
              "      <td>-1002.060971</td>\n",
              "      <td>21957.44</td>\n",
              "      <td>6.0</td>\n",
              "      <td>NaN</td>\n",
              "      <td>Yes</td>\n",
              "      <td>No</td>\n",
              "      <td>No</td>\n",
              "      <td>Not Applicable</td>\n",
              "      <td>Quality Customer Care</td>\n",
              "      <td>2</td>\n",
              "    </tr>\n",
              "    <tr>\n",
              "      <th>28785</th>\n",
              "      <td>fffe43004900440031003400350034003700</td>\n",
              "      <td>Marylee Heyen</td>\n",
              "      <td>35</td>\n",
              "      <td>M</td>\n",
              "      <td>SXJNAZP</td>\n",
              "      <td>City</td>\n",
              "      <td>Gold Membership</td>\n",
              "      <td>2015-08-26</td>\n",
              "      <td>No</td>\n",
              "      <td>xxxxxxxx</td>\n",
              "      <td>Without Offers</td>\n",
              "      <td>Smartphone</td>\n",
              "      <td>Wi-Fi</td>\n",
              "      <td>03:31:40</td>\n",
              "      <td>26</td>\n",
              "      <td>34.080000</td>\n",
              "      <td>1489.71</td>\n",
              "      <td>47.4568360737686</td>\n",
              "      <td>1026.923714</td>\n",
              "      <td>No</td>\n",
              "      <td>Yes</td>\n",
              "      <td>Yes</td>\n",
              "      <td>Solved</td>\n",
              "      <td>No reason specified</td>\n",
              "      <td>-1</td>\n",
              "    </tr>\n",
              "    <tr>\n",
              "      <th>31514</th>\n",
              "      <td>fffe43004900440031003300310034003100</td>\n",
              "      <td>Silvana Fludd</td>\n",
              "      <td>10</td>\n",
              "      <td>F</td>\n",
              "      <td>D5PDU19</td>\n",
              "      <td>Town</td>\n",
              "      <td>Silver Membership</td>\n",
              "      <td>2015-07-31</td>\n",
              "      <td>No</td>\n",
              "      <td>xxxxxxxx</td>\n",
              "      <td>Gift Vouchers/Coupons</td>\n",
              "      <td>Smartphone</td>\n",
              "      <td>Wi-Fi</td>\n",
              "      <td>00:41:20</td>\n",
              "      <td>26</td>\n",
              "      <td>379.360000</td>\n",
              "      <td>81541.93</td>\n",
              "      <td>2.0</td>\n",
              "      <td>712.580000</td>\n",
              "      <td>Yes</td>\n",
              "      <td>Yes</td>\n",
              "      <td>Yes</td>\n",
              "      <td>Solved in Follow-up</td>\n",
              "      <td>User Friendly Website</td>\n",
              "      <td>2</td>\n",
              "    </tr>\n",
              "    <tr>\n",
              "      <th>34022</th>\n",
              "      <td>fffe43004900440033003500360039003800</td>\n",
              "      <td>Maricela Norling</td>\n",
              "      <td>48</td>\n",
              "      <td>F</td>\n",
              "      <td>IPQYE04</td>\n",
              "      <td>NaN</td>\n",
              "      <td>Platinum Membership</td>\n",
              "      <td>2017-06-17</td>\n",
              "      <td>No</td>\n",
              "      <td>xxxxxxxx</td>\n",
              "      <td>Without Offers</td>\n",
              "      <td>Desktop</td>\n",
              "      <td>Wi-Fi</td>\n",
              "      <td>14:04:20</td>\n",
              "      <td>26</td>\n",
              "      <td>82.050000</td>\n",
              "      <td>97518.17</td>\n",
              "      <td>Error</td>\n",
              "      <td>824.250000</td>\n",
              "      <td>No</td>\n",
              "      <td>Yes</td>\n",
              "      <td>Yes</td>\n",
              "      <td>No Information Available</td>\n",
              "      <td>Products always in Stock</td>\n",
              "      <td>1</td>\n",
              "    </tr>\n",
              "  </tbody>\n",
              "</table>\n",
              "</div>"
            ],
            "text/plain": [
              "                                customer_id  ... churn_risk_score\n",
              "2363   fffe43004900440033003000370031003900  ...               -1\n",
              "6787   fffe43004900440033003800380036003400  ...               -1\n",
              "14404  fffe43004900440032003200310031003000  ...               -1\n",
              "15593  fffe43004900440035003400350035003100  ...                2\n",
              "20114  fffe43004900440032003700340034003700  ...                2\n",
              "21055  fffe43004900440034003800350039003400  ...                2\n",
              "28785  fffe43004900440031003400350034003700  ...               -1\n",
              "31514  fffe43004900440031003300310034003100  ...                2\n",
              "34022  fffe43004900440033003500360039003800  ...                1\n",
              "\n",
              "[9 rows x 25 columns]"
            ]
          },
          "metadata": {
            "tags": []
          },
          "execution_count": 27
        }
      ]
    },
    {
      "cell_type": "markdown",
      "metadata": {
        "id": "3U7UUN30vcCI"
      },
      "source": [
        "We will replace -999 to nan and we will impute NaN values in later steps"
      ]
    },
    {
      "cell_type": "code",
      "metadata": {
        "colab": {
          "base_uri": "https://localhost:8080/"
        },
        "id": "CtFvn_o8s0tH",
        "outputId": "865743a1-f466-411d-fc3b-d0966d2b91ee"
      },
      "source": [
        "train_data['days_since_last_login'] = train_data['days_since_last_login'].replace(-999,np.nan)\n",
        "test_data['days_since_last_login'] = test_data['days_since_last_login'].replace(-999,np.nan)\n",
        "\n",
        "days=train_data['days_since_last_login'].unique()\n",
        "days.sort()\n",
        "print(days)\n",
        "\n",
        "print(\"- -\"*40)\n",
        "\n",
        "days=test_data['days_since_last_login'].unique()\n",
        "days.sort()\n",
        "print(days)"
      ],
      "execution_count": null,
      "outputs": [
        {
          "output_type": "stream",
          "text": [
            "[ 1.  2.  3.  4.  5.  6.  7.  8.  9. 10. 11. 12. 13. 14. 15. 16. 17. 18.\n",
            " 19. 20. 21. 22. 23. 24. 25. 26. nan]\n",
            "- -- -- -- -- -- -- -- -- -- -- -- -- -- -- -- -- -- -- -- -- -- -- -- -- -- -- -- -- -- -- -- -- -- -- -- -- -- -- -- -\n",
            "[ 1.  2.  3.  4.  5.  6.  7.  8.  9. 10. 11. 12. 13. 14. 15. 16. 17. 18.\n",
            " 19. 20. 21. 22. 23. 24. 25. 26. nan]\n"
          ],
          "name": "stdout"
        }
      ]
    },
    {
      "cell_type": "code",
      "metadata": {
        "colab": {
          "base_uri": "https://localhost:8080/"
        },
        "id": "MjEANVDDr6Oh",
        "outputId": "7fc882e1-d5b2-44ec-b74c-593d68176d9c"
      },
      "source": [
        "train_data['days_since_last_login'].isnull().sum()"
      ],
      "execution_count": null,
      "outputs": [
        {
          "output_type": "execute_result",
          "data": {
            "text/plain": [
              "1999"
            ]
          },
          "metadata": {
            "tags": []
          },
          "execution_count": 29
        }
      ]
    },
    {
      "cell_type": "markdown",
      "metadata": {
        "id": "9jFKbDsLws0t"
      },
      "source": [
        "#### Feature : avg_frequency_login_days"
      ]
    },
    {
      "cell_type": "code",
      "metadata": {
        "colab": {
          "base_uri": "https://localhost:8080/"
        },
        "id": "29W1r7fusivj",
        "outputId": "838b6f30-0fd3-4747-d2f6-b245f5ca6cf6"
      },
      "source": [
        "train_data['avg_frequency_login_days'].unique()"
      ],
      "execution_count": null,
      "outputs": [
        {
          "output_type": "execute_result",
          "data": {
            "text/plain": [
              "array(['17.0', '10.0', '22.0', ..., '-9.32551114210603',\n",
              "       '-8.759329712785977', '27.8399274405269'], dtype=object)"
            ]
          },
          "metadata": {
            "tags": []
          },
          "execution_count": 30
        }
      ]
    },
    {
      "cell_type": "markdown",
      "metadata": {
        "id": "dl30FaSqxCXx"
      },
      "source": [
        "convert column to numeric"
      ]
    },
    {
      "cell_type": "markdown",
      "metadata": {
        "id": "HkPAvCcT2BC9"
      },
      "source": [
        "We have 'Error' string at some places ..we will replace that with 0 "
      ]
    },
    {
      "cell_type": "code",
      "metadata": {
        "colab": {
          "base_uri": "https://localhost:8080/"
        },
        "id": "7b_HHNal1y9r",
        "outputId": "2e8d338c-6bc9-4a4a-ce4a-f2ee050a844d"
      },
      "source": [
        "train_data[train_data['avg_frequency_login_days']=='Error']"
      ],
      "execution_count": null,
      "outputs": [
        {
          "output_type": "execute_result",
          "data": {
            "text/html": [
              "<div>\n",
              "<style scoped>\n",
              "    .dataframe tbody tr th:only-of-type {\n",
              "        vertical-align: middle;\n",
              "    }\n",
              "\n",
              "    .dataframe tbody tr th {\n",
              "        vertical-align: top;\n",
              "    }\n",
              "\n",
              "    .dataframe thead th {\n",
              "        text-align: right;\n",
              "    }\n",
              "</style>\n",
              "<table border=\"1\" class=\"dataframe\">\n",
              "  <thead>\n",
              "    <tr style=\"text-align: right;\">\n",
              "      <th></th>\n",
              "      <th>customer_id</th>\n",
              "      <th>Name</th>\n",
              "      <th>age</th>\n",
              "      <th>gender</th>\n",
              "      <th>security_no</th>\n",
              "      <th>region_category</th>\n",
              "      <th>membership_category</th>\n",
              "      <th>joining_date</th>\n",
              "      <th>joined_through_referral</th>\n",
              "      <th>referral_id</th>\n",
              "      <th>preferred_offer_types</th>\n",
              "      <th>medium_of_operation</th>\n",
              "      <th>internet_option</th>\n",
              "      <th>last_visit_time</th>\n",
              "      <th>days_since_last_login</th>\n",
              "      <th>avg_time_spent</th>\n",
              "      <th>avg_transaction_value</th>\n",
              "      <th>avg_frequency_login_days</th>\n",
              "      <th>points_in_wallet</th>\n",
              "      <th>used_special_discount</th>\n",
              "      <th>offer_application_preference</th>\n",
              "      <th>past_complaint</th>\n",
              "      <th>complaint_status</th>\n",
              "      <th>feedback</th>\n",
              "      <th>churn_risk_score</th>\n",
              "    </tr>\n",
              "  </thead>\n",
              "  <tbody>\n",
              "    <tr>\n",
              "      <th>39</th>\n",
              "      <td>fffe43004900440034003100390036003500</td>\n",
              "      <td>Desire Rieder</td>\n",
              "      <td>49</td>\n",
              "      <td>F</td>\n",
              "      <td>M9F3TE2</td>\n",
              "      <td>Village</td>\n",
              "      <td>Platinum Membership</td>\n",
              "      <td>2017-06-09</td>\n",
              "      <td>Yes</td>\n",
              "      <td>CID18445</td>\n",
              "      <td>Credit/Debit Card Offers</td>\n",
              "      <td>Both</td>\n",
              "      <td>Fiber_Optic</td>\n",
              "      <td>23:11:17</td>\n",
              "      <td>8.0</td>\n",
              "      <td>706.36</td>\n",
              "      <td>19062.25</td>\n",
              "      <td>Error</td>\n",
              "      <td>780.580000</td>\n",
              "      <td>Yes</td>\n",
              "      <td>No</td>\n",
              "      <td>No</td>\n",
              "      <td>Not Applicable</td>\n",
              "      <td>Poor Product Quality</td>\n",
              "      <td>3</td>\n",
              "    </tr>\n",
              "    <tr>\n",
              "      <th>44</th>\n",
              "      <td>fffe4300490044003900300031003500</td>\n",
              "      <td>Pam Seigler</td>\n",
              "      <td>36</td>\n",
              "      <td>M</td>\n",
              "      <td>C7QZITU</td>\n",
              "      <td>Village</td>\n",
              "      <td>Silver Membership</td>\n",
              "      <td>2016-11-28</td>\n",
              "      <td>Yes</td>\n",
              "      <td>CID33962</td>\n",
              "      <td>Gift Vouchers/Coupons</td>\n",
              "      <td>NaN</td>\n",
              "      <td>Mobile_Data</td>\n",
              "      <td>06:06:05</td>\n",
              "      <td>2.0</td>\n",
              "      <td>691.09</td>\n",
              "      <td>17989.46</td>\n",
              "      <td>Error</td>\n",
              "      <td>NaN</td>\n",
              "      <td>No</td>\n",
              "      <td>Yes</td>\n",
              "      <td>Yes</td>\n",
              "      <td>Solved</td>\n",
              "      <td>No reason specified</td>\n",
              "      <td>4</td>\n",
              "    </tr>\n",
              "    <tr>\n",
              "      <th>45</th>\n",
              "      <td>fffe43004900440033003000360031003100</td>\n",
              "      <td>Lore Yarber</td>\n",
              "      <td>12</td>\n",
              "      <td>M</td>\n",
              "      <td>B1XF70C</td>\n",
              "      <td>City</td>\n",
              "      <td>Premium Membership</td>\n",
              "      <td>2017-02-13</td>\n",
              "      <td>No</td>\n",
              "      <td>xxxxxxxx</td>\n",
              "      <td>Without Offers</td>\n",
              "      <td>Desktop</td>\n",
              "      <td>Mobile_Data</td>\n",
              "      <td>22:27:40</td>\n",
              "      <td>8.0</td>\n",
              "      <td>33.09</td>\n",
              "      <td>55607.35</td>\n",
              "      <td>Error</td>\n",
              "      <td>NaN</td>\n",
              "      <td>Yes</td>\n",
              "      <td>No</td>\n",
              "      <td>No</td>\n",
              "      <td>Not Applicable</td>\n",
              "      <td>User Friendly Website</td>\n",
              "      <td>1</td>\n",
              "    </tr>\n",
              "    <tr>\n",
              "      <th>48</th>\n",
              "      <td>fffe43004900440032003800320037003300</td>\n",
              "      <td>Glendora Borel</td>\n",
              "      <td>30</td>\n",
              "      <td>M</td>\n",
              "      <td>TER02YR</td>\n",
              "      <td>City</td>\n",
              "      <td>Platinum Membership</td>\n",
              "      <td>2015-12-11</td>\n",
              "      <td>Yes</td>\n",
              "      <td>CID4129</td>\n",
              "      <td>Gift Vouchers/Coupons</td>\n",
              "      <td>Smartphone</td>\n",
              "      <td>Wi-Fi</td>\n",
              "      <td>14:13:01</td>\n",
              "      <td>20.0</td>\n",
              "      <td>100.42</td>\n",
              "      <td>86433.91</td>\n",
              "      <td>Error</td>\n",
              "      <td>719.930000</td>\n",
              "      <td>No</td>\n",
              "      <td>Yes</td>\n",
              "      <td>Yes</td>\n",
              "      <td>Unsolved</td>\n",
              "      <td>Reasonable Price</td>\n",
              "      <td>2</td>\n",
              "    </tr>\n",
              "    <tr>\n",
              "      <th>50</th>\n",
              "      <td>fffe43004900440031003700370031003300</td>\n",
              "      <td>Luisa Allinder</td>\n",
              "      <td>23</td>\n",
              "      <td>M</td>\n",
              "      <td>UAAYTIM</td>\n",
              "      <td>Village</td>\n",
              "      <td>Gold Membership</td>\n",
              "      <td>2015-10-22</td>\n",
              "      <td>Yes</td>\n",
              "      <td>CID24995</td>\n",
              "      <td>Without Offers</td>\n",
              "      <td>NaN</td>\n",
              "      <td>Wi-Fi</td>\n",
              "      <td>14:01:02</td>\n",
              "      <td>10.0</td>\n",
              "      <td>65.25</td>\n",
              "      <td>5136.08</td>\n",
              "      <td>Error</td>\n",
              "      <td>755.220000</td>\n",
              "      <td>No</td>\n",
              "      <td>Yes</td>\n",
              "      <td>No</td>\n",
              "      <td>Not Applicable</td>\n",
              "      <td>Poor Customer Service</td>\n",
              "      <td>-1</td>\n",
              "    </tr>\n",
              "    <tr>\n",
              "      <th>...</th>\n",
              "      <td>...</td>\n",
              "      <td>...</td>\n",
              "      <td>...</td>\n",
              "      <td>...</td>\n",
              "      <td>...</td>\n",
              "      <td>...</td>\n",
              "      <td>...</td>\n",
              "      <td>...</td>\n",
              "      <td>...</td>\n",
              "      <td>...</td>\n",
              "      <td>...</td>\n",
              "      <td>...</td>\n",
              "      <td>...</td>\n",
              "      <td>...</td>\n",
              "      <td>...</td>\n",
              "      <td>...</td>\n",
              "      <td>...</td>\n",
              "      <td>...</td>\n",
              "      <td>...</td>\n",
              "      <td>...</td>\n",
              "      <td>...</td>\n",
              "      <td>...</td>\n",
              "      <td>...</td>\n",
              "      <td>...</td>\n",
              "      <td>...</td>\n",
              "    </tr>\n",
              "    <tr>\n",
              "      <th>36960</th>\n",
              "      <td>fffe43004900440031003800370034003500</td>\n",
              "      <td>Palma Dunker</td>\n",
              "      <td>40</td>\n",
              "      <td>F</td>\n",
              "      <td>5AQ78IZ</td>\n",
              "      <td>Town</td>\n",
              "      <td>Basic Membership</td>\n",
              "      <td>2017-11-20</td>\n",
              "      <td>No</td>\n",
              "      <td>xxxxxxxx</td>\n",
              "      <td>Without Offers</td>\n",
              "      <td>NaN</td>\n",
              "      <td>Wi-Fi</td>\n",
              "      <td>02:35:26</td>\n",
              "      <td>25.0</td>\n",
              "      <td>96.33</td>\n",
              "      <td>16361.98</td>\n",
              "      <td>Error</td>\n",
              "      <td>954.137008</td>\n",
              "      <td>No</td>\n",
              "      <td>Yes</td>\n",
              "      <td>No</td>\n",
              "      <td>Not Applicable</td>\n",
              "      <td>Too many ads</td>\n",
              "      <td>4</td>\n",
              "    </tr>\n",
              "    <tr>\n",
              "      <th>36962</th>\n",
              "      <td>fffe43004900440032003700320032003500</td>\n",
              "      <td>Zoe Andrzejewski</td>\n",
              "      <td>26</td>\n",
              "      <td>M</td>\n",
              "      <td>4318ETP</td>\n",
              "      <td>City</td>\n",
              "      <td>Gold Membership</td>\n",
              "      <td>2017-02-08</td>\n",
              "      <td>No</td>\n",
              "      <td>xxxxxxxx</td>\n",
              "      <td>Without Offers</td>\n",
              "      <td>NaN</td>\n",
              "      <td>Wi-Fi</td>\n",
              "      <td>21:34:15</td>\n",
              "      <td>19.0</td>\n",
              "      <td>202.95</td>\n",
              "      <td>10356.88</td>\n",
              "      <td>Error</td>\n",
              "      <td>693.380000</td>\n",
              "      <td>Yes</td>\n",
              "      <td>No</td>\n",
              "      <td>Yes</td>\n",
              "      <td>Solved in Follow-up</td>\n",
              "      <td>Poor Customer Service</td>\n",
              "      <td>4</td>\n",
              "    </tr>\n",
              "    <tr>\n",
              "      <th>36971</th>\n",
              "      <td>fffe43004900440033003900370033003000</td>\n",
              "      <td>Rasheeda Ramsdell</td>\n",
              "      <td>42</td>\n",
              "      <td>F</td>\n",
              "      <td>OYJ0W89</td>\n",
              "      <td>Town</td>\n",
              "      <td>Premium Membership</td>\n",
              "      <td>2015-02-04</td>\n",
              "      <td>Yes</td>\n",
              "      <td>CID54811</td>\n",
              "      <td>Credit/Debit Card Offers</td>\n",
              "      <td>Desktop</td>\n",
              "      <td>Fiber_Optic</td>\n",
              "      <td>13:08:11</td>\n",
              "      <td>16.0</td>\n",
              "      <td>34.10</td>\n",
              "      <td>39439.10</td>\n",
              "      <td>Error</td>\n",
              "      <td>1224.393346</td>\n",
              "      <td>Yes</td>\n",
              "      <td>No</td>\n",
              "      <td>Yes</td>\n",
              "      <td>Solved in Follow-up</td>\n",
              "      <td>Too many ads</td>\n",
              "      <td>3</td>\n",
              "    </tr>\n",
              "    <tr>\n",
              "      <th>36989</th>\n",
              "      <td>fffe4300490044003500330034003100</td>\n",
              "      <td>Luciana Kinch</td>\n",
              "      <td>23</td>\n",
              "      <td>F</td>\n",
              "      <td>XK1IM9H</td>\n",
              "      <td>NaN</td>\n",
              "      <td>Basic Membership</td>\n",
              "      <td>2016-09-11</td>\n",
              "      <td>Yes</td>\n",
              "      <td>CID3838</td>\n",
              "      <td>Gift Vouchers/Coupons</td>\n",
              "      <td>Desktop</td>\n",
              "      <td>Wi-Fi</td>\n",
              "      <td>03:50:25</td>\n",
              "      <td>12.0</td>\n",
              "      <td>154.94</td>\n",
              "      <td>38127.56</td>\n",
              "      <td>Error</td>\n",
              "      <td>680.470000</td>\n",
              "      <td>No</td>\n",
              "      <td>Yes</td>\n",
              "      <td>Yes</td>\n",
              "      <td>Unsolved</td>\n",
              "      <td>Poor Website</td>\n",
              "      <td>4</td>\n",
              "    </tr>\n",
              "    <tr>\n",
              "      <th>36991</th>\n",
              "      <td>fffe43004900440033003600340034003200</td>\n",
              "      <td>Verlene Beaulieu</td>\n",
              "      <td>35</td>\n",
              "      <td>M</td>\n",
              "      <td>LBX0GLR</td>\n",
              "      <td>Town</td>\n",
              "      <td>Silver Membership</td>\n",
              "      <td>2015-10-23</td>\n",
              "      <td>No</td>\n",
              "      <td>xxxxxxxx</td>\n",
              "      <td>Gift Vouchers/Coupons</td>\n",
              "      <td>Desktop</td>\n",
              "      <td>Mobile_Data</td>\n",
              "      <td>01:39:52</td>\n",
              "      <td>15.0</td>\n",
              "      <td>79.18</td>\n",
              "      <td>2189.68</td>\n",
              "      <td>Error</td>\n",
              "      <td>719.970000</td>\n",
              "      <td>Yes</td>\n",
              "      <td>No</td>\n",
              "      <td>No</td>\n",
              "      <td>Not Applicable</td>\n",
              "      <td>Quality Customer Care</td>\n",
              "      <td>2</td>\n",
              "    </tr>\n",
              "  </tbody>\n",
              "</table>\n",
              "<p>3522 rows × 25 columns</p>\n",
              "</div>"
            ],
            "text/plain": [
              "                                customer_id  ... churn_risk_score\n",
              "39     fffe43004900440034003100390036003500  ...                3\n",
              "44         fffe4300490044003900300031003500  ...                4\n",
              "45     fffe43004900440033003000360031003100  ...                1\n",
              "48     fffe43004900440032003800320037003300  ...                2\n",
              "50     fffe43004900440031003700370031003300  ...               -1\n",
              "...                                     ...  ...              ...\n",
              "36960  fffe43004900440031003800370034003500  ...                4\n",
              "36962  fffe43004900440032003700320032003500  ...                4\n",
              "36971  fffe43004900440033003900370033003000  ...                3\n",
              "36989      fffe4300490044003500330034003100  ...                4\n",
              "36991  fffe43004900440033003600340034003200  ...                2\n",
              "\n",
              "[3522 rows x 25 columns]"
            ]
          },
          "metadata": {
            "tags": []
          },
          "execution_count": 31
        }
      ]
    },
    {
      "cell_type": "code",
      "metadata": {
        "colab": {
          "base_uri": "https://localhost:8080/"
        },
        "id": "bWMUsiJd9z-R",
        "outputId": "6efa9228-d0ac-41da-cb0f-5722c5d9c4fc"
      },
      "source": [
        "train_data['avg_frequency_login_days']= train_data['avg_frequency_login_days'].replace('Error',0)\n",
        "test_data['avg_frequency_login_days'] = test_data['avg_frequency_login_days'].replace('Error',0)\n",
        "\n",
        "train_data['avg_frequency_login_days']= pd.to_numeric(train_data['avg_frequency_login_days'])\n",
        "test_data['avg_frequency_login_days'] = pd.to_numeric(test_data['avg_frequency_login_days'])\n",
        "\n",
        "print(train_data['avg_frequency_login_days'].dtypes)"
      ],
      "execution_count": null,
      "outputs": [
        {
          "output_type": "stream",
          "text": [
            "float64\n"
          ],
          "name": "stdout"
        }
      ]
    },
    {
      "cell_type": "code",
      "metadata": {
        "colab": {
          "base_uri": "https://localhost:8080/"
        },
        "id": "uP6ORre495A_",
        "outputId": "32498145-5c95-408c-8561-eed161f7b3f5"
      },
      "source": [
        "train_data['avg_frequency_login_days'].describe()"
      ],
      "execution_count": null,
      "outputs": [
        {
          "output_type": "execute_result",
          "data": {
            "text/plain": [
              "count    36992.000000\n",
              "mean        14.455576\n",
              "std          9.941579\n",
              "min        -43.652702\n",
              "25%          7.000000\n",
              "50%         14.000000\n",
              "75%         22.000000\n",
              "max         73.061995\n",
              "Name: avg_frequency_login_days, dtype: float64"
            ]
          },
          "metadata": {
            "tags": []
          },
          "execution_count": 33
        }
      ]
    },
    {
      "cell_type": "markdown",
      "metadata": {
        "id": "dg_eAxn3BVVF"
      },
      "source": [
        "#### Feature : Points in wallet"
      ]
    },
    {
      "cell_type": "code",
      "metadata": {
        "colab": {
          "base_uri": "https://localhost:8080/"
        },
        "id": "SIk9nD63AeeZ",
        "outputId": "f353926f-5573-41bd-b304-b1b69688e0ad"
      },
      "source": [
        "train_data.points_in_wallet.isnull().sum()"
      ],
      "execution_count": null,
      "outputs": [
        {
          "output_type": "execute_result",
          "data": {
            "text/plain": [
              "3443"
            ]
          },
          "metadata": {
            "tags": []
          },
          "execution_count": 34
        }
      ]
    },
    {
      "cell_type": "markdown",
      "metadata": {
        "id": "Zchm55NeCACw"
      },
      "source": [
        "We will impute missing vale in later steps"
      ]
    },
    {
      "cell_type": "markdown",
      "metadata": {
        "id": "N0kMXwVgCCFG"
      },
      "source": [
        "####Feature : joining_date"
      ]
    },
    {
      "cell_type": "code",
      "metadata": {
        "colab": {
          "base_uri": "https://localhost:8080/"
        },
        "id": "K0lC-SfmCBKY",
        "outputId": "c5048904-81ea-4c41-bee9-f346d40780f8"
      },
      "source": [
        "train_data['joining_date'] = pd.to_datetime(train_data['joining_date'], format='%Y-%m-%d')\n",
        "pd.DatetimeIndex(train_data['joining_date']).year.value_counts()"
      ],
      "execution_count": null,
      "outputs": [
        {
          "output_type": "execute_result",
          "data": {
            "text/plain": [
              "2017    12540\n",
              "2015    12297\n",
              "2016    12155\n",
              "Name: joining_date, dtype: int64"
            ]
          },
          "metadata": {
            "tags": []
          },
          "execution_count": 35
        }
      ]
    },
    {
      "cell_type": "code",
      "metadata": {
        "colab": {
          "base_uri": "https://localhost:8080/"
        },
        "id": "s1P4eHMTFCfO",
        "outputId": "5f87758a-9554-454e-d070-3e932f91f6a9"
      },
      "source": [
        "test_data['joining_date'] = pd.to_datetime(test_data['joining_date'], format='%Y-%m-%d')\n",
        "pd.DatetimeIndex(test_data['joining_date']).year.value_counts()"
      ],
      "execution_count": null,
      "outputs": [
        {
          "output_type": "execute_result",
          "data": {
            "text/plain": [
              "2015    6659\n",
              "2017    6639\n",
              "2016    6621\n",
              "Name: joining_date, dtype: int64"
            ]
          },
          "metadata": {
            "tags": []
          },
          "execution_count": 36
        }
      ]
    },
    {
      "cell_type": "markdown",
      "metadata": {
        "id": "PNodvjV8EJv-"
      },
      "source": [
        "We have customer data that joined in 2015,2016,2017 year\n",
        "We will derive new feature 'days_since_joined' "
      ]
    },
    {
      "cell_type": "code",
      "metadata": {
        "colab": {
          "base_uri": "https://localhost:8080/"
        },
        "id": "TNQJ79QnEJRx",
        "outputId": "00db40f5-67da-405c-e65e-6a3d9d7313a2"
      },
      "source": [
        "train_data['days_since_joined'] = train_data['joining_date'].apply(lambda x:(pd.Timestamp('today') - x).days)\n",
        "test_data['days_since_joined'] = test_data['joining_date'].apply(lambda x:(pd.Timestamp('today') - x).days)\n",
        "train_data[['joining_date','days_since_joined']].head()"
      ],
      "execution_count": null,
      "outputs": [
        {
          "output_type": "execute_result",
          "data": {
            "text/html": [
              "<div>\n",
              "<style scoped>\n",
              "    .dataframe tbody tr th:only-of-type {\n",
              "        vertical-align: middle;\n",
              "    }\n",
              "\n",
              "    .dataframe tbody tr th {\n",
              "        vertical-align: top;\n",
              "    }\n",
              "\n",
              "    .dataframe thead th {\n",
              "        text-align: right;\n",
              "    }\n",
              "</style>\n",
              "<table border=\"1\" class=\"dataframe\">\n",
              "  <thead>\n",
              "    <tr style=\"text-align: right;\">\n",
              "      <th></th>\n",
              "      <th>joining_date</th>\n",
              "      <th>days_since_joined</th>\n",
              "    </tr>\n",
              "  </thead>\n",
              "  <tbody>\n",
              "    <tr>\n",
              "      <th>0</th>\n",
              "      <td>2017-08-17</td>\n",
              "      <td>1334</td>\n",
              "    </tr>\n",
              "    <tr>\n",
              "      <th>1</th>\n",
              "      <td>2017-08-28</td>\n",
              "      <td>1323</td>\n",
              "    </tr>\n",
              "    <tr>\n",
              "      <th>2</th>\n",
              "      <td>2016-11-11</td>\n",
              "      <td>1613</td>\n",
              "    </tr>\n",
              "    <tr>\n",
              "      <th>3</th>\n",
              "      <td>2016-10-29</td>\n",
              "      <td>1626</td>\n",
              "    </tr>\n",
              "    <tr>\n",
              "      <th>4</th>\n",
              "      <td>2017-09-12</td>\n",
              "      <td>1308</td>\n",
              "    </tr>\n",
              "  </tbody>\n",
              "</table>\n",
              "</div>"
            ],
            "text/plain": [
              "  joining_date  days_since_joined\n",
              "0   2017-08-17               1334\n",
              "1   2017-08-28               1323\n",
              "2   2016-11-11               1613\n",
              "3   2016-10-29               1626\n",
              "4   2017-09-12               1308"
            ]
          },
          "metadata": {
            "tags": []
          },
          "execution_count": 37
        }
      ]
    },
    {
      "cell_type": "markdown",
      "metadata": {
        "id": "UpzWiCj6GNxu"
      },
      "source": [
        "#### Feature : Past_complaint , complaint status and feedback"
      ]
    },
    {
      "cell_type": "markdown",
      "metadata": {
        "id": "qfET2Ja2GVbz"
      },
      "source": [
        "feedback /complaints play imp role in customer churn risk\n",
        "Lets explore on this features"
      ]
    },
    {
      "cell_type": "code",
      "metadata": {
        "colab": {
          "base_uri": "https://localhost:8080/"
        },
        "id": "uQbrHaTsBKkh",
        "outputId": "d82ad8ee-9758-41ae-8cfd-11018e9acfd0"
      },
      "source": [
        "train_data[['past_complaint','complaint_status','feedback']]"
      ],
      "execution_count": null,
      "outputs": [
        {
          "output_type": "execute_result",
          "data": {
            "text/html": [
              "<div>\n",
              "<style scoped>\n",
              "    .dataframe tbody tr th:only-of-type {\n",
              "        vertical-align: middle;\n",
              "    }\n",
              "\n",
              "    .dataframe tbody tr th {\n",
              "        vertical-align: top;\n",
              "    }\n",
              "\n",
              "    .dataframe thead th {\n",
              "        text-align: right;\n",
              "    }\n",
              "</style>\n",
              "<table border=\"1\" class=\"dataframe\">\n",
              "  <thead>\n",
              "    <tr style=\"text-align: right;\">\n",
              "      <th></th>\n",
              "      <th>past_complaint</th>\n",
              "      <th>complaint_status</th>\n",
              "      <th>feedback</th>\n",
              "    </tr>\n",
              "  </thead>\n",
              "  <tbody>\n",
              "    <tr>\n",
              "      <th>0</th>\n",
              "      <td>No</td>\n",
              "      <td>Not Applicable</td>\n",
              "      <td>Products always in Stock</td>\n",
              "    </tr>\n",
              "    <tr>\n",
              "      <th>1</th>\n",
              "      <td>Yes</td>\n",
              "      <td>Solved</td>\n",
              "      <td>Quality Customer Care</td>\n",
              "    </tr>\n",
              "    <tr>\n",
              "      <th>2</th>\n",
              "      <td>Yes</td>\n",
              "      <td>Solved in Follow-up</td>\n",
              "      <td>Poor Website</td>\n",
              "    </tr>\n",
              "    <tr>\n",
              "      <th>3</th>\n",
              "      <td>Yes</td>\n",
              "      <td>Unsolved</td>\n",
              "      <td>Poor Website</td>\n",
              "    </tr>\n",
              "    <tr>\n",
              "      <th>4</th>\n",
              "      <td>Yes</td>\n",
              "      <td>Solved</td>\n",
              "      <td>Poor Website</td>\n",
              "    </tr>\n",
              "    <tr>\n",
              "      <th>...</th>\n",
              "      <td>...</td>\n",
              "      <td>...</td>\n",
              "      <td>...</td>\n",
              "    </tr>\n",
              "    <tr>\n",
              "      <th>36987</th>\n",
              "      <td>Yes</td>\n",
              "      <td>No Information Available</td>\n",
              "      <td>No reason specified</td>\n",
              "    </tr>\n",
              "    <tr>\n",
              "      <th>36988</th>\n",
              "      <td>No</td>\n",
              "      <td>Not Applicable</td>\n",
              "      <td>Poor Customer Service</td>\n",
              "    </tr>\n",
              "    <tr>\n",
              "      <th>36989</th>\n",
              "      <td>Yes</td>\n",
              "      <td>Unsolved</td>\n",
              "      <td>Poor Website</td>\n",
              "    </tr>\n",
              "    <tr>\n",
              "      <th>36990</th>\n",
              "      <td>No</td>\n",
              "      <td>Not Applicable</td>\n",
              "      <td>No reason specified</td>\n",
              "    </tr>\n",
              "    <tr>\n",
              "      <th>36991</th>\n",
              "      <td>No</td>\n",
              "      <td>Not Applicable</td>\n",
              "      <td>Quality Customer Care</td>\n",
              "    </tr>\n",
              "  </tbody>\n",
              "</table>\n",
              "<p>36992 rows × 3 columns</p>\n",
              "</div>"
            ],
            "text/plain": [
              "      past_complaint          complaint_status                  feedback\n",
              "0                 No            Not Applicable  Products always in Stock\n",
              "1                Yes                    Solved     Quality Customer Care\n",
              "2                Yes       Solved in Follow-up              Poor Website\n",
              "3                Yes                  Unsolved              Poor Website\n",
              "4                Yes                    Solved              Poor Website\n",
              "...              ...                       ...                       ...\n",
              "36987            Yes  No Information Available       No reason specified\n",
              "36988             No            Not Applicable     Poor Customer Service\n",
              "36989            Yes                  Unsolved              Poor Website\n",
              "36990             No            Not Applicable       No reason specified\n",
              "36991             No            Not Applicable     Quality Customer Care\n",
              "\n",
              "[36992 rows x 3 columns]"
            ]
          },
          "metadata": {
            "tags": []
          },
          "execution_count": 38
        }
      ]
    },
    {
      "cell_type": "code",
      "metadata": {
        "colab": {
          "base_uri": "https://localhost:8080/"
        },
        "id": "-vEk_QQkG0oq",
        "outputId": "74301cbd-dc63-4268-a99b-1c976ee368c8"
      },
      "source": [
        "train_data['feedback'].unique()"
      ],
      "execution_count": null,
      "outputs": [
        {
          "output_type": "execute_result",
          "data": {
            "text/plain": [
              "array(['Products always in Stock', 'Quality Customer Care',\n",
              "       'Poor Website', 'No reason specified', 'Poor Product Quality',\n",
              "       'Poor Customer Service', 'Too many ads', 'User Friendly Website',\n",
              "       'Reasonable Price'], dtype=object)"
            ]
          },
          "metadata": {
            "tags": []
          },
          "execution_count": 39
        }
      ]
    },
    {
      "cell_type": "code",
      "metadata": {
        "colab": {
          "base_uri": "https://localhost:8080/"
        },
        "id": "Dt6g2h2hGwNN",
        "outputId": "1c9dab48-b5e0-4daa-d374-8fd61ac7d993"
      },
      "source": [
        "train_data[(train_data['past_complaint']=='No')][['past_complaint','complaint_status','feedback']]"
      ],
      "execution_count": null,
      "outputs": [
        {
          "output_type": "execute_result",
          "data": {
            "text/html": [
              "<div>\n",
              "<style scoped>\n",
              "    .dataframe tbody tr th:only-of-type {\n",
              "        vertical-align: middle;\n",
              "    }\n",
              "\n",
              "    .dataframe tbody tr th {\n",
              "        vertical-align: top;\n",
              "    }\n",
              "\n",
              "    .dataframe thead th {\n",
              "        text-align: right;\n",
              "    }\n",
              "</style>\n",
              "<table border=\"1\" class=\"dataframe\">\n",
              "  <thead>\n",
              "    <tr style=\"text-align: right;\">\n",
              "      <th></th>\n",
              "      <th>past_complaint</th>\n",
              "      <th>complaint_status</th>\n",
              "      <th>feedback</th>\n",
              "    </tr>\n",
              "  </thead>\n",
              "  <tbody>\n",
              "    <tr>\n",
              "      <th>0</th>\n",
              "      <td>No</td>\n",
              "      <td>Not Applicable</td>\n",
              "      <td>Products always in Stock</td>\n",
              "    </tr>\n",
              "    <tr>\n",
              "      <th>10</th>\n",
              "      <td>No</td>\n",
              "      <td>Not Applicable</td>\n",
              "      <td>Poor Product Quality</td>\n",
              "    </tr>\n",
              "    <tr>\n",
              "      <th>11</th>\n",
              "      <td>No</td>\n",
              "      <td>Not Applicable</td>\n",
              "      <td>Too many ads</td>\n",
              "    </tr>\n",
              "    <tr>\n",
              "      <th>13</th>\n",
              "      <td>No</td>\n",
              "      <td>Not Applicable</td>\n",
              "      <td>Poor Product Quality</td>\n",
              "    </tr>\n",
              "    <tr>\n",
              "      <th>14</th>\n",
              "      <td>No</td>\n",
              "      <td>Not Applicable</td>\n",
              "      <td>Poor Website</td>\n",
              "    </tr>\n",
              "    <tr>\n",
              "      <th>...</th>\n",
              "      <td>...</td>\n",
              "      <td>...</td>\n",
              "      <td>...</td>\n",
              "    </tr>\n",
              "    <tr>\n",
              "      <th>36984</th>\n",
              "      <td>No</td>\n",
              "      <td>Not Applicable</td>\n",
              "      <td>Products always in Stock</td>\n",
              "    </tr>\n",
              "    <tr>\n",
              "      <th>36986</th>\n",
              "      <td>No</td>\n",
              "      <td>Not Applicable</td>\n",
              "      <td>No reason specified</td>\n",
              "    </tr>\n",
              "    <tr>\n",
              "      <th>36988</th>\n",
              "      <td>No</td>\n",
              "      <td>Not Applicable</td>\n",
              "      <td>Poor Customer Service</td>\n",
              "    </tr>\n",
              "    <tr>\n",
              "      <th>36990</th>\n",
              "      <td>No</td>\n",
              "      <td>Not Applicable</td>\n",
              "      <td>No reason specified</td>\n",
              "    </tr>\n",
              "    <tr>\n",
              "      <th>36991</th>\n",
              "      <td>No</td>\n",
              "      <td>Not Applicable</td>\n",
              "      <td>Quality Customer Care</td>\n",
              "    </tr>\n",
              "  </tbody>\n",
              "</table>\n",
              "<p>18602 rows × 3 columns</p>\n",
              "</div>"
            ],
            "text/plain": [
              "      past_complaint complaint_status                  feedback\n",
              "0                 No   Not Applicable  Products always in Stock\n",
              "10                No   Not Applicable      Poor Product Quality\n",
              "11                No   Not Applicable              Too many ads\n",
              "13                No   Not Applicable      Poor Product Quality\n",
              "14                No   Not Applicable              Poor Website\n",
              "...              ...              ...                       ...\n",
              "36984             No   Not Applicable  Products always in Stock\n",
              "36986             No   Not Applicable       No reason specified\n",
              "36988             No   Not Applicable     Poor Customer Service\n",
              "36990             No   Not Applicable       No reason specified\n",
              "36991             No   Not Applicable     Quality Customer Care\n",
              "\n",
              "[18602 rows x 3 columns]"
            ]
          },
          "metadata": {
            "tags": []
          },
          "execution_count": 40
        }
      ]
    },
    {
      "cell_type": "markdown",
      "metadata": {
        "id": "necPOkiQHqqd"
      },
      "source": [
        "Though we did not receive complaints we have negative/poor feedback from customers"
      ]
    },
    {
      "cell_type": "code",
      "metadata": {
        "colab": {
          "base_uri": "https://localhost:8080/"
        },
        "id": "D20ICzEHHOe_",
        "outputId": "25a0145d-070c-4feb-8f1f-46aa3e044e2c"
      },
      "source": [
        "train_data[(train_data['past_complaint']=='Yes') & (train_data['complaint_status']=='No Information Available')][['past_complaint','complaint_status','feedback']]"
      ],
      "execution_count": null,
      "outputs": [
        {
          "output_type": "execute_result",
          "data": {
            "text/html": [
              "<div>\n",
              "<style scoped>\n",
              "    .dataframe tbody tr th:only-of-type {\n",
              "        vertical-align: middle;\n",
              "    }\n",
              "\n",
              "    .dataframe tbody tr th {\n",
              "        vertical-align: top;\n",
              "    }\n",
              "\n",
              "    .dataframe thead th {\n",
              "        text-align: right;\n",
              "    }\n",
              "</style>\n",
              "<table border=\"1\" class=\"dataframe\">\n",
              "  <thead>\n",
              "    <tr style=\"text-align: right;\">\n",
              "      <th></th>\n",
              "      <th>past_complaint</th>\n",
              "      <th>complaint_status</th>\n",
              "      <th>feedback</th>\n",
              "    </tr>\n",
              "  </thead>\n",
              "  <tbody>\n",
              "    <tr>\n",
              "      <th>9</th>\n",
              "      <td>Yes</td>\n",
              "      <td>No Information Available</td>\n",
              "      <td>Poor Customer Service</td>\n",
              "    </tr>\n",
              "    <tr>\n",
              "      <th>18</th>\n",
              "      <td>Yes</td>\n",
              "      <td>No Information Available</td>\n",
              "      <td>No reason specified</td>\n",
              "    </tr>\n",
              "    <tr>\n",
              "      <th>21</th>\n",
              "      <td>Yes</td>\n",
              "      <td>No Information Available</td>\n",
              "      <td>Poor Website</td>\n",
              "    </tr>\n",
              "    <tr>\n",
              "      <th>22</th>\n",
              "      <td>Yes</td>\n",
              "      <td>No Information Available</td>\n",
              "      <td>User Friendly Website</td>\n",
              "    </tr>\n",
              "    <tr>\n",
              "      <th>28</th>\n",
              "      <td>Yes</td>\n",
              "      <td>No Information Available</td>\n",
              "      <td>No reason specified</td>\n",
              "    </tr>\n",
              "    <tr>\n",
              "      <th>...</th>\n",
              "      <td>...</td>\n",
              "      <td>...</td>\n",
              "      <td>...</td>\n",
              "    </tr>\n",
              "    <tr>\n",
              "      <th>36957</th>\n",
              "      <td>Yes</td>\n",
              "      <td>No Information Available</td>\n",
              "      <td>Poor Product Quality</td>\n",
              "    </tr>\n",
              "    <tr>\n",
              "      <th>36961</th>\n",
              "      <td>Yes</td>\n",
              "      <td>No Information Available</td>\n",
              "      <td>Poor Customer Service</td>\n",
              "    </tr>\n",
              "    <tr>\n",
              "      <th>36964</th>\n",
              "      <td>Yes</td>\n",
              "      <td>No Information Available</td>\n",
              "      <td>Poor Website</td>\n",
              "    </tr>\n",
              "    <tr>\n",
              "      <th>36965</th>\n",
              "      <td>Yes</td>\n",
              "      <td>No Information Available</td>\n",
              "      <td>No reason specified</td>\n",
              "    </tr>\n",
              "    <tr>\n",
              "      <th>36987</th>\n",
              "      <td>Yes</td>\n",
              "      <td>No Information Available</td>\n",
              "      <td>No reason specified</td>\n",
              "    </tr>\n",
              "  </tbody>\n",
              "</table>\n",
              "<p>4550 rows × 3 columns</p>\n",
              "</div>"
            ],
            "text/plain": [
              "      past_complaint          complaint_status               feedback\n",
              "9                Yes  No Information Available  Poor Customer Service\n",
              "18               Yes  No Information Available    No reason specified\n",
              "21               Yes  No Information Available           Poor Website\n",
              "22               Yes  No Information Available  User Friendly Website\n",
              "28               Yes  No Information Available    No reason specified\n",
              "...              ...                       ...                    ...\n",
              "36957            Yes  No Information Available   Poor Product Quality\n",
              "36961            Yes  No Information Available  Poor Customer Service\n",
              "36964            Yes  No Information Available           Poor Website\n",
              "36965            Yes  No Information Available    No reason specified\n",
              "36987            Yes  No Information Available    No reason specified\n",
              "\n",
              "[4550 rows x 3 columns]"
            ]
          },
          "metadata": {
            "tags": []
          },
          "execution_count": 41
        }
      ]
    },
    {
      "cell_type": "code",
      "metadata": {
        "colab": {
          "base_uri": "https://localhost:8080/"
        },
        "id": "2kBVPjgZH28x",
        "outputId": "e591fe5b-db80-4e1f-dcfe-7516255a5ff2"
      },
      "source": [
        "train_data[(train_data['past_complaint']=='Yes')][['past_complaint','complaint_status','feedback']]"
      ],
      "execution_count": null,
      "outputs": [
        {
          "output_type": "execute_result",
          "data": {
            "text/html": [
              "<div>\n",
              "<style scoped>\n",
              "    .dataframe tbody tr th:only-of-type {\n",
              "        vertical-align: middle;\n",
              "    }\n",
              "\n",
              "    .dataframe tbody tr th {\n",
              "        vertical-align: top;\n",
              "    }\n",
              "\n",
              "    .dataframe thead th {\n",
              "        text-align: right;\n",
              "    }\n",
              "</style>\n",
              "<table border=\"1\" class=\"dataframe\">\n",
              "  <thead>\n",
              "    <tr style=\"text-align: right;\">\n",
              "      <th></th>\n",
              "      <th>past_complaint</th>\n",
              "      <th>complaint_status</th>\n",
              "      <th>feedback</th>\n",
              "    </tr>\n",
              "  </thead>\n",
              "  <tbody>\n",
              "    <tr>\n",
              "      <th>1</th>\n",
              "      <td>Yes</td>\n",
              "      <td>Solved</td>\n",
              "      <td>Quality Customer Care</td>\n",
              "    </tr>\n",
              "    <tr>\n",
              "      <th>2</th>\n",
              "      <td>Yes</td>\n",
              "      <td>Solved in Follow-up</td>\n",
              "      <td>Poor Website</td>\n",
              "    </tr>\n",
              "    <tr>\n",
              "      <th>3</th>\n",
              "      <td>Yes</td>\n",
              "      <td>Unsolved</td>\n",
              "      <td>Poor Website</td>\n",
              "    </tr>\n",
              "    <tr>\n",
              "      <th>4</th>\n",
              "      <td>Yes</td>\n",
              "      <td>Solved</td>\n",
              "      <td>Poor Website</td>\n",
              "    </tr>\n",
              "    <tr>\n",
              "      <th>5</th>\n",
              "      <td>Yes</td>\n",
              "      <td>Unsolved</td>\n",
              "      <td>No reason specified</td>\n",
              "    </tr>\n",
              "    <tr>\n",
              "      <th>...</th>\n",
              "      <td>...</td>\n",
              "      <td>...</td>\n",
              "      <td>...</td>\n",
              "    </tr>\n",
              "    <tr>\n",
              "      <th>36980</th>\n",
              "      <td>Yes</td>\n",
              "      <td>Solved</td>\n",
              "      <td>Reasonable Price</td>\n",
              "    </tr>\n",
              "    <tr>\n",
              "      <th>36981</th>\n",
              "      <td>Yes</td>\n",
              "      <td>Solved</td>\n",
              "      <td>Poor Website</td>\n",
              "    </tr>\n",
              "    <tr>\n",
              "      <th>36985</th>\n",
              "      <td>Yes</td>\n",
              "      <td>Unsolved</td>\n",
              "      <td>Products always in Stock</td>\n",
              "    </tr>\n",
              "    <tr>\n",
              "      <th>36987</th>\n",
              "      <td>Yes</td>\n",
              "      <td>No Information Available</td>\n",
              "      <td>No reason specified</td>\n",
              "    </tr>\n",
              "    <tr>\n",
              "      <th>36989</th>\n",
              "      <td>Yes</td>\n",
              "      <td>Unsolved</td>\n",
              "      <td>Poor Website</td>\n",
              "    </tr>\n",
              "  </tbody>\n",
              "</table>\n",
              "<p>18390 rows × 3 columns</p>\n",
              "</div>"
            ],
            "text/plain": [
              "      past_complaint          complaint_status                  feedback\n",
              "1                Yes                    Solved     Quality Customer Care\n",
              "2                Yes       Solved in Follow-up              Poor Website\n",
              "3                Yes                  Unsolved              Poor Website\n",
              "4                Yes                    Solved              Poor Website\n",
              "5                Yes                  Unsolved       No reason specified\n",
              "...              ...                       ...                       ...\n",
              "36980            Yes                    Solved          Reasonable Price\n",
              "36981            Yes                    Solved              Poor Website\n",
              "36985            Yes                  Unsolved  Products always in Stock\n",
              "36987            Yes  No Information Available       No reason specified\n",
              "36989            Yes                  Unsolved              Poor Website\n",
              "\n",
              "[18390 rows x 3 columns]"
            ]
          },
          "metadata": {
            "tags": []
          },
          "execution_count": 42
        }
      ]
    },
    {
      "cell_type": "markdown",
      "metadata": {
        "id": "AQjf-lgeJo1s"
      },
      "source": [
        "#### Feature : Target Variable - churn_risk_score"
      ]
    },
    {
      "cell_type": "markdown",
      "metadata": {
        "id": "R8owLINWJwcq"
      },
      "source": [
        "As seen we have 6 classes , we assume -1 to be 1 (sign error)\n",
        "So we will replace -1 as 1"
      ]
    },
    {
      "cell_type": "code",
      "metadata": {
        "colab": {
          "base_uri": "https://localhost:8080/"
        },
        "id": "R6zlttPQIHyn",
        "outputId": "1e9ad272-486c-4856-ad51-5451ca9a312c"
      },
      "source": [
        "train_data['churn_risk_score']=train_data['churn_risk_score'].replace(-1,1)\n",
        "train_data['churn_risk_score'].unique()"
      ],
      "execution_count": null,
      "outputs": [
        {
          "output_type": "execute_result",
          "data": {
            "text/plain": [
              "array([2, 1, 5, 3, 4])"
            ]
          },
          "metadata": {
            "tags": []
          },
          "execution_count": 43
        }
      ]
    },
    {
      "cell_type": "code",
      "metadata": {
        "colab": {
          "base_uri": "https://localhost:8080/"
        },
        "id": "pvlQ69eTk3we",
        "outputId": "e2924bef-9d5a-4a37-a064-4f61cab63e6d"
      },
      "source": [
        "train_data['churn_risk_score'].value_counts()"
      ],
      "execution_count": null,
      "outputs": [
        {
          "output_type": "execute_result",
          "data": {
            "text/plain": [
              "3    10424\n",
              "4    10185\n",
              "5     9827\n",
              "1     3815\n",
              "2     2741\n",
              "Name: churn_risk_score, dtype: int64"
            ]
          },
          "metadata": {
            "tags": []
          },
          "execution_count": 94
        }
      ]
    },
    {
      "cell_type": "markdown",
      "metadata": {
        "id": "X9gwj3epKKJi"
      },
      "source": [
        "## Handle Missing/Null values"
      ]
    },
    {
      "cell_type": "markdown",
      "metadata": {
        "id": "CT_elc1LKu08"
      },
      "source": [
        "After preprocessing we have introduced few more null values \n",
        "Lets impute this values"
      ]
    },
    {
      "cell_type": "code",
      "metadata": {
        "colab": {
          "base_uri": "https://localhost:8080/",
          "height": 204
        },
        "id": "4QPMm4Q6KF7k",
        "outputId": "ecd350d7-e444-49e3-9d7c-04785b2bc15c"
      },
      "source": [
        "#train_data\n",
        "#Percentage of NAN Values \n",
        "NAN_trainData = [(col, train_data[col].isna().mean()*100) for col in train_data]\n",
        "NAN_trainData = pd.DataFrame(NAN_trainData, columns=[\"column_name\", \"percentage\"])\n",
        "\n",
        "#features with null values\n",
        "NAN_trainData = NAN_trainData[NAN_trainData.percentage !=0]\n",
        "NAN_trainData.sort_values(\"percentage\", ascending=False)"
      ],
      "execution_count": null,
      "outputs": [
        {
          "output_type": "execute_result",
          "data": {
            "text/html": [
              "<div>\n",
              "<style scoped>\n",
              "    .dataframe tbody tr th:only-of-type {\n",
              "        vertical-align: middle;\n",
              "    }\n",
              "\n",
              "    .dataframe tbody tr th {\n",
              "        vertical-align: top;\n",
              "    }\n",
              "\n",
              "    .dataframe thead th {\n",
              "        text-align: right;\n",
              "    }\n",
              "</style>\n",
              "<table border=\"1\" class=\"dataframe\">\n",
              "  <thead>\n",
              "    <tr style=\"text-align: right;\">\n",
              "      <th></th>\n",
              "      <th>column_name</th>\n",
              "      <th>percentage</th>\n",
              "    </tr>\n",
              "  </thead>\n",
              "  <tbody>\n",
              "    <tr>\n",
              "      <th>5</th>\n",
              "      <td>region_category</td>\n",
              "      <td>14.673443</td>\n",
              "    </tr>\n",
              "    <tr>\n",
              "      <th>11</th>\n",
              "      <td>medium_of_operation</td>\n",
              "      <td>14.578828</td>\n",
              "    </tr>\n",
              "    <tr>\n",
              "      <th>18</th>\n",
              "      <td>points_in_wallet</td>\n",
              "      <td>9.307418</td>\n",
              "    </tr>\n",
              "    <tr>\n",
              "      <th>14</th>\n",
              "      <td>days_since_last_login</td>\n",
              "      <td>5.403871</td>\n",
              "    </tr>\n",
              "    <tr>\n",
              "      <th>10</th>\n",
              "      <td>preferred_offer_types</td>\n",
              "      <td>0.778547</td>\n",
              "    </tr>\n",
              "  </tbody>\n",
              "</table>\n",
              "</div>"
            ],
            "text/plain": [
              "              column_name  percentage\n",
              "5         region_category   14.673443\n",
              "11    medium_of_operation   14.578828\n",
              "18       points_in_wallet    9.307418\n",
              "14  days_since_last_login    5.403871\n",
              "10  preferred_offer_types    0.778547"
            ]
          },
          "metadata": {
            "tags": []
          },
          "execution_count": 44
        }
      ]
    },
    {
      "cell_type": "code",
      "metadata": {
        "colab": {
          "base_uri": "https://localhost:8080/",
          "height": 204
        },
        "id": "6K0O1JXcK3nG",
        "outputId": "5053a478-cff0-4c5e-a223-ee53891ce90f"
      },
      "source": [
        "#test_data\n",
        "#Percentage of NAN Values \n",
        "NAN_testData = [(col, test_data[col].isna().mean()*100) for col in test_data]\n",
        "NAN_testData = pd.DataFrame(NAN_testData, columns=[\"column_name\", \"percentage\"])\n",
        "\n",
        "#features with null values\n",
        "NAN_testData = NAN_testData[NAN_testData.percentage !=0]\n",
        "NAN_testData.sort_values(\"percentage\", ascending=False)"
      ],
      "execution_count": null,
      "outputs": [
        {
          "output_type": "execute_result",
          "data": {
            "text/html": [
              "<div>\n",
              "<style scoped>\n",
              "    .dataframe tbody tr th:only-of-type {\n",
              "        vertical-align: middle;\n",
              "    }\n",
              "\n",
              "    .dataframe tbody tr th {\n",
              "        vertical-align: top;\n",
              "    }\n",
              "\n",
              "    .dataframe thead th {\n",
              "        text-align: right;\n",
              "    }\n",
              "</style>\n",
              "<table border=\"1\" class=\"dataframe\">\n",
              "  <thead>\n",
              "    <tr style=\"text-align: right;\">\n",
              "      <th></th>\n",
              "      <th>column_name</th>\n",
              "      <th>percentage</th>\n",
              "    </tr>\n",
              "  </thead>\n",
              "  <tbody>\n",
              "    <tr>\n",
              "      <th>11</th>\n",
              "      <td>medium_of_operation</td>\n",
              "      <td>14.880265</td>\n",
              "    </tr>\n",
              "    <tr>\n",
              "      <th>5</th>\n",
              "      <td>region_category</td>\n",
              "      <td>14.799940</td>\n",
              "    </tr>\n",
              "    <tr>\n",
              "      <th>18</th>\n",
              "      <td>points_in_wallet</td>\n",
              "      <td>9.854912</td>\n",
              "    </tr>\n",
              "    <tr>\n",
              "      <th>14</th>\n",
              "      <td>days_since_last_login</td>\n",
              "      <td>5.130780</td>\n",
              "    </tr>\n",
              "    <tr>\n",
              "      <th>10</th>\n",
              "      <td>preferred_offer_types</td>\n",
              "      <td>0.798233</td>\n",
              "    </tr>\n",
              "  </tbody>\n",
              "</table>\n",
              "</div>"
            ],
            "text/plain": [
              "              column_name  percentage\n",
              "11    medium_of_operation   14.880265\n",
              "5         region_category   14.799940\n",
              "18       points_in_wallet    9.854912\n",
              "14  days_since_last_login    5.130780\n",
              "10  preferred_offer_types    0.798233"
            ]
          },
          "metadata": {
            "tags": []
          },
          "execution_count": 45
        }
      ]
    },
    {
      "cell_type": "code",
      "metadata": {
        "colab": {
          "base_uri": "https://localhost:8080/",
          "height": 668
        },
        "id": "gksEDgS-K_WY",
        "outputId": "e3b91f1e-e59e-4e36-e767-01c1d3305277"
      },
      "source": [
        "train_data.head(10)"
      ],
      "execution_count": null,
      "outputs": [
        {
          "output_type": "execute_result",
          "data": {
            "text/html": [
              "<div>\n",
              "<style scoped>\n",
              "    .dataframe tbody tr th:only-of-type {\n",
              "        vertical-align: middle;\n",
              "    }\n",
              "\n",
              "    .dataframe tbody tr th {\n",
              "        vertical-align: top;\n",
              "    }\n",
              "\n",
              "    .dataframe thead th {\n",
              "        text-align: right;\n",
              "    }\n",
              "</style>\n",
              "<table border=\"1\" class=\"dataframe\">\n",
              "  <thead>\n",
              "    <tr style=\"text-align: right;\">\n",
              "      <th></th>\n",
              "      <th>customer_id</th>\n",
              "      <th>Name</th>\n",
              "      <th>age</th>\n",
              "      <th>gender</th>\n",
              "      <th>security_no</th>\n",
              "      <th>region_category</th>\n",
              "      <th>membership_category</th>\n",
              "      <th>joining_date</th>\n",
              "      <th>joined_through_referral</th>\n",
              "      <th>referral_id</th>\n",
              "      <th>preferred_offer_types</th>\n",
              "      <th>medium_of_operation</th>\n",
              "      <th>internet_option</th>\n",
              "      <th>last_visit_time</th>\n",
              "      <th>days_since_last_login</th>\n",
              "      <th>avg_time_spent</th>\n",
              "      <th>avg_transaction_value</th>\n",
              "      <th>avg_frequency_login_days</th>\n",
              "      <th>points_in_wallet</th>\n",
              "      <th>used_special_discount</th>\n",
              "      <th>offer_application_preference</th>\n",
              "      <th>past_complaint</th>\n",
              "      <th>complaint_status</th>\n",
              "      <th>feedback</th>\n",
              "      <th>churn_risk_score</th>\n",
              "      <th>days_since_joined</th>\n",
              "    </tr>\n",
              "  </thead>\n",
              "  <tbody>\n",
              "    <tr>\n",
              "      <th>0</th>\n",
              "      <td>fffe4300490044003600300030003800</td>\n",
              "      <td>Pattie Morrisey</td>\n",
              "      <td>18</td>\n",
              "      <td>F</td>\n",
              "      <td>XW0DQ7H</td>\n",
              "      <td>Village</td>\n",
              "      <td>Platinum Membership</td>\n",
              "      <td>2017-08-17</td>\n",
              "      <td>No</td>\n",
              "      <td>xxxxxxxx</td>\n",
              "      <td>Gift Vouchers/Coupons</td>\n",
              "      <td>NaN</td>\n",
              "      <td>Wi-Fi</td>\n",
              "      <td>16:08:02</td>\n",
              "      <td>17.0</td>\n",
              "      <td>300.63</td>\n",
              "      <td>53005.25</td>\n",
              "      <td>17.0</td>\n",
              "      <td>781.75</td>\n",
              "      <td>Yes</td>\n",
              "      <td>Yes</td>\n",
              "      <td>No</td>\n",
              "      <td>Not Applicable</td>\n",
              "      <td>Products always in Stock</td>\n",
              "      <td>2</td>\n",
              "      <td>1334</td>\n",
              "    </tr>\n",
              "    <tr>\n",
              "      <th>1</th>\n",
              "      <td>fffe43004900440032003100300035003700</td>\n",
              "      <td>Traci Peery</td>\n",
              "      <td>32</td>\n",
              "      <td>F</td>\n",
              "      <td>5K0N3X1</td>\n",
              "      <td>City</td>\n",
              "      <td>Premium Membership</td>\n",
              "      <td>2017-08-28</td>\n",
              "      <td>Yes</td>\n",
              "      <td>CID21329</td>\n",
              "      <td>Gift Vouchers/Coupons</td>\n",
              "      <td>Desktop</td>\n",
              "      <td>Mobile_Data</td>\n",
              "      <td>12:38:13</td>\n",
              "      <td>16.0</td>\n",
              "      <td>306.34</td>\n",
              "      <td>12838.38</td>\n",
              "      <td>10.0</td>\n",
              "      <td>NaN</td>\n",
              "      <td>Yes</td>\n",
              "      <td>No</td>\n",
              "      <td>Yes</td>\n",
              "      <td>Solved</td>\n",
              "      <td>Quality Customer Care</td>\n",
              "      <td>1</td>\n",
              "      <td>1323</td>\n",
              "    </tr>\n",
              "    <tr>\n",
              "      <th>2</th>\n",
              "      <td>fffe4300490044003100390032003600</td>\n",
              "      <td>Merideth Mcmeen</td>\n",
              "      <td>44</td>\n",
              "      <td>F</td>\n",
              "      <td>1F2TCL3</td>\n",
              "      <td>Town</td>\n",
              "      <td>No Membership</td>\n",
              "      <td>2016-11-11</td>\n",
              "      <td>Yes</td>\n",
              "      <td>CID12313</td>\n",
              "      <td>Gift Vouchers/Coupons</td>\n",
              "      <td>Desktop</td>\n",
              "      <td>Wi-Fi</td>\n",
              "      <td>22:53:21</td>\n",
              "      <td>14.0</td>\n",
              "      <td>516.16</td>\n",
              "      <td>21027.00</td>\n",
              "      <td>22.0</td>\n",
              "      <td>500.69</td>\n",
              "      <td>No</td>\n",
              "      <td>Yes</td>\n",
              "      <td>Yes</td>\n",
              "      <td>Solved in Follow-up</td>\n",
              "      <td>Poor Website</td>\n",
              "      <td>5</td>\n",
              "      <td>1613</td>\n",
              "    </tr>\n",
              "    <tr>\n",
              "      <th>3</th>\n",
              "      <td>fffe43004900440036003000330031003600</td>\n",
              "      <td>Eufemia Cardwell</td>\n",
              "      <td>37</td>\n",
              "      <td>M</td>\n",
              "      <td>VJGJ33N</td>\n",
              "      <td>City</td>\n",
              "      <td>No Membership</td>\n",
              "      <td>2016-10-29</td>\n",
              "      <td>Yes</td>\n",
              "      <td>CID3793</td>\n",
              "      <td>Gift Vouchers/Coupons</td>\n",
              "      <td>Desktop</td>\n",
              "      <td>Mobile_Data</td>\n",
              "      <td>15:57:50</td>\n",
              "      <td>11.0</td>\n",
              "      <td>53.27</td>\n",
              "      <td>25239.56</td>\n",
              "      <td>6.0</td>\n",
              "      <td>567.66</td>\n",
              "      <td>No</td>\n",
              "      <td>Yes</td>\n",
              "      <td>Yes</td>\n",
              "      <td>Unsolved</td>\n",
              "      <td>Poor Website</td>\n",
              "      <td>5</td>\n",
              "      <td>1626</td>\n",
              "    </tr>\n",
              "    <tr>\n",
              "      <th>4</th>\n",
              "      <td>fffe43004900440031003900350030003600</td>\n",
              "      <td>Meghan Kosak</td>\n",
              "      <td>31</td>\n",
              "      <td>F</td>\n",
              "      <td>SVZXCWB</td>\n",
              "      <td>City</td>\n",
              "      <td>No Membership</td>\n",
              "      <td>2017-09-12</td>\n",
              "      <td>No</td>\n",
              "      <td>xxxxxxxx</td>\n",
              "      <td>Credit/Debit Card Offers</td>\n",
              "      <td>Smartphone</td>\n",
              "      <td>Mobile_Data</td>\n",
              "      <td>15:46:44</td>\n",
              "      <td>20.0</td>\n",
              "      <td>113.13</td>\n",
              "      <td>24483.66</td>\n",
              "      <td>16.0</td>\n",
              "      <td>663.06</td>\n",
              "      <td>No</td>\n",
              "      <td>Yes</td>\n",
              "      <td>Yes</td>\n",
              "      <td>Solved</td>\n",
              "      <td>Poor Website</td>\n",
              "      <td>5</td>\n",
              "      <td>1308</td>\n",
              "    </tr>\n",
              "    <tr>\n",
              "      <th>5</th>\n",
              "      <td>fffe43004900440036003300320035003300</td>\n",
              "      <td>Leslie Browder</td>\n",
              "      <td>13</td>\n",
              "      <td>M</td>\n",
              "      <td>PSG1LGF</td>\n",
              "      <td>City</td>\n",
              "      <td>Gold Membership</td>\n",
              "      <td>2016-01-08</td>\n",
              "      <td>No</td>\n",
              "      <td>xxxxxxxx</td>\n",
              "      <td>Gift Vouchers/Coupons</td>\n",
              "      <td>NaN</td>\n",
              "      <td>Wi-Fi</td>\n",
              "      <td>06:46:07</td>\n",
              "      <td>23.0</td>\n",
              "      <td>433.62</td>\n",
              "      <td>13884.77</td>\n",
              "      <td>24.0</td>\n",
              "      <td>722.27</td>\n",
              "      <td>Yes</td>\n",
              "      <td>No</td>\n",
              "      <td>Yes</td>\n",
              "      <td>Unsolved</td>\n",
              "      <td>No reason specified</td>\n",
              "      <td>3</td>\n",
              "      <td>1921</td>\n",
              "    </tr>\n",
              "    <tr>\n",
              "      <th>6</th>\n",
              "      <td>fffe43004900440031003100360037003900</td>\n",
              "      <td>Bridget Balog</td>\n",
              "      <td>21</td>\n",
              "      <td>M</td>\n",
              "      <td>R3CX1EA</td>\n",
              "      <td>Town</td>\n",
              "      <td>Gold Membership</td>\n",
              "      <td>2015-03-19</td>\n",
              "      <td>Yes</td>\n",
              "      <td>CID24708</td>\n",
              "      <td>Gift Vouchers/Coupons</td>\n",
              "      <td>Desktop</td>\n",
              "      <td>Mobile_Data</td>\n",
              "      <td>11:40:04</td>\n",
              "      <td>10.0</td>\n",
              "      <td>55.38</td>\n",
              "      <td>8982.50</td>\n",
              "      <td>28.0</td>\n",
              "      <td>756.21</td>\n",
              "      <td>Yes</td>\n",
              "      <td>No</td>\n",
              "      <td>Yes</td>\n",
              "      <td>Solved in Follow-up</td>\n",
              "      <td>No reason specified</td>\n",
              "      <td>3</td>\n",
              "      <td>2216</td>\n",
              "    </tr>\n",
              "    <tr>\n",
              "      <th>7</th>\n",
              "      <td>fffe4300490044003800300035003800</td>\n",
              "      <td>Herma Torgeson</td>\n",
              "      <td>42</td>\n",
              "      <td>M</td>\n",
              "      <td>4UJ1551</td>\n",
              "      <td>NaN</td>\n",
              "      <td>No Membership</td>\n",
              "      <td>2016-07-12</td>\n",
              "      <td>Yes</td>\n",
              "      <td>CID56614</td>\n",
              "      <td>Credit/Debit Card Offers</td>\n",
              "      <td>Both</td>\n",
              "      <td>Fiber_Optic</td>\n",
              "      <td>07:52:43</td>\n",
              "      <td>19.0</td>\n",
              "      <td>429.11</td>\n",
              "      <td>44554.82</td>\n",
              "      <td>24.0</td>\n",
              "      <td>568.08</td>\n",
              "      <td>No</td>\n",
              "      <td>Yes</td>\n",
              "      <td>Yes</td>\n",
              "      <td>Unsolved</td>\n",
              "      <td>Poor Product Quality</td>\n",
              "      <td>5</td>\n",
              "      <td>1735</td>\n",
              "    </tr>\n",
              "    <tr>\n",
              "      <th>8</th>\n",
              "      <td>fffe43004900440033003300330032003200</td>\n",
              "      <td>Pattie Helmers</td>\n",
              "      <td>44</td>\n",
              "      <td>M</td>\n",
              "      <td>0481QNQ</td>\n",
              "      <td>Village</td>\n",
              "      <td>Silver Membership</td>\n",
              "      <td>2016-12-14</td>\n",
              "      <td>No</td>\n",
              "      <td>xxxxxxxx</td>\n",
              "      <td>Without Offers</td>\n",
              "      <td>Smartphone</td>\n",
              "      <td>Fiber_Optic</td>\n",
              "      <td>06:50:10</td>\n",
              "      <td>15.0</td>\n",
              "      <td>191.07</td>\n",
              "      <td>18362.31</td>\n",
              "      <td>20.0</td>\n",
              "      <td>NaN</td>\n",
              "      <td>Yes</td>\n",
              "      <td>No</td>\n",
              "      <td>Yes</td>\n",
              "      <td>Solved in Follow-up</td>\n",
              "      <td>Poor Customer Service</td>\n",
              "      <td>3</td>\n",
              "      <td>1580</td>\n",
              "    </tr>\n",
              "    <tr>\n",
              "      <th>9</th>\n",
              "      <td>fffe43004900440032003000340038003300</td>\n",
              "      <td>Shaquana Leech</td>\n",
              "      <td>45</td>\n",
              "      <td>F</td>\n",
              "      <td>ZHP4MCR</td>\n",
              "      <td>Town</td>\n",
              "      <td>No Membership</td>\n",
              "      <td>2016-11-30</td>\n",
              "      <td>No</td>\n",
              "      <td>xxxxxxxx</td>\n",
              "      <td>Gift Vouchers/Coupons</td>\n",
              "      <td>NaN</td>\n",
              "      <td>Wi-Fi</td>\n",
              "      <td>19:10:16</td>\n",
              "      <td>10.0</td>\n",
              "      <td>97.31</td>\n",
              "      <td>19244.16</td>\n",
              "      <td>28.0</td>\n",
              "      <td>706.23</td>\n",
              "      <td>No</td>\n",
              "      <td>Yes</td>\n",
              "      <td>Yes</td>\n",
              "      <td>No Information Available</td>\n",
              "      <td>Poor Customer Service</td>\n",
              "      <td>4</td>\n",
              "      <td>1594</td>\n",
              "    </tr>\n",
              "  </tbody>\n",
              "</table>\n",
              "</div>"
            ],
            "text/plain": [
              "                            customer_id  ... days_since_joined\n",
              "0      fffe4300490044003600300030003800  ...              1334\n",
              "1  fffe43004900440032003100300035003700  ...              1323\n",
              "2      fffe4300490044003100390032003600  ...              1613\n",
              "3  fffe43004900440036003000330031003600  ...              1626\n",
              "4  fffe43004900440031003900350030003600  ...              1308\n",
              "5  fffe43004900440036003300320035003300  ...              1921\n",
              "6  fffe43004900440031003100360037003900  ...              2216\n",
              "7      fffe4300490044003800300035003800  ...              1735\n",
              "8  fffe43004900440033003300330032003200  ...              1580\n",
              "9  fffe43004900440032003000340038003300  ...              1594\n",
              "\n",
              "[10 rows x 26 columns]"
            ]
          },
          "metadata": {
            "tags": []
          },
          "execution_count": 46
        }
      ]
    },
    {
      "cell_type": "code",
      "metadata": {
        "id": "eMfuJauhJLgr"
      },
      "source": [
        "train_copy2 = train_data.copy()\n",
        "test_copy2 = test_data.copy()"
      ],
      "execution_count": null,
      "outputs": []
    },
    {
      "cell_type": "code",
      "metadata": {
        "colab": {
          "base_uri": "https://localhost:8080/"
        },
        "id": "ByvY0Hro5LKz",
        "outputId": "c8c28e42-eb16-4fa1-86e3-3c585c99eaf4"
      },
      "source": [
        "#fillna for days_since_last_login with mean\n",
        "train_copy2['days_since_last_login'] = train_copy2['days_since_last_login'].fillna(train_copy2['days_since_last_login'].mean())\n",
        "test_copy2['days_since_last_login'] = test_copy2['days_since_last_login'].fillna(test_copy2['days_since_last_login'].mean())\n",
        "\n",
        "\n",
        "train_copy2['days_since_last_login'].isnull().sum()\n"
      ],
      "execution_count": null,
      "outputs": [
        {
          "output_type": "execute_result",
          "data": {
            "text/plain": [
              "0"
            ]
          },
          "metadata": {
            "tags": []
          },
          "execution_count": 48
        }
      ]
    },
    {
      "cell_type": "code",
      "metadata": {
        "colab": {
          "base_uri": "https://localhost:8080/"
        },
        "id": "YH1V1bBw6kbZ",
        "outputId": "f089cf7c-f7bb-4dbf-f882-ead183a317d9"
      },
      "source": [
        "#fillna for pints_in_wallet with mean\n",
        "train_copy2['points_in_wallet'] = train_copy2['points_in_wallet'].fillna(train_copy2['points_in_wallet'].mean())\n",
        "test_copy2['points_in_wallet'] = test_copy2['points_in_wallet'].fillna(test_copy2['points_in_wallet'].mean())\n",
        "\n",
        "\n",
        "train_copy2['points_in_wallet'].isnull().sum()\n"
      ],
      "execution_count": null,
      "outputs": [
        {
          "output_type": "execute_result",
          "data": {
            "text/plain": [
              "0"
            ]
          },
          "metadata": {
            "tags": []
          },
          "execution_count": 49
        }
      ]
    },
    {
      "cell_type": "code",
      "metadata": {
        "colab": {
          "base_uri": "https://localhost:8080/"
        },
        "id": "-2U26astLYzf",
        "outputId": "5b73d5ed-d3ce-4c4b-a6c2-c93cb5825982"
      },
      "source": [
        "#fillna for medium_of_operation with mean\n",
        "train_copy2['medium_of_operation'] = train_copy2['medium_of_operation'].fillna(train_copy2['medium_of_operation'].mode()[0])\n",
        "test_copy2['medium_of_operation'] = test_copy2['medium_of_operation'].fillna(test_copy2['medium_of_operation'].mode()[0])\n",
        "\n",
        "\n",
        "train_copy2['medium_of_operation'].isnull().sum()"
      ],
      "execution_count": null,
      "outputs": [
        {
          "output_type": "execute_result",
          "data": {
            "text/plain": [
              "0"
            ]
          },
          "metadata": {
            "tags": []
          },
          "execution_count": 50
        }
      ]
    },
    {
      "cell_type": "code",
      "metadata": {
        "colab": {
          "base_uri": "https://localhost:8080/"
        },
        "id": "CaD4qbQ28loq",
        "outputId": "07af0960-e4ae-44af-afb5-38e1c0a113f7"
      },
      "source": [
        "#fillna for region_category with mean\n",
        "train_copy2['region_category'] = train_copy2['region_category'].fillna(train_copy2['region_category'].mode()[0])\n",
        "test_copy2['region_category'] = test_copy2['region_category'].fillna(test_copy2['region_category'].mode()[0])\n",
        "\n",
        "\n",
        "train_copy2['region_category'].isnull().sum()"
      ],
      "execution_count": null,
      "outputs": [
        {
          "output_type": "execute_result",
          "data": {
            "text/plain": [
              "0"
            ]
          },
          "metadata": {
            "tags": []
          },
          "execution_count": 51
        }
      ]
    },
    {
      "cell_type": "code",
      "metadata": {
        "colab": {
          "base_uri": "https://localhost:8080/"
        },
        "id": "O5Chuds5Jw0Z",
        "outputId": "6ab1df8a-0bb4-4b01-f923-f303dd4e7dfa"
      },
      "source": [
        "\n",
        "#fillna for preferred_offer_types with mean\n",
        "train_copy2['preferred_offer_types'] = train_copy2['preferred_offer_types'].fillna(train_copy2['preferred_offer_types'].mode()[0])\n",
        "test_copy2['preferred_offer_types'] = test_copy2['preferred_offer_types'].fillna(test_copy2['preferred_offer_types'].mode()[0])\n",
        "\n",
        "\n",
        "train_copy2['preferred_offer_types'].isnull().sum()"
      ],
      "execution_count": null,
      "outputs": [
        {
          "output_type": "execute_result",
          "data": {
            "text/plain": [
              "0"
            ]
          },
          "metadata": {
            "tags": []
          },
          "execution_count": 52
        }
      ]
    },
    {
      "cell_type": "code",
      "metadata": {
        "colab": {
          "base_uri": "https://localhost:8080/",
          "height": 49
        },
        "id": "UAoxdzBJ-QH1",
        "outputId": "336e93cc-9c4e-4456-dcc4-be1df6ff3261"
      },
      "source": [
        "#train_data\n",
        "#Percentage of NAN Values \n",
        "NAN_trainData = [(col, train_copy2[col].isna().mean()*100) for col in train_copy2]\n",
        "NAN_trainData = pd.DataFrame(NAN_trainData, columns=[\"column_name\", \"percentage\"])\n",
        "\n",
        "#features with null values\n",
        "NAN_trainData = NAN_trainData[NAN_trainData.percentage !=0]\n",
        "NAN_trainData.sort_values(\"percentage\", ascending=False)"
      ],
      "execution_count": null,
      "outputs": [
        {
          "output_type": "execute_result",
          "data": {
            "text/html": [
              "<div>\n",
              "<style scoped>\n",
              "    .dataframe tbody tr th:only-of-type {\n",
              "        vertical-align: middle;\n",
              "    }\n",
              "\n",
              "    .dataframe tbody tr th {\n",
              "        vertical-align: top;\n",
              "    }\n",
              "\n",
              "    .dataframe thead th {\n",
              "        text-align: right;\n",
              "    }\n",
              "</style>\n",
              "<table border=\"1\" class=\"dataframe\">\n",
              "  <thead>\n",
              "    <tr style=\"text-align: right;\">\n",
              "      <th></th>\n",
              "      <th>column_name</th>\n",
              "      <th>percentage</th>\n",
              "    </tr>\n",
              "  </thead>\n",
              "  <tbody>\n",
              "  </tbody>\n",
              "</table>\n",
              "</div>"
            ],
            "text/plain": [
              "Empty DataFrame\n",
              "Columns: [column_name, percentage]\n",
              "Index: []"
            ]
          },
          "metadata": {
            "tags": []
          },
          "execution_count": 53
        }
      ]
    },
    {
      "cell_type": "code",
      "metadata": {
        "colab": {
          "base_uri": "https://localhost:8080/",
          "height": 49
        },
        "id": "jjs4uo-t-k8d",
        "outputId": "546c87db-79fa-4f59-8d97-b819c6686b6a"
      },
      "source": [
        "#test_data\n",
        "#Percentage of NAN Values \n",
        "NAN_testData = [(col, test_copy2[col].isna().mean()*100) for col in test_copy2]\n",
        "NAN_testData = pd.DataFrame(NAN_testData, columns=[\"column_name\", \"percentage\"])\n",
        "\n",
        "#features with null values\n",
        "NAN_testData = NAN_testData[NAN_testData.percentage !=0]\n",
        "NAN_testData.sort_values(\"percentage\", ascending=False)"
      ],
      "execution_count": null,
      "outputs": [
        {
          "output_type": "execute_result",
          "data": {
            "text/html": [
              "<div>\n",
              "<style scoped>\n",
              "    .dataframe tbody tr th:only-of-type {\n",
              "        vertical-align: middle;\n",
              "    }\n",
              "\n",
              "    .dataframe tbody tr th {\n",
              "        vertical-align: top;\n",
              "    }\n",
              "\n",
              "    .dataframe thead th {\n",
              "        text-align: right;\n",
              "    }\n",
              "</style>\n",
              "<table border=\"1\" class=\"dataframe\">\n",
              "  <thead>\n",
              "    <tr style=\"text-align: right;\">\n",
              "      <th></th>\n",
              "      <th>column_name</th>\n",
              "      <th>percentage</th>\n",
              "    </tr>\n",
              "  </thead>\n",
              "  <tbody>\n",
              "  </tbody>\n",
              "</table>\n",
              "</div>"
            ],
            "text/plain": [
              "Empty DataFrame\n",
              "Columns: [column_name, percentage]\n",
              "Index: []"
            ]
          },
          "metadata": {
            "tags": []
          },
          "execution_count": 54
        }
      ]
    },
    {
      "cell_type": "markdown",
      "metadata": {
        "id": "KxFrlGac-tXg"
      },
      "source": [
        "## EDA"
      ]
    },
    {
      "cell_type": "code",
      "metadata": {
        "colab": {
          "base_uri": "https://localhost:8080/"
        },
        "id": "EW2ZAJUf-s3R",
        "outputId": "c103e4be-b25b-4841-becb-f6c2401544f9"
      },
      "source": [
        "train_copy2.shape  ,  test_copy2.shape"
      ],
      "execution_count": null,
      "outputs": [
        {
          "output_type": "execute_result",
          "data": {
            "text/plain": [
              "((36992, 26), (19919, 25))"
            ]
          },
          "metadata": {
            "tags": []
          },
          "execution_count": 55
        }
      ]
    },
    {
      "cell_type": "code",
      "metadata": {
        "colab": {
          "base_uri": "https://localhost:8080/",
          "height": 297
        },
        "id": "zo9Zhalw-1I9",
        "outputId": "072ed670-f4de-46b1-bbc9-0a44273a1594"
      },
      "source": [
        "train_copy2.corr()"
      ],
      "execution_count": null,
      "outputs": [
        {
          "output_type": "execute_result",
          "data": {
            "text/html": [
              "<div>\n",
              "<style scoped>\n",
              "    .dataframe tbody tr th:only-of-type {\n",
              "        vertical-align: middle;\n",
              "    }\n",
              "\n",
              "    .dataframe tbody tr th {\n",
              "        vertical-align: top;\n",
              "    }\n",
              "\n",
              "    .dataframe thead th {\n",
              "        text-align: right;\n",
              "    }\n",
              "</style>\n",
              "<table border=\"1\" class=\"dataframe\">\n",
              "  <thead>\n",
              "    <tr style=\"text-align: right;\">\n",
              "      <th></th>\n",
              "      <th>age</th>\n",
              "      <th>days_since_last_login</th>\n",
              "      <th>avg_time_spent</th>\n",
              "      <th>avg_transaction_value</th>\n",
              "      <th>avg_frequency_login_days</th>\n",
              "      <th>points_in_wallet</th>\n",
              "      <th>churn_risk_score</th>\n",
              "      <th>days_since_joined</th>\n",
              "    </tr>\n",
              "  </thead>\n",
              "  <tbody>\n",
              "    <tr>\n",
              "      <th>age</th>\n",
              "      <td>1.000000</td>\n",
              "      <td>-0.001961</td>\n",
              "      <td>0.001531</td>\n",
              "      <td>-0.000473</td>\n",
              "      <td>-0.002439</td>\n",
              "      <td>0.000196</td>\n",
              "      <td>0.002467</td>\n",
              "      <td>0.010499</td>\n",
              "    </tr>\n",
              "    <tr>\n",
              "      <th>days_since_last_login</th>\n",
              "      <td>-0.001961</td>\n",
              "      <td>1.000000</td>\n",
              "      <td>-0.088045</td>\n",
              "      <td>-0.016567</td>\n",
              "      <td>0.016260</td>\n",
              "      <td>0.000335</td>\n",
              "      <td>0.025085</td>\n",
              "      <td>0.006212</td>\n",
              "    </tr>\n",
              "    <tr>\n",
              "      <th>avg_time_spent</th>\n",
              "      <td>0.001531</td>\n",
              "      <td>-0.088045</td>\n",
              "      <td>1.000000</td>\n",
              "      <td>0.020888</td>\n",
              "      <td>0.002730</td>\n",
              "      <td>-0.000618</td>\n",
              "      <td>-0.023469</td>\n",
              "      <td>-0.005030</td>\n",
              "    </tr>\n",
              "    <tr>\n",
              "      <th>avg_transaction_value</th>\n",
              "      <td>-0.000473</td>\n",
              "      <td>-0.016567</td>\n",
              "      <td>0.020888</td>\n",
              "      <td>1.000000</td>\n",
              "      <td>-0.114001</td>\n",
              "      <td>0.083729</td>\n",
              "      <td>-0.329712</td>\n",
              "      <td>0.000775</td>\n",
              "    </tr>\n",
              "    <tr>\n",
              "      <th>avg_frequency_login_days</th>\n",
              "      <td>-0.002439</td>\n",
              "      <td>0.016260</td>\n",
              "      <td>0.002730</td>\n",
              "      <td>-0.114001</td>\n",
              "      <td>1.000000</td>\n",
              "      <td>-0.035086</td>\n",
              "      <td>0.157481</td>\n",
              "      <td>0.004707</td>\n",
              "    </tr>\n",
              "    <tr>\n",
              "      <th>points_in_wallet</th>\n",
              "      <td>0.000196</td>\n",
              "      <td>0.000335</td>\n",
              "      <td>-0.000618</td>\n",
              "      <td>0.083729</td>\n",
              "      <td>-0.035086</td>\n",
              "      <td>1.000000</td>\n",
              "      <td>-0.285374</td>\n",
              "      <td>-0.001822</td>\n",
              "    </tr>\n",
              "    <tr>\n",
              "      <th>churn_risk_score</th>\n",
              "      <td>0.002467</td>\n",
              "      <td>0.025085</td>\n",
              "      <td>-0.023469</td>\n",
              "      <td>-0.329712</td>\n",
              "      <td>0.157481</td>\n",
              "      <td>-0.285374</td>\n",
              "      <td>1.000000</td>\n",
              "      <td>-0.011101</td>\n",
              "    </tr>\n",
              "    <tr>\n",
              "      <th>days_since_joined</th>\n",
              "      <td>0.010499</td>\n",
              "      <td>0.006212</td>\n",
              "      <td>-0.005030</td>\n",
              "      <td>0.000775</td>\n",
              "      <td>0.004707</td>\n",
              "      <td>-0.001822</td>\n",
              "      <td>-0.011101</td>\n",
              "      <td>1.000000</td>\n",
              "    </tr>\n",
              "  </tbody>\n",
              "</table>\n",
              "</div>"
            ],
            "text/plain": [
              "                               age  ...  days_since_joined\n",
              "age                       1.000000  ...           0.010499\n",
              "days_since_last_login    -0.001961  ...           0.006212\n",
              "avg_time_spent            0.001531  ...          -0.005030\n",
              "avg_transaction_value    -0.000473  ...           0.000775\n",
              "avg_frequency_login_days -0.002439  ...           0.004707\n",
              "points_in_wallet          0.000196  ...          -0.001822\n",
              "churn_risk_score          0.002467  ...          -0.011101\n",
              "days_since_joined         0.010499  ...           1.000000\n",
              "\n",
              "[8 rows x 8 columns]"
            ]
          },
          "metadata": {
            "tags": []
          },
          "execution_count": 56
        }
      ]
    },
    {
      "cell_type": "code",
      "metadata": {
        "id": "1r-zl6oD-4KJ"
      },
      "source": [
        "#plt.figure(figsize=(15,15))\n",
        "#matrix = np.triu(train_copy2.corr())\n",
        "#sns.heatmap(train_copy2.corr(), annot=True, mask=matrix)"
      ],
      "execution_count": null,
      "outputs": []
    },
    {
      "cell_type": "markdown",
      "metadata": {
        "id": "tEZwUojZEuSs"
      },
      "source": [
        "Before encoding categorical cols we will drop the feature that we wont be using\n",
        "\n",
        "['customer_id', 'Name','security_no','referral_id',last_visit_time','joining_date']"
      ]
    },
    {
      "cell_type": "code",
      "metadata": {
        "colab": {
          "base_uri": "https://localhost:8080/"
        },
        "id": "80tBjTTNFwMg",
        "outputId": "2514a39a-c932-4400-d6fb-d45bde8f3f6d"
      },
      "source": [
        "cleaned_trainData = train_copy2.drop(['customer_id', 'Name','security_no','referral_id','last_visit_time','joining_date'],axis=1)\n",
        "cleaned_testData = test_copy2.drop(['customer_id', 'Name','security_no','referral_id','last_visit_time','joining_date'],axis=1)\n",
        "\n",
        "cleaned_trainData.shape   , cleaned_testData.shape"
      ],
      "execution_count": null,
      "outputs": [
        {
          "output_type": "execute_result",
          "data": {
            "text/plain": [
              "((36992, 20), (19919, 19))"
            ]
          },
          "metadata": {
            "tags": []
          },
          "execution_count": 58
        }
      ]
    },
    {
      "cell_type": "code",
      "metadata": {
        "colab": {
          "base_uri": "https://localhost:8080/",
          "height": 297
        },
        "id": "WoJAj76DGZqH",
        "outputId": "d384e9ab-e265-45a1-fbf0-642d0040a7f2"
      },
      "source": [
        "cleaned_trainData.describe()"
      ],
      "execution_count": null,
      "outputs": [
        {
          "output_type": "execute_result",
          "data": {
            "text/html": [
              "<div>\n",
              "<style scoped>\n",
              "    .dataframe tbody tr th:only-of-type {\n",
              "        vertical-align: middle;\n",
              "    }\n",
              "\n",
              "    .dataframe tbody tr th {\n",
              "        vertical-align: top;\n",
              "    }\n",
              "\n",
              "    .dataframe thead th {\n",
              "        text-align: right;\n",
              "    }\n",
              "</style>\n",
              "<table border=\"1\" class=\"dataframe\">\n",
              "  <thead>\n",
              "    <tr style=\"text-align: right;\">\n",
              "      <th></th>\n",
              "      <th>age</th>\n",
              "      <th>days_since_last_login</th>\n",
              "      <th>avg_time_spent</th>\n",
              "      <th>avg_transaction_value</th>\n",
              "      <th>avg_frequency_login_days</th>\n",
              "      <th>points_in_wallet</th>\n",
              "      <th>churn_risk_score</th>\n",
              "      <th>days_since_joined</th>\n",
              "    </tr>\n",
              "  </thead>\n",
              "  <tbody>\n",
              "    <tr>\n",
              "      <th>count</th>\n",
              "      <td>36992.000000</td>\n",
              "      <td>36992.000000</td>\n",
              "      <td>36992.000000</td>\n",
              "      <td>36992.000000</td>\n",
              "      <td>36992.000000</td>\n",
              "      <td>36992.000000</td>\n",
              "      <td>36992.000000</td>\n",
              "      <td>36992.000000</td>\n",
              "    </tr>\n",
              "    <tr>\n",
              "      <th>mean</th>\n",
              "      <td>37.118161</td>\n",
              "      <td>12.758552</td>\n",
              "      <td>243.472334</td>\n",
              "      <td>29271.194003</td>\n",
              "      <td>14.455576</td>\n",
              "      <td>686.882199</td>\n",
              "      <td>3.526276</td>\n",
              "      <td>1742.793063</td>\n",
              "    </tr>\n",
              "    <tr>\n",
              "      <th>std</th>\n",
              "      <td>15.867412</td>\n",
              "      <td>5.419937</td>\n",
              "      <td>398.289149</td>\n",
              "      <td>19444.806226</td>\n",
              "      <td>9.941579</td>\n",
              "      <td>184.811682</td>\n",
              "      <td>1.244039</td>\n",
              "      <td>317.860926</td>\n",
              "    </tr>\n",
              "    <tr>\n",
              "      <th>min</th>\n",
              "      <td>10.000000</td>\n",
              "      <td>1.000000</td>\n",
              "      <td>-2814.109110</td>\n",
              "      <td>800.460000</td>\n",
              "      <td>-43.652702</td>\n",
              "      <td>-760.661236</td>\n",
              "      <td>1.000000</td>\n",
              "      <td>1198.000000</td>\n",
              "    </tr>\n",
              "    <tr>\n",
              "      <th>25%</th>\n",
              "      <td>23.000000</td>\n",
              "      <td>9.000000</td>\n",
              "      <td>60.102500</td>\n",
              "      <td>14177.540000</td>\n",
              "      <td>7.000000</td>\n",
              "      <td>624.350000</td>\n",
              "      <td>3.000000</td>\n",
              "      <td>1467.000000</td>\n",
              "    </tr>\n",
              "    <tr>\n",
              "      <th>50%</th>\n",
              "      <td>37.000000</td>\n",
              "      <td>12.758552</td>\n",
              "      <td>161.765000</td>\n",
              "      <td>27554.485000</td>\n",
              "      <td>14.000000</td>\n",
              "      <td>686.882199</td>\n",
              "      <td>4.000000</td>\n",
              "      <td>1742.000000</td>\n",
              "    </tr>\n",
              "    <tr>\n",
              "      <th>75%</th>\n",
              "      <td>51.000000</td>\n",
              "      <td>16.000000</td>\n",
              "      <td>356.515000</td>\n",
              "      <td>40855.110000</td>\n",
              "      <td>22.000000</td>\n",
              "      <td>757.002500</td>\n",
              "      <td>5.000000</td>\n",
              "      <td>2020.000000</td>\n",
              "    </tr>\n",
              "    <tr>\n",
              "      <th>max</th>\n",
              "      <td>64.000000</td>\n",
              "      <td>26.000000</td>\n",
              "      <td>3235.578521</td>\n",
              "      <td>99914.050000</td>\n",
              "      <td>73.061995</td>\n",
              "      <td>2069.069761</td>\n",
              "      <td>5.000000</td>\n",
              "      <td>2293.000000</td>\n",
              "    </tr>\n",
              "  </tbody>\n",
              "</table>\n",
              "</div>"
            ],
            "text/plain": [
              "                age  days_since_last_login  ...  churn_risk_score  days_since_joined\n",
              "count  36992.000000           36992.000000  ...      36992.000000       36992.000000\n",
              "mean      37.118161              12.758552  ...          3.526276        1742.793063\n",
              "std       15.867412               5.419937  ...          1.244039         317.860926\n",
              "min       10.000000               1.000000  ...          1.000000        1198.000000\n",
              "25%       23.000000               9.000000  ...          3.000000        1467.000000\n",
              "50%       37.000000              12.758552  ...          4.000000        1742.000000\n",
              "75%       51.000000              16.000000  ...          5.000000        2020.000000\n",
              "max       64.000000              26.000000  ...          5.000000        2293.000000\n",
              "\n",
              "[8 rows x 8 columns]"
            ]
          },
          "metadata": {
            "tags": []
          },
          "execution_count": 59
        }
      ]
    },
    {
      "cell_type": "markdown",
      "metadata": {
        "id": "vv0sE-BZUYpC"
      },
      "source": [
        "**Data visualization task pending**"
      ]
    },
    {
      "cell_type": "code",
      "metadata": {
        "colab": {
          "base_uri": "https://localhost:8080/"
        },
        "id": "ytaAXu0LD1Zb",
        "outputId": "da52bc5b-a9ae-4c4e-a87a-b853706feb7e"
      },
      "source": [
        "# Get list of categorical variables\n",
        "s = (cleaned_trainData.dtypes == 'object')\n",
        "object_cols = list(s[s].index)\n",
        "\n",
        "print(\"Categorical variables:\")\n",
        "print(object_cols)\n",
        "print(len(object_cols))"
      ],
      "execution_count": null,
      "outputs": [
        {
          "output_type": "stream",
          "text": [
            "Categorical variables:\n",
            "['gender', 'region_category', 'membership_category', 'joined_through_referral', 'preferred_offer_types', 'medium_of_operation', 'internet_option', 'used_special_discount', 'offer_application_preference', 'past_complaint', 'complaint_status', 'feedback']\n",
            "12\n"
          ],
          "name": "stdout"
        }
      ]
    },
    {
      "cell_type": "code",
      "metadata": {
        "colab": {
          "base_uri": "https://localhost:8080/",
          "height": 275
        },
        "id": "D7FwnA5GCDK3",
        "outputId": "d2f3cbde-8bd7-40eb-edf4-e4075cd5925a"
      },
      "source": [
        "data_with_dummies_train = pd.get_dummies(cleaned_trainData,prefix=object_cols)\n",
        "data_with_dummies_test = pd.get_dummies(cleaned_testData,prefix=object_cols)\n",
        "\n",
        "print(data_with_dummies_train.shape)\n",
        "data_with_dummies_train.head()"
      ],
      "execution_count": null,
      "outputs": [
        {
          "output_type": "stream",
          "text": [
            "(36992, 51)\n"
          ],
          "name": "stdout"
        },
        {
          "output_type": "execute_result",
          "data": {
            "text/html": [
              "<div>\n",
              "<style scoped>\n",
              "    .dataframe tbody tr th:only-of-type {\n",
              "        vertical-align: middle;\n",
              "    }\n",
              "\n",
              "    .dataframe tbody tr th {\n",
              "        vertical-align: top;\n",
              "    }\n",
              "\n",
              "    .dataframe thead th {\n",
              "        text-align: right;\n",
              "    }\n",
              "</style>\n",
              "<table border=\"1\" class=\"dataframe\">\n",
              "  <thead>\n",
              "    <tr style=\"text-align: right;\">\n",
              "      <th></th>\n",
              "      <th>age</th>\n",
              "      <th>days_since_last_login</th>\n",
              "      <th>avg_time_spent</th>\n",
              "      <th>avg_transaction_value</th>\n",
              "      <th>avg_frequency_login_days</th>\n",
              "      <th>points_in_wallet</th>\n",
              "      <th>churn_risk_score</th>\n",
              "      <th>days_since_joined</th>\n",
              "      <th>gender_F</th>\n",
              "      <th>gender_M</th>\n",
              "      <th>gender_Unknown</th>\n",
              "      <th>region_category_City</th>\n",
              "      <th>region_category_Town</th>\n",
              "      <th>region_category_Village</th>\n",
              "      <th>membership_category_Basic Membership</th>\n",
              "      <th>membership_category_Gold Membership</th>\n",
              "      <th>membership_category_No Membership</th>\n",
              "      <th>membership_category_Platinum Membership</th>\n",
              "      <th>membership_category_Premium Membership</th>\n",
              "      <th>membership_category_Silver Membership</th>\n",
              "      <th>joined_through_referral_No</th>\n",
              "      <th>joined_through_referral_Yes</th>\n",
              "      <th>preferred_offer_types_Credit/Debit Card Offers</th>\n",
              "      <th>preferred_offer_types_Gift Vouchers/Coupons</th>\n",
              "      <th>preferred_offer_types_Without Offers</th>\n",
              "      <th>medium_of_operation_Both</th>\n",
              "      <th>medium_of_operation_Desktop</th>\n",
              "      <th>medium_of_operation_Smartphone</th>\n",
              "      <th>internet_option_Fiber_Optic</th>\n",
              "      <th>internet_option_Mobile_Data</th>\n",
              "      <th>internet_option_Wi-Fi</th>\n",
              "      <th>used_special_discount_No</th>\n",
              "      <th>used_special_discount_Yes</th>\n",
              "      <th>offer_application_preference_No</th>\n",
              "      <th>offer_application_preference_Yes</th>\n",
              "      <th>past_complaint_No</th>\n",
              "      <th>past_complaint_Yes</th>\n",
              "      <th>complaint_status_No Information Available</th>\n",
              "      <th>complaint_status_Not Applicable</th>\n",
              "      <th>complaint_status_Solved</th>\n",
              "      <th>complaint_status_Solved in Follow-up</th>\n",
              "      <th>complaint_status_Unsolved</th>\n",
              "      <th>feedback_No reason specified</th>\n",
              "      <th>feedback_Poor Customer Service</th>\n",
              "      <th>feedback_Poor Product Quality</th>\n",
              "      <th>feedback_Poor Website</th>\n",
              "      <th>feedback_Products always in Stock</th>\n",
              "      <th>feedback_Quality Customer Care</th>\n",
              "      <th>feedback_Reasonable Price</th>\n",
              "      <th>feedback_Too many ads</th>\n",
              "      <th>feedback_User Friendly Website</th>\n",
              "    </tr>\n",
              "  </thead>\n",
              "  <tbody>\n",
              "    <tr>\n",
              "      <th>0</th>\n",
              "      <td>18</td>\n",
              "      <td>17.0</td>\n",
              "      <td>300.63</td>\n",
              "      <td>53005.25</td>\n",
              "      <td>17.0</td>\n",
              "      <td>781.750000</td>\n",
              "      <td>2</td>\n",
              "      <td>1334</td>\n",
              "      <td>1</td>\n",
              "      <td>0</td>\n",
              "      <td>0</td>\n",
              "      <td>0</td>\n",
              "      <td>0</td>\n",
              "      <td>1</td>\n",
              "      <td>0</td>\n",
              "      <td>0</td>\n",
              "      <td>0</td>\n",
              "      <td>1</td>\n",
              "      <td>0</td>\n",
              "      <td>0</td>\n",
              "      <td>1</td>\n",
              "      <td>0</td>\n",
              "      <td>0</td>\n",
              "      <td>1</td>\n",
              "      <td>0</td>\n",
              "      <td>0</td>\n",
              "      <td>1</td>\n",
              "      <td>0</td>\n",
              "      <td>0</td>\n",
              "      <td>0</td>\n",
              "      <td>1</td>\n",
              "      <td>0</td>\n",
              "      <td>1</td>\n",
              "      <td>0</td>\n",
              "      <td>1</td>\n",
              "      <td>1</td>\n",
              "      <td>0</td>\n",
              "      <td>0</td>\n",
              "      <td>1</td>\n",
              "      <td>0</td>\n",
              "      <td>0</td>\n",
              "      <td>0</td>\n",
              "      <td>0</td>\n",
              "      <td>0</td>\n",
              "      <td>0</td>\n",
              "      <td>0</td>\n",
              "      <td>1</td>\n",
              "      <td>0</td>\n",
              "      <td>0</td>\n",
              "      <td>0</td>\n",
              "      <td>0</td>\n",
              "    </tr>\n",
              "    <tr>\n",
              "      <th>1</th>\n",
              "      <td>32</td>\n",
              "      <td>16.0</td>\n",
              "      <td>306.34</td>\n",
              "      <td>12838.38</td>\n",
              "      <td>10.0</td>\n",
              "      <td>686.882199</td>\n",
              "      <td>1</td>\n",
              "      <td>1323</td>\n",
              "      <td>1</td>\n",
              "      <td>0</td>\n",
              "      <td>0</td>\n",
              "      <td>1</td>\n",
              "      <td>0</td>\n",
              "      <td>0</td>\n",
              "      <td>0</td>\n",
              "      <td>0</td>\n",
              "      <td>0</td>\n",
              "      <td>0</td>\n",
              "      <td>1</td>\n",
              "      <td>0</td>\n",
              "      <td>0</td>\n",
              "      <td>1</td>\n",
              "      <td>0</td>\n",
              "      <td>1</td>\n",
              "      <td>0</td>\n",
              "      <td>0</td>\n",
              "      <td>1</td>\n",
              "      <td>0</td>\n",
              "      <td>0</td>\n",
              "      <td>1</td>\n",
              "      <td>0</td>\n",
              "      <td>0</td>\n",
              "      <td>1</td>\n",
              "      <td>1</td>\n",
              "      <td>0</td>\n",
              "      <td>0</td>\n",
              "      <td>1</td>\n",
              "      <td>0</td>\n",
              "      <td>0</td>\n",
              "      <td>1</td>\n",
              "      <td>0</td>\n",
              "      <td>0</td>\n",
              "      <td>0</td>\n",
              "      <td>0</td>\n",
              "      <td>0</td>\n",
              "      <td>0</td>\n",
              "      <td>0</td>\n",
              "      <td>1</td>\n",
              "      <td>0</td>\n",
              "      <td>0</td>\n",
              "      <td>0</td>\n",
              "    </tr>\n",
              "    <tr>\n",
              "      <th>2</th>\n",
              "      <td>44</td>\n",
              "      <td>14.0</td>\n",
              "      <td>516.16</td>\n",
              "      <td>21027.00</td>\n",
              "      <td>22.0</td>\n",
              "      <td>500.690000</td>\n",
              "      <td>5</td>\n",
              "      <td>1613</td>\n",
              "      <td>1</td>\n",
              "      <td>0</td>\n",
              "      <td>0</td>\n",
              "      <td>0</td>\n",
              "      <td>1</td>\n",
              "      <td>0</td>\n",
              "      <td>0</td>\n",
              "      <td>0</td>\n",
              "      <td>1</td>\n",
              "      <td>0</td>\n",
              "      <td>0</td>\n",
              "      <td>0</td>\n",
              "      <td>0</td>\n",
              "      <td>1</td>\n",
              "      <td>0</td>\n",
              "      <td>1</td>\n",
              "      <td>0</td>\n",
              "      <td>0</td>\n",
              "      <td>1</td>\n",
              "      <td>0</td>\n",
              "      <td>0</td>\n",
              "      <td>0</td>\n",
              "      <td>1</td>\n",
              "      <td>1</td>\n",
              "      <td>0</td>\n",
              "      <td>0</td>\n",
              "      <td>1</td>\n",
              "      <td>0</td>\n",
              "      <td>1</td>\n",
              "      <td>0</td>\n",
              "      <td>0</td>\n",
              "      <td>0</td>\n",
              "      <td>1</td>\n",
              "      <td>0</td>\n",
              "      <td>0</td>\n",
              "      <td>0</td>\n",
              "      <td>0</td>\n",
              "      <td>1</td>\n",
              "      <td>0</td>\n",
              "      <td>0</td>\n",
              "      <td>0</td>\n",
              "      <td>0</td>\n",
              "      <td>0</td>\n",
              "    </tr>\n",
              "    <tr>\n",
              "      <th>3</th>\n",
              "      <td>37</td>\n",
              "      <td>11.0</td>\n",
              "      <td>53.27</td>\n",
              "      <td>25239.56</td>\n",
              "      <td>6.0</td>\n",
              "      <td>567.660000</td>\n",
              "      <td>5</td>\n",
              "      <td>1626</td>\n",
              "      <td>0</td>\n",
              "      <td>1</td>\n",
              "      <td>0</td>\n",
              "      <td>1</td>\n",
              "      <td>0</td>\n",
              "      <td>0</td>\n",
              "      <td>0</td>\n",
              "      <td>0</td>\n",
              "      <td>1</td>\n",
              "      <td>0</td>\n",
              "      <td>0</td>\n",
              "      <td>0</td>\n",
              "      <td>0</td>\n",
              "      <td>1</td>\n",
              "      <td>0</td>\n",
              "      <td>1</td>\n",
              "      <td>0</td>\n",
              "      <td>0</td>\n",
              "      <td>1</td>\n",
              "      <td>0</td>\n",
              "      <td>0</td>\n",
              "      <td>1</td>\n",
              "      <td>0</td>\n",
              "      <td>1</td>\n",
              "      <td>0</td>\n",
              "      <td>0</td>\n",
              "      <td>1</td>\n",
              "      <td>0</td>\n",
              "      <td>1</td>\n",
              "      <td>0</td>\n",
              "      <td>0</td>\n",
              "      <td>0</td>\n",
              "      <td>0</td>\n",
              "      <td>1</td>\n",
              "      <td>0</td>\n",
              "      <td>0</td>\n",
              "      <td>0</td>\n",
              "      <td>1</td>\n",
              "      <td>0</td>\n",
              "      <td>0</td>\n",
              "      <td>0</td>\n",
              "      <td>0</td>\n",
              "      <td>0</td>\n",
              "    </tr>\n",
              "    <tr>\n",
              "      <th>4</th>\n",
              "      <td>31</td>\n",
              "      <td>20.0</td>\n",
              "      <td>113.13</td>\n",
              "      <td>24483.66</td>\n",
              "      <td>16.0</td>\n",
              "      <td>663.060000</td>\n",
              "      <td>5</td>\n",
              "      <td>1308</td>\n",
              "      <td>1</td>\n",
              "      <td>0</td>\n",
              "      <td>0</td>\n",
              "      <td>1</td>\n",
              "      <td>0</td>\n",
              "      <td>0</td>\n",
              "      <td>0</td>\n",
              "      <td>0</td>\n",
              "      <td>1</td>\n",
              "      <td>0</td>\n",
              "      <td>0</td>\n",
              "      <td>0</td>\n",
              "      <td>1</td>\n",
              "      <td>0</td>\n",
              "      <td>1</td>\n",
              "      <td>0</td>\n",
              "      <td>0</td>\n",
              "      <td>0</td>\n",
              "      <td>0</td>\n",
              "      <td>1</td>\n",
              "      <td>0</td>\n",
              "      <td>1</td>\n",
              "      <td>0</td>\n",
              "      <td>1</td>\n",
              "      <td>0</td>\n",
              "      <td>0</td>\n",
              "      <td>1</td>\n",
              "      <td>0</td>\n",
              "      <td>1</td>\n",
              "      <td>0</td>\n",
              "      <td>0</td>\n",
              "      <td>1</td>\n",
              "      <td>0</td>\n",
              "      <td>0</td>\n",
              "      <td>0</td>\n",
              "      <td>0</td>\n",
              "      <td>0</td>\n",
              "      <td>1</td>\n",
              "      <td>0</td>\n",
              "      <td>0</td>\n",
              "      <td>0</td>\n",
              "      <td>0</td>\n",
              "      <td>0</td>\n",
              "    </tr>\n",
              "  </tbody>\n",
              "</table>\n",
              "</div>"
            ],
            "text/plain": [
              "   age  ...  feedback_User Friendly Website\n",
              "0   18  ...                               0\n",
              "1   32  ...                               0\n",
              "2   44  ...                               0\n",
              "3   37  ...                               0\n",
              "4   31  ...                               0\n",
              "\n",
              "[5 rows x 51 columns]"
            ]
          },
          "metadata": {
            "tags": []
          },
          "execution_count": 61
        }
      ]
    },
    {
      "cell_type": "code",
      "metadata": {
        "id": "3-dwb-H5LAkM"
      },
      "source": [
        "c = data_with_dummies_train[data_with_dummies_train.columns[1:]].corr()['churn_risk_score'][:]\n"
      ],
      "execution_count": null,
      "outputs": []
    },
    {
      "cell_type": "code",
      "metadata": {
        "colab": {
          "base_uri": "https://localhost:8080/"
        },
        "id": "MqyO0FexRuZs",
        "outputId": "0c6b4ca4-e4e6-417e-ccd5-3a980145ffeb"
      },
      "source": [
        "c.sort_values(ascending=False)"
      ],
      "execution_count": null,
      "outputs": [
        {
          "output_type": "execute_result",
          "data": {
            "text/plain": [
              "churn_risk_score                                  1.000000\n",
              "membership_category_No Membership                 0.422999\n",
              "membership_category_Basic Membership              0.416961\n",
              "avg_frequency_login_days                          0.157481\n",
              "feedback_Poor Product Quality                     0.138083\n",
              "feedback_Poor Customer Service                    0.131144\n",
              "feedback_No reason specified                      0.129903\n",
              "feedback_Too many ads                             0.129403\n",
              "feedback_Poor Website                             0.123979\n",
              "preferred_offer_types_Without Offers              0.057368\n",
              "joined_through_referral_Yes                       0.044180\n",
              "offer_application_preference_No                   0.034223\n",
              "medium_of_operation_Smartphone                    0.031301\n",
              "days_since_last_login                             0.025085\n",
              "region_category_Town                              0.014198\n",
              "past_complaint_Yes                                0.012334\n",
              "complaint_status_Solved in Follow-up              0.009849\n",
              "region_category_City                              0.009322\n",
              "used_special_discount_No                          0.008277\n",
              "complaint_status_Solved                           0.005465\n",
              "complaint_status_No Information Available         0.004661\n",
              "internet_option_Fiber_Optic                       0.001916\n",
              "gender_F                                          0.001354\n",
              "internet_option_Mobile_Data                       0.000930\n",
              "gender_Unknown                                   -0.000027\n",
              "complaint_status_Unsolved                        -0.001248\n",
              "gender_M                                         -0.001352\n",
              "internet_option_Wi-Fi                            -0.002838\n",
              "preferred_offer_types_Credit/Debit Card Offers   -0.006392\n",
              "used_special_discount_Yes                        -0.008277\n",
              "days_since_joined                                -0.011101\n",
              "complaint_status_Not Applicable                  -0.012334\n",
              "past_complaint_No                                -0.012334\n",
              "medium_of_operation_Desktop                      -0.017283\n",
              "medium_of_operation_Both                         -0.021456\n",
              "avg_time_spent                                   -0.023469\n",
              "offer_application_preference_Yes                 -0.034223\n",
              "region_category_Village                          -0.034583\n",
              "joined_through_referral_No                       -0.044180\n",
              "preferred_offer_types_Gift Vouchers/Coupons      -0.050381\n",
              "membership_category_Silver Membership            -0.098720\n",
              "membership_category_Gold Membership              -0.213977\n",
              "points_in_wallet                                 -0.285374\n",
              "feedback_Quality Customer Care                   -0.316598\n",
              "feedback_User Friendly Website                   -0.322018\n",
              "feedback_Products always in Stock                -0.323627\n",
              "feedback_Reasonable Price                        -0.327735\n",
              "avg_transaction_value                            -0.329712\n",
              "membership_category_Platinum Membership          -0.339589\n",
              "membership_category_Premium Membership           -0.346156\n",
              "Name: churn_risk_score, dtype: float64"
            ]
          },
          "metadata": {
            "tags": []
          },
          "execution_count": 63
        }
      ]
    },
    {
      "cell_type": "markdown",
      "metadata": {
        "id": "G2V9bP0Hd3ub"
      },
      "source": [
        "## Scaling "
      ]
    },
    {
      "cell_type": "code",
      "metadata": {
        "colab": {
          "base_uri": "https://localhost:8080/"
        },
        "id": "Et6sEinvd26W",
        "outputId": "3851fef4-2597-4254-b55d-d0ac96d89e46"
      },
      "source": [
        "X = data_with_dummies_train.copy()\n",
        "y = data_with_dummies_train['churn_risk_score']\n",
        "X.drop(['churn_risk_score'],inplace=True,axis=1)\n",
        "\n",
        "X.shape  , y.shape"
      ],
      "execution_count": null,
      "outputs": [
        {
          "output_type": "execute_result",
          "data": {
            "text/plain": [
              "((36992, 50), (36992,))"
            ]
          },
          "metadata": {
            "tags": []
          },
          "execution_count": 64
        }
      ]
    },
    {
      "cell_type": "code",
      "metadata": {
        "id": "7ThQxbQAgUJt"
      },
      "source": [
        "feature_labels=X.columns"
      ],
      "execution_count": null,
      "outputs": []
    },
    {
      "cell_type": "code",
      "metadata": {
        "id": "rFUNKF69dZSw"
      },
      "source": [
        "scalar = StandardScaler()\n",
        "\n",
        "X_scale_train = scalar.fit_transform(X)\n",
        "X_scale_test = scalar.fit_transform(data_with_dummies_test)\n",
        "\n",
        "X_scale_train = pd.DataFrame(X_scale_train,columns=feature_labels)\n",
        "X_scale_test = pd.DataFrame(X_scale_test,columns=feature_labels)"
      ],
      "execution_count": null,
      "outputs": []
    },
    {
      "cell_type": "code",
      "metadata": {
        "colab": {
          "base_uri": "https://localhost:8080/",
          "height": 436
        },
        "id": "SHjY6TNjgbz4",
        "outputId": "376a343f-8439-4b90-b079-a6a62a840ba6"
      },
      "source": [
        "X_scale_train.describe()"
      ],
      "execution_count": null,
      "outputs": [
        {
          "output_type": "execute_result",
          "data": {
            "text/html": [
              "<div>\n",
              "<style scoped>\n",
              "    .dataframe tbody tr th:only-of-type {\n",
              "        vertical-align: middle;\n",
              "    }\n",
              "\n",
              "    .dataframe tbody tr th {\n",
              "        vertical-align: top;\n",
              "    }\n",
              "\n",
              "    .dataframe thead th {\n",
              "        text-align: right;\n",
              "    }\n",
              "</style>\n",
              "<table border=\"1\" class=\"dataframe\">\n",
              "  <thead>\n",
              "    <tr style=\"text-align: right;\">\n",
              "      <th></th>\n",
              "      <th>age</th>\n",
              "      <th>days_since_last_login</th>\n",
              "      <th>avg_time_spent</th>\n",
              "      <th>avg_transaction_value</th>\n",
              "      <th>avg_frequency_login_days</th>\n",
              "      <th>points_in_wallet</th>\n",
              "      <th>days_since_joined</th>\n",
              "      <th>gender_F</th>\n",
              "      <th>gender_M</th>\n",
              "      <th>gender_Unknown</th>\n",
              "      <th>region_category_City</th>\n",
              "      <th>region_category_Town</th>\n",
              "      <th>region_category_Village</th>\n",
              "      <th>membership_category_Basic Membership</th>\n",
              "      <th>membership_category_Gold Membership</th>\n",
              "      <th>membership_category_No Membership</th>\n",
              "      <th>membership_category_Platinum Membership</th>\n",
              "      <th>membership_category_Premium Membership</th>\n",
              "      <th>membership_category_Silver Membership</th>\n",
              "      <th>joined_through_referral_No</th>\n",
              "      <th>joined_through_referral_Yes</th>\n",
              "      <th>preferred_offer_types_Credit/Debit Card Offers</th>\n",
              "      <th>preferred_offer_types_Gift Vouchers/Coupons</th>\n",
              "      <th>preferred_offer_types_Without Offers</th>\n",
              "      <th>medium_of_operation_Both</th>\n",
              "      <th>medium_of_operation_Desktop</th>\n",
              "      <th>medium_of_operation_Smartphone</th>\n",
              "      <th>internet_option_Fiber_Optic</th>\n",
              "      <th>internet_option_Mobile_Data</th>\n",
              "      <th>internet_option_Wi-Fi</th>\n",
              "      <th>used_special_discount_No</th>\n",
              "      <th>used_special_discount_Yes</th>\n",
              "      <th>offer_application_preference_No</th>\n",
              "      <th>offer_application_preference_Yes</th>\n",
              "      <th>past_complaint_No</th>\n",
              "      <th>past_complaint_Yes</th>\n",
              "      <th>complaint_status_No Information Available</th>\n",
              "      <th>complaint_status_Not Applicable</th>\n",
              "      <th>complaint_status_Solved</th>\n",
              "      <th>complaint_status_Solved in Follow-up</th>\n",
              "      <th>complaint_status_Unsolved</th>\n",
              "      <th>feedback_No reason specified</th>\n",
              "      <th>feedback_Poor Customer Service</th>\n",
              "      <th>feedback_Poor Product Quality</th>\n",
              "      <th>feedback_Poor Website</th>\n",
              "      <th>feedback_Products always in Stock</th>\n",
              "      <th>feedback_Quality Customer Care</th>\n",
              "      <th>feedback_Reasonable Price</th>\n",
              "      <th>feedback_Too many ads</th>\n",
              "      <th>feedback_User Friendly Website</th>\n",
              "    </tr>\n",
              "  </thead>\n",
              "  <tbody>\n",
              "    <tr>\n",
              "      <th>count</th>\n",
              "      <td>3.699200e+04</td>\n",
              "      <td>3.699200e+04</td>\n",
              "      <td>3.699200e+04</td>\n",
              "      <td>3.699200e+04</td>\n",
              "      <td>3.699200e+04</td>\n",
              "      <td>3.699200e+04</td>\n",
              "      <td>3.699200e+04</td>\n",
              "      <td>3.699200e+04</td>\n",
              "      <td>3.699200e+04</td>\n",
              "      <td>3.699200e+04</td>\n",
              "      <td>3.699200e+04</td>\n",
              "      <td>3.699200e+04</td>\n",
              "      <td>3.699200e+04</td>\n",
              "      <td>3.699200e+04</td>\n",
              "      <td>3.699200e+04</td>\n",
              "      <td>3.699200e+04</td>\n",
              "      <td>3.699200e+04</td>\n",
              "      <td>3.699200e+04</td>\n",
              "      <td>3.699200e+04</td>\n",
              "      <td>3.699200e+04</td>\n",
              "      <td>3.699200e+04</td>\n",
              "      <td>3.699200e+04</td>\n",
              "      <td>3.699200e+04</td>\n",
              "      <td>3.699200e+04</td>\n",
              "      <td>3.699200e+04</td>\n",
              "      <td>3.699200e+04</td>\n",
              "      <td>3.699200e+04</td>\n",
              "      <td>3.699200e+04</td>\n",
              "      <td>3.699200e+04</td>\n",
              "      <td>3.699200e+04</td>\n",
              "      <td>3.699200e+04</td>\n",
              "      <td>3.699200e+04</td>\n",
              "      <td>3.699200e+04</td>\n",
              "      <td>3.699200e+04</td>\n",
              "      <td>3.699200e+04</td>\n",
              "      <td>3.699200e+04</td>\n",
              "      <td>3.699200e+04</td>\n",
              "      <td>3.699200e+04</td>\n",
              "      <td>3.699200e+04</td>\n",
              "      <td>3.699200e+04</td>\n",
              "      <td>3.699200e+04</td>\n",
              "      <td>3.699200e+04</td>\n",
              "      <td>3.699200e+04</td>\n",
              "      <td>3.699200e+04</td>\n",
              "      <td>3.699200e+04</td>\n",
              "      <td>3.699200e+04</td>\n",
              "      <td>3.699200e+04</td>\n",
              "      <td>3.699200e+04</td>\n",
              "      <td>3.699200e+04</td>\n",
              "      <td>3.699200e+04</td>\n",
              "    </tr>\n",
              "    <tr>\n",
              "      <th>mean</th>\n",
              "      <td>4.439677e-17</td>\n",
              "      <td>-1.073878e-16</td>\n",
              "      <td>-3.403419e-17</td>\n",
              "      <td>-7.575159e-18</td>\n",
              "      <td>2.506345e-16</td>\n",
              "      <td>-4.483412e-16</td>\n",
              "      <td>-6.001603e-17</td>\n",
              "      <td>1.859732e-15</td>\n",
              "      <td>-2.072772e-15</td>\n",
              "      <td>-2.701006e-16</td>\n",
              "      <td>-1.895771e-16</td>\n",
              "      <td>-3.449279e-16</td>\n",
              "      <td>-1.190119e-15</td>\n",
              "      <td>1.532019e-15</td>\n",
              "      <td>2.209464e-15</td>\n",
              "      <td>3.661101e-15</td>\n",
              "      <td>-8.747868e-16</td>\n",
              "      <td>3.311281e-15</td>\n",
              "      <td>1.111231e-15</td>\n",
              "      <td>9.062580e-16</td>\n",
              "      <td>-6.965665e-16</td>\n",
              "      <td>3.366384e-16</td>\n",
              "      <td>1.803956e-15</td>\n",
              "      <td>-2.868434e-15</td>\n",
              "      <td>-6.233729e-15</td>\n",
              "      <td>1.095535e-15</td>\n",
              "      <td>8.172949e-16</td>\n",
              "      <td>1.020492e-15</td>\n",
              "      <td>-4.511241e-16</td>\n",
              "      <td>-6.036297e-16</td>\n",
              "      <td>-2.004908e-15</td>\n",
              "      <td>2.011577e-15</td>\n",
              "      <td>1.000239e-15</td>\n",
              "      <td>-1.003511e-15</td>\n",
              "      <td>-8.464190e-16</td>\n",
              "      <td>8.464190e-16</td>\n",
              "      <td>-5.645354e-16</td>\n",
              "      <td>-8.464190e-16</td>\n",
              "      <td>8.275021e-16</td>\n",
              "      <td>1.034216e-15</td>\n",
              "      <td>-7.161407e-16</td>\n",
              "      <td>-2.108019e-15</td>\n",
              "      <td>3.662728e-16</td>\n",
              "      <td>-6.001213e-16</td>\n",
              "      <td>-8.237115e-16</td>\n",
              "      <td>7.229430e-16</td>\n",
              "      <td>8.491621e-16</td>\n",
              "      <td>-1.127630e-16</td>\n",
              "      <td>-1.082735e-15</td>\n",
              "      <td>-2.613119e-15</td>\n",
              "    </tr>\n",
              "    <tr>\n",
              "      <th>std</th>\n",
              "      <td>1.000014e+00</td>\n",
              "      <td>1.000014e+00</td>\n",
              "      <td>1.000014e+00</td>\n",
              "      <td>1.000014e+00</td>\n",
              "      <td>1.000014e+00</td>\n",
              "      <td>1.000014e+00</td>\n",
              "      <td>1.000014e+00</td>\n",
              "      <td>1.000014e+00</td>\n",
              "      <td>1.000014e+00</td>\n",
              "      <td>1.000014e+00</td>\n",
              "      <td>1.000014e+00</td>\n",
              "      <td>1.000014e+00</td>\n",
              "      <td>1.000014e+00</td>\n",
              "      <td>1.000014e+00</td>\n",
              "      <td>1.000014e+00</td>\n",
              "      <td>1.000014e+00</td>\n",
              "      <td>1.000014e+00</td>\n",
              "      <td>1.000014e+00</td>\n",
              "      <td>1.000014e+00</td>\n",
              "      <td>1.000014e+00</td>\n",
              "      <td>1.000014e+00</td>\n",
              "      <td>1.000014e+00</td>\n",
              "      <td>1.000014e+00</td>\n",
              "      <td>1.000014e+00</td>\n",
              "      <td>1.000014e+00</td>\n",
              "      <td>1.000014e+00</td>\n",
              "      <td>1.000014e+00</td>\n",
              "      <td>1.000014e+00</td>\n",
              "      <td>1.000014e+00</td>\n",
              "      <td>1.000014e+00</td>\n",
              "      <td>1.000014e+00</td>\n",
              "      <td>1.000014e+00</td>\n",
              "      <td>1.000014e+00</td>\n",
              "      <td>1.000014e+00</td>\n",
              "      <td>1.000014e+00</td>\n",
              "      <td>1.000014e+00</td>\n",
              "      <td>1.000014e+00</td>\n",
              "      <td>1.000014e+00</td>\n",
              "      <td>1.000014e+00</td>\n",
              "      <td>1.000014e+00</td>\n",
              "      <td>1.000014e+00</td>\n",
              "      <td>1.000014e+00</td>\n",
              "      <td>1.000014e+00</td>\n",
              "      <td>1.000014e+00</td>\n",
              "      <td>1.000014e+00</td>\n",
              "      <td>1.000014e+00</td>\n",
              "      <td>1.000014e+00</td>\n",
              "      <td>1.000014e+00</td>\n",
              "      <td>1.000014e+00</td>\n",
              "      <td>1.000014e+00</td>\n",
              "    </tr>\n",
              "    <tr>\n",
              "      <th>min</th>\n",
              "      <td>-1.709071e+00</td>\n",
              "      <td>-2.169529e+00</td>\n",
              "      <td>-7.676892e+00</td>\n",
              "      <td>-1.464202e+00</td>\n",
              "      <td>-5.845054e+00</td>\n",
              "      <td>-7.832638e+00</td>\n",
              "      <td>-1.713958e+00</td>\n",
              "      <td>-9.996757e-01</td>\n",
              "      <td>-9.971386e-01</td>\n",
              "      <td>-3.996858e-02</td>\n",
              "      <td>-7.246577e-01</td>\n",
              "      <td>-1.059050e+00</td>\n",
              "      <td>-3.814596e-01</td>\n",
              "      <td>-5.137178e-01</td>\n",
              "      <td>-4.743652e-01</td>\n",
              "      <td>-5.123725e-01</td>\n",
              "      <td>-3.644824e-01</td>\n",
              "      <td>-3.700284e-01</td>\n",
              "      <td>-4.394728e-01</td>\n",
              "      <td>-9.654536e-01</td>\n",
              "      <td>-1.035783e+00</td>\n",
              "      <td>-7.046710e-01</td>\n",
              "      <td>-7.203241e-01</td>\n",
              "      <td>-6.963953e-01</td>\n",
              "      <td>-3.388529e-01</td>\n",
              "      <td>-1.044796e+00</td>\n",
              "      <td>-7.747754e-01</td>\n",
              "      <td>-7.030391e-01</td>\n",
              "      <td>-7.076373e-01</td>\n",
              "      <td>-7.106508e-01</td>\n",
              "      <td>-9.047119e-01</td>\n",
              "      <td>-1.105324e+00</td>\n",
              "      <td>-8.998804e-01</td>\n",
              "      <td>-1.111259e+00</td>\n",
              "      <td>-1.005747e+00</td>\n",
              "      <td>-9.942854e-01</td>\n",
              "      <td>-3.745001e-01</td>\n",
              "      <td>-1.005747e+00</td>\n",
              "      <td>-3.777309e-01</td>\n",
              "      <td>-3.757660e-01</td>\n",
              "      <td>-3.788981e-01</td>\n",
              "      <td>-4.526286e-01</td>\n",
              "      <td>-4.509803e-01</td>\n",
              "      <td>-4.552273e-01</td>\n",
              "      <td>-4.518047e-01</td>\n",
              "      <td>-1.970008e-01</td>\n",
              "      <td>-1.953662e-01</td>\n",
              "      <td>-1.995779e-01</td>\n",
              "      <td>-4.521517e-01</td>\n",
              "      <td>-1.976662e-01</td>\n",
              "    </tr>\n",
              "    <tr>\n",
              "      <th>25%</th>\n",
              "      <td>-8.897703e-01</td>\n",
              "      <td>-6.934772e-01</td>\n",
              "      <td>-4.604000e-01</td>\n",
              "      <td>-7.762411e-01</td>\n",
              "      <td>-7.499489e-01</td>\n",
              "      <td>-3.383609e-01</td>\n",
              "      <td>-8.676650e-01</td>\n",
              "      <td>-9.996757e-01</td>\n",
              "      <td>-9.971386e-01</td>\n",
              "      <td>-3.996858e-02</td>\n",
              "      <td>-7.246577e-01</td>\n",
              "      <td>-1.059050e+00</td>\n",
              "      <td>-3.814596e-01</td>\n",
              "      <td>-5.137178e-01</td>\n",
              "      <td>-4.743652e-01</td>\n",
              "      <td>-5.123725e-01</td>\n",
              "      <td>-3.644824e-01</td>\n",
              "      <td>-3.700284e-01</td>\n",
              "      <td>-4.394728e-01</td>\n",
              "      <td>-9.654536e-01</td>\n",
              "      <td>-1.035783e+00</td>\n",
              "      <td>-7.046710e-01</td>\n",
              "      <td>-7.203241e-01</td>\n",
              "      <td>-6.963953e-01</td>\n",
              "      <td>-3.388529e-01</td>\n",
              "      <td>-1.044796e+00</td>\n",
              "      <td>-7.747754e-01</td>\n",
              "      <td>-7.030391e-01</td>\n",
              "      <td>-7.076373e-01</td>\n",
              "      <td>-7.106508e-01</td>\n",
              "      <td>-9.047119e-01</td>\n",
              "      <td>-1.105324e+00</td>\n",
              "      <td>-8.998804e-01</td>\n",
              "      <td>-1.111259e+00</td>\n",
              "      <td>-1.005747e+00</td>\n",
              "      <td>-9.942854e-01</td>\n",
              "      <td>-3.745001e-01</td>\n",
              "      <td>-1.005747e+00</td>\n",
              "      <td>-3.777309e-01</td>\n",
              "      <td>-3.757660e-01</td>\n",
              "      <td>-3.788981e-01</td>\n",
              "      <td>-4.526286e-01</td>\n",
              "      <td>-4.509803e-01</td>\n",
              "      <td>-4.552273e-01</td>\n",
              "      <td>-4.518047e-01</td>\n",
              "      <td>-1.970008e-01</td>\n",
              "      <td>-1.953662e-01</td>\n",
              "      <td>-1.995779e-01</td>\n",
              "      <td>-4.521517e-01</td>\n",
              "      <td>-1.976662e-01</td>\n",
              "    </tr>\n",
              "    <tr>\n",
              "      <th>50%</th>\n",
              "      <td>-7.446853e-03</td>\n",
              "      <td>0.000000e+00</td>\n",
              "      <td>-2.051485e-01</td>\n",
              "      <td>-8.828744e-02</td>\n",
              "      <td>-4.582591e-02</td>\n",
              "      <td>-1.230316e-15</td>\n",
              "      <td>-2.495035e-03</td>\n",
              "      <td>-9.996757e-01</td>\n",
              "      <td>-9.971386e-01</td>\n",
              "      <td>-3.996858e-02</td>\n",
              "      <td>-7.246577e-01</td>\n",
              "      <td>9.442422e-01</td>\n",
              "      <td>-3.814596e-01</td>\n",
              "      <td>-5.137178e-01</td>\n",
              "      <td>-4.743652e-01</td>\n",
              "      <td>-5.123725e-01</td>\n",
              "      <td>-3.644824e-01</td>\n",
              "      <td>-3.700284e-01</td>\n",
              "      <td>-4.394728e-01</td>\n",
              "      <td>-9.654536e-01</td>\n",
              "      <td>9.654536e-01</td>\n",
              "      <td>-7.046710e-01</td>\n",
              "      <td>-7.203241e-01</td>\n",
              "      <td>-6.963953e-01</td>\n",
              "      <td>-3.388529e-01</td>\n",
              "      <td>9.571250e-01</td>\n",
              "      <td>-7.747754e-01</td>\n",
              "      <td>-7.030391e-01</td>\n",
              "      <td>-7.076373e-01</td>\n",
              "      <td>-7.106508e-01</td>\n",
              "      <td>-9.047119e-01</td>\n",
              "      <td>9.047119e-01</td>\n",
              "      <td>-8.998804e-01</td>\n",
              "      <td>8.998804e-01</td>\n",
              "      <td>9.942854e-01</td>\n",
              "      <td>-9.942854e-01</td>\n",
              "      <td>-3.745001e-01</td>\n",
              "      <td>9.942854e-01</td>\n",
              "      <td>-3.777309e-01</td>\n",
              "      <td>-3.757660e-01</td>\n",
              "      <td>-3.788981e-01</td>\n",
              "      <td>-4.526286e-01</td>\n",
              "      <td>-4.509803e-01</td>\n",
              "      <td>-4.552273e-01</td>\n",
              "      <td>-4.518047e-01</td>\n",
              "      <td>-1.970008e-01</td>\n",
              "      <td>-1.953662e-01</td>\n",
              "      <td>-1.995779e-01</td>\n",
              "      <td>-4.521517e-01</td>\n",
              "      <td>-1.976662e-01</td>\n",
              "    </tr>\n",
              "    <tr>\n",
              "      <th>75%</th>\n",
              "      <td>8.748766e-01</td>\n",
              "      <td>5.980683e-01</td>\n",
              "      <td>2.838244e-01</td>\n",
              "      <td>5.957412e-01</td>\n",
              "      <td>7.588861e-01</td>\n",
              "      <td>3.794200e-01</td>\n",
              "      <td>8.721131e-01</td>\n",
              "      <td>1.000324e+00</td>\n",
              "      <td>1.002870e+00</td>\n",
              "      <td>-3.996858e-02</td>\n",
              "      <td>1.379962e+00</td>\n",
              "      <td>9.442422e-01</td>\n",
              "      <td>-3.814596e-01</td>\n",
              "      <td>-5.137178e-01</td>\n",
              "      <td>-4.743652e-01</td>\n",
              "      <td>-5.123725e-01</td>\n",
              "      <td>-3.644824e-01</td>\n",
              "      <td>-3.700284e-01</td>\n",
              "      <td>-4.394728e-01</td>\n",
              "      <td>1.035783e+00</td>\n",
              "      <td>9.654536e-01</td>\n",
              "      <td>1.419102e+00</td>\n",
              "      <td>1.388264e+00</td>\n",
              "      <td>1.435966e+00</td>\n",
              "      <td>-3.388529e-01</td>\n",
              "      <td>9.571250e-01</td>\n",
              "      <td>1.290697e+00</td>\n",
              "      <td>1.422396e+00</td>\n",
              "      <td>1.413153e+00</td>\n",
              "      <td>1.407161e+00</td>\n",
              "      <td>1.105324e+00</td>\n",
              "      <td>9.047119e-01</td>\n",
              "      <td>1.111259e+00</td>\n",
              "      <td>8.998804e-01</td>\n",
              "      <td>9.942854e-01</td>\n",
              "      <td>1.005747e+00</td>\n",
              "      <td>-3.745001e-01</td>\n",
              "      <td>9.942854e-01</td>\n",
              "      <td>-3.777309e-01</td>\n",
              "      <td>-3.757660e-01</td>\n",
              "      <td>-3.788981e-01</td>\n",
              "      <td>-4.526286e-01</td>\n",
              "      <td>-4.509803e-01</td>\n",
              "      <td>-4.552273e-01</td>\n",
              "      <td>-4.518047e-01</td>\n",
              "      <td>-1.970008e-01</td>\n",
              "      <td>-1.953662e-01</td>\n",
              "      <td>-1.995779e-01</td>\n",
              "      <td>-4.521517e-01</td>\n",
              "      <td>-1.976662e-01</td>\n",
              "    </tr>\n",
              "    <tr>\n",
              "      <th>max</th>\n",
              "      <td>1.694177e+00</td>\n",
              "      <td>2.443133e+00</td>\n",
              "      <td>7.512498e+00</td>\n",
              "      <td>3.633043e+00</td>\n",
              "      <td>5.895161e+00</td>\n",
              "      <td>7.478998e+00</td>\n",
              "      <td>1.730991e+00</td>\n",
              "      <td>1.000324e+00</td>\n",
              "      <td>1.002870e+00</td>\n",
              "      <td>2.501965e+01</td>\n",
              "      <td>1.379962e+00</td>\n",
              "      <td>9.442422e-01</td>\n",
              "      <td>2.621510e+00</td>\n",
              "      <td>1.946594e+00</td>\n",
              "      <td>2.108080e+00</td>\n",
              "      <td>1.951705e+00</td>\n",
              "      <td>2.743617e+00</td>\n",
              "      <td>2.702495e+00</td>\n",
              "      <td>2.275454e+00</td>\n",
              "      <td>1.035783e+00</td>\n",
              "      <td>9.654536e-01</td>\n",
              "      <td>1.419102e+00</td>\n",
              "      <td>1.388264e+00</td>\n",
              "      <td>1.435966e+00</td>\n",
              "      <td>2.951133e+00</td>\n",
              "      <td>9.571250e-01</td>\n",
              "      <td>1.290697e+00</td>\n",
              "      <td>1.422396e+00</td>\n",
              "      <td>1.413153e+00</td>\n",
              "      <td>1.407161e+00</td>\n",
              "      <td>1.105324e+00</td>\n",
              "      <td>9.047119e-01</td>\n",
              "      <td>1.111259e+00</td>\n",
              "      <td>8.998804e-01</td>\n",
              "      <td>9.942854e-01</td>\n",
              "      <td>1.005747e+00</td>\n",
              "      <td>2.670227e+00</td>\n",
              "      <td>9.942854e-01</td>\n",
              "      <td>2.647387e+00</td>\n",
              "      <td>2.661231e+00</td>\n",
              "      <td>2.639232e+00</td>\n",
              "      <td>2.209317e+00</td>\n",
              "      <td>2.217392e+00</td>\n",
              "      <td>2.196705e+00</td>\n",
              "      <td>2.213346e+00</td>\n",
              "      <td>5.076121e+00</td>\n",
              "      <td>5.118594e+00</td>\n",
              "      <td>5.010575e+00</td>\n",
              "      <td>2.211647e+00</td>\n",
              "      <td>5.059033e+00</td>\n",
              "    </tr>\n",
              "  </tbody>\n",
              "</table>\n",
              "</div>"
            ],
            "text/plain": [
              "                age  ...  feedback_User Friendly Website\n",
              "count  3.699200e+04  ...                    3.699200e+04\n",
              "mean   4.439677e-17  ...                   -2.613119e-15\n",
              "std    1.000014e+00  ...                    1.000014e+00\n",
              "min   -1.709071e+00  ...                   -1.976662e-01\n",
              "25%   -8.897703e-01  ...                   -1.976662e-01\n",
              "50%   -7.446853e-03  ...                   -1.976662e-01\n",
              "75%    8.748766e-01  ...                   -1.976662e-01\n",
              "max    1.694177e+00  ...                    5.059033e+00\n",
              "\n",
              "[8 rows x 50 columns]"
            ]
          },
          "metadata": {
            "tags": []
          },
          "execution_count": 67
        }
      ]
    },
    {
      "cell_type": "markdown",
      "metadata": {
        "id": "y0oWvR7PSWL3"
      },
      "source": [
        "## Train Test Split"
      ]
    },
    {
      "cell_type": "markdown",
      "metadata": {
        "id": "DBd34-GKScmB"
      },
      "source": [
        "Select feature and target "
      ]
    },
    {
      "cell_type": "code",
      "metadata": {
        "colab": {
          "base_uri": "https://localhost:8080/"
        },
        "id": "hnv_PMsRTSY-",
        "outputId": "2f785591-4907-4df0-df9e-ce6f408ea161"
      },
      "source": [
        "# perform train test split\n",
        "X_train, X_test, y_train, y_test = train_test_split(X_scale_train,y, test_size=0.33, random_state=42)\n",
        "\n",
        "X_train.shape, X_test.shape, y_train.shape, y_test.shape"
      ],
      "execution_count": null,
      "outputs": [
        {
          "output_type": "execute_result",
          "data": {
            "text/plain": [
              "((24784, 50), (12208, 50), (24784,), (12208,))"
            ]
          },
          "metadata": {
            "tags": []
          },
          "execution_count": 68
        }
      ]
    },
    {
      "cell_type": "code",
      "metadata": {
        "colab": {
          "base_uri": "https://localhost:8080/"
        },
        "id": "IqAP9LSUTUcw",
        "outputId": "aaa47518-c210-4b76-e528-e3fcaedfe937"
      },
      "source": [
        "X_validation = X_scale_test.copy()\n",
        "X_validation.shape"
      ],
      "execution_count": null,
      "outputs": [
        {
          "output_type": "execute_result",
          "data": {
            "text/plain": [
              "(19919, 50)"
            ]
          },
          "metadata": {
            "tags": []
          },
          "execution_count": 69
        }
      ]
    },
    {
      "cell_type": "markdown",
      "metadata": {
        "id": "kYmfTtaVUC4e"
      },
      "source": [
        "## Model Building and evalution"
      ]
    },
    {
      "cell_type": "markdown",
      "metadata": {
        "id": "41BDQkgwWQzO"
      },
      "source": [
        "### Logistic regression"
      ]
    },
    {
      "cell_type": "code",
      "metadata": {
        "colab": {
          "base_uri": "https://localhost:8080/"
        },
        "id": "x8MOWPAQbokd",
        "outputId": "0dddb056-c46e-489a-f92c-cffcc158bdb1"
      },
      "source": [
        "#create Logistic Regression model instance\n",
        "log_reg = LogisticRegression()\n",
        "\n",
        "#fit the data to model\n",
        "log_reg.fit(X_train, y_train)\n",
        "#train accuracy\n",
        "print(\"Train accuracy : \",log_reg.score(X_train, y_train))\n",
        "\n",
        "#prediction and test accuracy on test data\n",
        "y_pred = log_reg.predict(X_test)\n",
        "\n",
        "print(\"Test accuracy : \",accuracy_score(y_test, y_pred))\n",
        "F1_score = 100 * f1_score(y_test, y_pred, average=\"macro\")\n",
        "print(\"F1 score : \",F1_score)"
      ],
      "execution_count": null,
      "outputs": [
        {
          "output_type": "stream",
          "text": [
            "Train accuracy :  0.7059393156875403\n",
            "Test accuracy :  0.6947903014416776\n",
            "F1 score :  63.6753451850248\n"
          ],
          "name": "stdout"
        },
        {
          "output_type": "stream",
          "text": [
            "/usr/local/lib/python3.7/dist-packages/sklearn/linear_model/_logistic.py:940: ConvergenceWarning: lbfgs failed to converge (status=1):\n",
            "STOP: TOTAL NO. of ITERATIONS REACHED LIMIT.\n",
            "\n",
            "Increase the number of iterations (max_iter) or scale the data as shown in:\n",
            "    https://scikit-learn.org/stable/modules/preprocessing.html\n",
            "Please also refer to the documentation for alternative solver options:\n",
            "    https://scikit-learn.org/stable/modules/linear_model.html#logistic-regression\n",
            "  extra_warning_msg=_LOGISTIC_SOLVER_CONVERGENCE_MSG)\n"
          ],
          "name": "stderr"
        }
      ]
    },
    {
      "cell_type": "code",
      "metadata": {
        "colab": {
          "base_uri": "https://localhost:8080/"
        },
        "id": "tGgdX0ZOmHR4",
        "outputId": "fb0cfbeb-b1f4-4b6b-ea05-f88ecfca5149"
      },
      "source": [
        "confusion_matrix(y_test,y_pred)"
      ],
      "execution_count": null,
      "outputs": [
        {
          "output_type": "execute_result",
          "data": {
            "text/plain": [
              "array([[ 809,   86,  112,   69,  148],\n",
              "       [ 601,  322,    0,    0,    0],\n",
              "       [   0,    0, 2875,  546,    0],\n",
              "       [   0,    0,  457, 1235, 1648],\n",
              "       [   0,    0,    0,   59, 3241]])"
            ]
          },
          "metadata": {
            "tags": []
          },
          "execution_count": 73
        }
      ]
    },
    {
      "cell_type": "markdown",
      "metadata": {
        "id": "ODwf-VZkcz1W"
      },
      "source": [
        "### Random Forest Classifier"
      ]
    },
    {
      "cell_type": "markdown",
      "metadata": {
        "id": "e07uNctDj_UJ"
      },
      "source": [
        "####Feature selection"
      ]
    },
    {
      "cell_type": "code",
      "metadata": {
        "colab": {
          "base_uri": "https://localhost:8080/"
        },
        "id": "tqFKuY-7T8Ky",
        "outputId": "d17d2ac6-2d1d-4625-92fb-4180ad2b19d9"
      },
      "source": [
        "#Fitting Random Forest Classification to the training set to get important features\n",
        "\n",
        "classifier = RandomForestClassifier(n_estimators = 200,random_state=42)\n",
        "classifier.fit(X_scale_train,y)\n",
        "importances = classifier.feature_importances_\n",
        "print(importances)"
      ],
      "execution_count": null,
      "outputs": [
        {
          "output_type": "stream",
          "text": [
            "[3.75397639e-02 3.41345272e-02 4.26549526e-02 8.16007552e-02\n",
            " 3.85168646e-02 2.20101081e-01 4.21679543e-02 6.26226023e-03\n",
            " 6.32065858e-03 1.78628915e-04 6.48071233e-03 6.81599369e-03\n",
            " 4.61532096e-03 6.24347324e-02 2.42562049e-02 5.92276364e-02\n",
            " 2.89004647e-02 2.87571479e-02 2.83605839e-02 5.98765490e-03\n",
            " 6.01909514e-03 6.24053841e-03 6.22695857e-03 6.14029811e-03\n",
            " 3.87389470e-03 6.57916844e-03 6.32703561e-03 6.52943505e-03\n",
            " 6.45580521e-03 6.46133165e-03 4.58924815e-03 4.53138302e-03\n",
            " 4.49273458e-03 4.42245488e-03 4.32553393e-03 4.27215752e-03\n",
            " 4.16780961e-03 4.39700857e-03 4.25042531e-03 4.16917422e-03\n",
            " 4.22184974e-03 7.06345622e-03 7.00470464e-03 7.18994784e-03\n",
            " 6.75556110e-03 2.30111325e-02 2.26806711e-02 2.32273651e-02\n",
            " 6.80866400e-03 2.22512582e-02]\n"
          ],
          "name": "stdout"
        }
      ]
    },
    {
      "cell_type": "code",
      "metadata": {
        "colab": {
          "base_uri": "https://localhost:8080/"
        },
        "id": "d_V1WDdbagrp",
        "outputId": "7c25b1f5-aaa9-4cee-ece4-5680879e0418"
      },
      "source": [
        "indices = np.argsort(importances)[::-1]\n",
        "for i in range(X.shape[1]):\n",
        "    print (\"%2d) %-*s %f\" % (i + 1, 30, feature_labels[i],importances[indices[i]]))"
      ],
      "execution_count": null,
      "outputs": [
        {
          "output_type": "stream",
          "text": [
            " 1) age                            0.220101\n",
            " 2) days_since_last_login          0.081601\n",
            " 3) avg_time_spent                 0.062435\n",
            " 4) avg_transaction_value          0.059228\n",
            " 5) avg_frequency_login_days       0.042655\n",
            " 6) points_in_wallet               0.042168\n",
            " 7) days_since_joined              0.038517\n",
            " 8) gender_F                       0.037540\n",
            " 9) gender_M                       0.034135\n",
            "10) gender_Unknown                 0.028900\n",
            "11) region_category_City           0.028757\n",
            "12) region_category_Town           0.028361\n",
            "13) region_category_Village        0.024256\n",
            "14) membership_category_Basic Membership 0.023227\n",
            "15) membership_category_Gold Membership 0.023011\n",
            "16) membership_category_No Membership 0.022681\n",
            "17) membership_category_Platinum Membership 0.022251\n",
            "18) membership_category_Premium Membership 0.007190\n",
            "19) membership_category_Silver Membership 0.007063\n",
            "20) joined_through_referral_No     0.007005\n",
            "21) joined_through_referral_Yes    0.006816\n",
            "22) preferred_offer_types_Credit/Debit Card Offers 0.006809\n",
            "23) preferred_offer_types_Gift Vouchers/Coupons 0.006756\n",
            "24) preferred_offer_types_Without Offers 0.006579\n",
            "25) medium_of_operation_Both       0.006529\n",
            "26) medium_of_operation_Desktop    0.006481\n",
            "27) medium_of_operation_Smartphone 0.006461\n",
            "28) internet_option_Fiber_Optic    0.006456\n",
            "29) internet_option_Mobile_Data    0.006327\n",
            "30) internet_option_Wi-Fi          0.006321\n",
            "31) used_special_discount_No       0.006262\n",
            "32) used_special_discount_Yes      0.006241\n",
            "33) offer_application_preference_No 0.006227\n",
            "34) offer_application_preference_Yes 0.006140\n",
            "35) past_complaint_No              0.006019\n",
            "36) past_complaint_Yes             0.005988\n",
            "37) complaint_status_No Information Available 0.004615\n",
            "38) complaint_status_Not Applicable 0.004589\n",
            "39) complaint_status_Solved        0.004531\n",
            "40) complaint_status_Solved in Follow-up 0.004493\n",
            "41) complaint_status_Unsolved      0.004422\n",
            "42) feedback_No reason specified   0.004397\n",
            "43) feedback_Poor Customer Service 0.004326\n",
            "44) feedback_Poor Product Quality  0.004272\n",
            "45) feedback_Poor Website          0.004250\n",
            "46) feedback_Products always in Stock 0.004222\n",
            "47) feedback_Quality Customer Care 0.004169\n",
            "48) feedback_Reasonable Price      0.004168\n",
            "49) feedback_Too many ads          0.003874\n",
            "50) feedback_User Friendly Website 0.000179\n"
          ],
          "name": "stdout"
        }
      ]
    },
    {
      "cell_type": "code",
      "metadata": {
        "id": "LWHKue4AahWL"
      },
      "source": [
        "#selected features\n",
        "\n",
        "X_filtered_features = ['age',                           \n",
        "'days_since_last_login',         \n",
        "'avg_time_spent',                 \n",
        "'avg_transaction_value',         \n",
        "'avg_frequency_login_days',      \n",
        "'points_in_wallet',               \n",
        "'days_since_joined',           \n",
        "'gender_F',                    \n",
        "'gender_M',                      \n",
        "'gender_Unknown',              \n",
        "'region_category_City',          \n",
        "'region_category_Town',           \n",
        "'region_category_Village',\n",
        "'membership_category_Basic Membership',\n",
        "'membership_category_Gold Membership',\n",
        "'membership_category_No Membership',\n",
        "'membership_category_Platinum Membership' \n",
        " ]"
      ],
      "execution_count": null,
      "outputs": []
    },
    {
      "cell_type": "markdown",
      "metadata": {
        "id": "Az1JEoLGkGWq"
      },
      "source": [
        "#### Hyperparameter Tunning using RandomSearchCV"
      ]
    },
    {
      "cell_type": "code",
      "metadata": {
        "id": "UJj-lw9_jZVB"
      },
      "source": [
        "# Number of trees in random forest\n",
        "n_estimators = [50,100,150,200,250,300,350]\n",
        "\n",
        "# Max depth \n",
        "max_depth = [2,3,4,5,6]\n",
        "\n",
        "# Create the random grid\n",
        "random_grid = {'n_estimators': n_estimators,\n",
        "               'max_depth': max_depth}"
      ],
      "execution_count": null,
      "outputs": []
    },
    {
      "cell_type": "code",
      "metadata": {
        "colab": {
          "base_uri": "https://localhost:8080/"
        },
        "id": "kTGoJfPGjy5s",
        "outputId": "55dbb138-6be7-41e9-f39c-f1fc5b66f5da"
      },
      "source": [
        "#Use the random grid to search for best hyperparameters\n",
        "#First create the base model to tune\n",
        "rf = RandomForestClassifier()\n",
        "#Random search of parameters, using 5 fold cross validation, \n",
        "#search across 100 different combinations, and use all available cores\n",
        "rf_random = RandomizedSearchCV(estimator=rf, param_distributions=random_grid, cv=5, random_state=42)\n",
        "#Fit the random search model\n",
        "rf_random.fit(X_train[X_filtered_features], y_train)"
      ],
      "execution_count": null,
      "outputs": [
        {
          "output_type": "execute_result",
          "data": {
            "text/plain": [
              "RandomizedSearchCV(cv=5, error_score=nan,\n",
              "                   estimator=RandomForestClassifier(bootstrap=True,\n",
              "                                                    ccp_alpha=0.0,\n",
              "                                                    class_weight=None,\n",
              "                                                    criterion='gini',\n",
              "                                                    max_depth=None,\n",
              "                                                    max_features='auto',\n",
              "                                                    max_leaf_nodes=None,\n",
              "                                                    max_samples=None,\n",
              "                                                    min_impurity_decrease=0.0,\n",
              "                                                    min_impurity_split=None,\n",
              "                                                    min_samples_leaf=1,\n",
              "                                                    min_samples_split=2,\n",
              "                                                    min_weight_fraction_leaf=0.0,\n",
              "                                                    n_estimators=100,\n",
              "                                                    n_jobs=None,\n",
              "                                                    oob_score=False,\n",
              "                                                    random_state=None,\n",
              "                                                    verbose=0,\n",
              "                                                    warm_start=False),\n",
              "                   iid='deprecated', n_iter=10, n_jobs=None,\n",
              "                   param_distributions={'max_depth': [2, 3, 4, 5, 6],\n",
              "                                        'n_estimators': [50, 100, 150, 200, 250,\n",
              "                                                         300, 350]},\n",
              "                   pre_dispatch='2*n_jobs', random_state=42, refit=True,\n",
              "                   return_train_score=False, scoring=None, verbose=0)"
            ]
          },
          "metadata": {
            "tags": []
          },
          "execution_count": 76
        }
      ]
    },
    {
      "cell_type": "code",
      "metadata": {
        "colab": {
          "background_save": true
        },
        "id": "2SoLyhx7ki8A",
        "outputId": "f801d5e4-e61e-4520-cf56-7bfde1c827ab"
      },
      "source": [
        "rf_random.best_params_"
      ],
      "execution_count": null,
      "outputs": [
        {
          "output_type": "execute_result",
          "data": {
            "text/plain": [
              "{'max_depth': 6, 'n_estimators': 100}"
            ]
          },
          "metadata": {
            "tags": []
          },
          "execution_count": 0
        }
      ]
    },
    {
      "cell_type": "code",
      "metadata": {
        "colab": {
          "background_save": true
        },
        "id": "TM97VtbMkleo",
        "outputId": "0b6d271b-5aa0-4b22-e3f5-9059b9e69c20"
      },
      "source": [
        "#model with best parameters obtained through hyperparameter tunning\n",
        "\n",
        "rf_model = RandomForestClassifier(n_estimators=100, max_depth=6, max_features='sqrt', \n",
        "                               bootstrap=True, oob_score=True, random_state=42)\n",
        "rf_model.fit(X_train[X_filtered_features], y_train)\n",
        "\n",
        "print(\"Train score : \",rf_model.score(X_train[X_filtered_features],y_train))\n",
        "\n",
        "#prediction and test accuracy on test data\n",
        "y_pred = Random.predict(X_test[X_filtered_features])\n",
        "\n",
        "print(\"Test accuracy : \",accuracy_score(y_test, y_pred))\n",
        "F1_score = 100 * f1_score(y_test, y_pred, average=\"macro\")\n",
        "print(\"F1 score : \",F1_score)\n"
      ],
      "execution_count": null,
      "outputs": [
        {
          "output_type": "stream",
          "text": [
            "Train score :  0.7343043899289864\n",
            "Test accuracy :  0.7193643512450852\n",
            "F1 score :  65.12242685406554\n"
          ],
          "name": "stdout"
        }
      ]
    },
    {
      "cell_type": "code",
      "metadata": {
        "colab": {
          "background_save": true
        },
        "id": "GPhWL3yYl9wo",
        "outputId": "36890829-d50c-454d-ecf6-c4b75255e878"
      },
      "source": [
        "confusion_matrix(y_test,y_pred)"
      ],
      "execution_count": null,
      "outputs": [
        {
          "output_type": "execute_result",
          "data": {
            "text/plain": [
              "array([[ 544,  113,  334,   89,  144],\n",
              "       [ 161,  359,  370,   33,    0],\n",
              "       [   0,    0, 3126,  295,    0],\n",
              "       [   0,    0,  373, 1456, 1511],\n",
              "       [   0,    0,    0,    3, 3297]])"
            ]
          },
          "metadata": {
            "tags": []
          },
          "execution_count": 0
        }
      ]
    },
    {
      "cell_type": "markdown",
      "metadata": {
        "id": "Oek_aKBpl8dU"
      },
      "source": [
        "### XGBoost"
      ]
    },
    {
      "cell_type": "code",
      "metadata": {
        "colab": {
          "base_uri": "https://localhost:8080/"
        },
        "id": "feWoI_aml43e",
        "outputId": "b26b51bb-4eb7-4838-cc50-93ab4249167d"
      },
      "source": [
        "# Fitting GradientBoosting to the Training set with all features\n",
        "\n",
        "GB_model = GradientBoostingClassifier()\n",
        "GB_model.fit(X_train, y_train)\n",
        "\n",
        "#train accuracy\n",
        "print(\"Train accuracy : \",GB_model.score(X_train, y_train))\n",
        "\n",
        "#prediction and test accuracy on test data\n",
        "y_pred = GB_model.predict(X_test)\n",
        "\n",
        "print(\"Test accuracy : \",accuracy_score(y_test, y_pred))\n",
        "F1_score = 100 * f1_score(y_test, y_pred, average=\"macro\")\n",
        "print(\"F1 score : \",F1_score)"
      ],
      "execution_count": null,
      "outputs": [
        {
          "output_type": "stream",
          "text": [
            "Train accuracy :  0.7939396384764364\n",
            "Test accuracy :  0.7590104849279161\n",
            "F1 score :  73.60933424054356\n"
          ],
          "name": "stdout"
        }
      ]
    },
    {
      "cell_type": "code",
      "metadata": {
        "colab": {
          "base_uri": "https://localhost:8080/"
        },
        "id": "6hU51dLqn4y4",
        "outputId": "1539cb32-988c-431a-f588-477883524146"
      },
      "source": [
        "GB_model"
      ],
      "execution_count": null,
      "outputs": [
        {
          "output_type": "execute_result",
          "data": {
            "text/plain": [
              "GradientBoostingClassifier(ccp_alpha=0.0, criterion='friedman_mse', init=None,\n",
              "                           learning_rate=0.1, loss='deviance', max_depth=3,\n",
              "                           max_features=None, max_leaf_nodes=None,\n",
              "                           min_impurity_decrease=0.0, min_impurity_split=None,\n",
              "                           min_samples_leaf=1, min_samples_split=2,\n",
              "                           min_weight_fraction_leaf=0.0, n_estimators=100,\n",
              "                           n_iter_no_change=None, presort='deprecated',\n",
              "                           random_state=None, subsample=1.0, tol=0.0001,\n",
              "                           validation_fraction=0.1, verbose=0,\n",
              "                           warm_start=False)"
            ]
          },
          "metadata": {
            "tags": []
          },
          "execution_count": 78
        }
      ]
    },
    {
      "cell_type": "markdown",
      "metadata": {
        "id": "bRfVlUc8nujq"
      },
      "source": [
        "#### Parameter tunning for Gradient Boosting"
      ]
    },
    {
      "cell_type": "code",
      "metadata": {
        "id": "TF3pKp89nebU"
      },
      "source": [
        "#learning rate\n",
        "learning_rate = [0.001,0.01,0.1]\n",
        "\n",
        "# Number of trees in random forest\n",
        "n_estimators = [300,350,400,450,500]\n",
        "\n",
        "# Max depth \n",
        "max_depth = [4,5,6]\n",
        "\n",
        "# Create the random grid\n",
        "random_grid = {'learning_rate':learning_rate,\n",
        "               'n_estimators': n_estimators,\n",
        "               'max_depth': max_depth}"
      ],
      "execution_count": null,
      "outputs": []
    },
    {
      "cell_type": "code",
      "metadata": {
        "id": "L46rSmscoc1k"
      },
      "source": [
        "#Use the random grid to search for best hyperparameters\n",
        "#First create the base model to tune\n",
        "#gb = GradientBoostingClassifier()\n",
        "#Random search of parameters, using 5 fold cross validation, \n",
        "#search across 100 different combinations, and use all available cores\n",
        "#gb_classifier = RandomizedSearchCV(estimator=gb, param_distributions=random_grid, cv=5, random_state=42,n_jobs=3)\n",
        "#Fit the random search model\n",
        "#gb_classifier.fit(X_train, y_train)"
      ],
      "execution_count": null,
      "outputs": []
    },
    {
      "cell_type": "code",
      "metadata": {
        "id": "kIuiRUw3onBn"
      },
      "source": [
        "#best parameters\n",
        "#gb_classifier.best_params_"
      ],
      "execution_count": null,
      "outputs": []
    },
    {
      "cell_type": "markdown",
      "metadata": {
        "id": "-Hf_5OGapCLA"
      },
      "source": [
        "#### Model with best parameters obtained through param tunning"
      ]
    },
    {
      "cell_type": "code",
      "metadata": {
        "id": "XZfghTr5oWWH",
        "colab": {
          "base_uri": "https://localhost:8080/"
        },
        "outputId": "0cc64ce0-59ca-4e5b-ba72-a5b81a95eacb"
      },
      "source": [
        "#model with best parameters obtained through hyperparameter tunning\n",
        "\n",
        "#GB_model = GradientBoostingClassifier(n_estimators=100, max_depth=,learning_rate=0.001,max_features='sqrt',random_state=42)\n",
        "#GB_model.fit(X_train, y_train)\n",
        "\n",
        "#print(\"Train score : \",GB_model.score(X_train,y_train))\n",
        "\n",
        "#prediction and test accuracy on test data\n",
        "#y_pred = GB_model.predict(X_test)\n",
        "\n",
        "#print(\"Test accuracy : \",accuracy_score(y_test, y_pred))\n",
        "#F1_score = 100 * f1_score(y_test, y_pred, average=\"macro\")\n",
        "#print(\"F1 score : \",F1_score)\n"
      ],
      "execution_count": null,
      "outputs": [
        {
          "output_type": "stream",
          "text": [
            "Train score :  0.602848612007747\n",
            "Test accuracy :  0.5984600262123198\n",
            "F1 score :  38.98498954732462\n"
          ],
          "name": "stdout"
        }
      ]
    },
    {
      "cell_type": "markdown",
      "metadata": {
        "id": "p5zZK8r8UHhA"
      },
      "source": [
        "### KNN"
      ]
    },
    {
      "cell_type": "code",
      "metadata": {
        "colab": {
          "base_uri": "https://localhost:8080/"
        },
        "id": "2Z77j9f3eI0X",
        "outputId": "3a5e265d-e446-4cde-8b07-64923f36b3c8"
      },
      "source": [
        "KNN = KNeighborsClassifier()\n",
        "KNN.fit(X_train, y_train)\n",
        "\n",
        "print(\"Train score : \",KNN.score(X_train,y_train))\n",
        "\n",
        "#prediction and test accuracy on test data\n",
        "y_pred = KNN.predict(X_test)\n",
        "\n",
        "print(\"Test accuracy : \",accuracy_score(y_test, y_pred))\n",
        "F1_score = 100 * f1_score(y_test, y_pred, average=\"macro\")\n",
        "print(\"F1 score : \",F1_score)\n"
      ],
      "execution_count": null,
      "outputs": [
        {
          "output_type": "stream",
          "text": [
            "Train score :  0.7419706262104584\n",
            "Test accuracy :  0.5919069462647444\n",
            "F1 score :  57.003411024255676\n"
          ],
          "name": "stdout"
        }
      ]
    },
    {
      "cell_type": "markdown",
      "metadata": {
        "id": "QJsGaJHWhUrw"
      },
      "source": [
        "##Submission"
      ]
    },
    {
      "cell_type": "markdown",
      "metadata": {
        "id": "hHQeXJ8uyNDV"
      },
      "source": [
        "Using XGB model for final predictions for submission"
      ]
    },
    {
      "cell_type": "code",
      "metadata": {
        "colab": {
          "base_uri": "https://localhost:8080/"
        },
        "id": "M_kyn4gAhUV2",
        "outputId": "da1dfc89-48f2-47e4-c397-0052a3d49e25"
      },
      "source": [
        "#final predictions\n",
        "y_pred_test = GB_model.predict(X_validation)\n",
        "\n",
        "submission = pd.DataFrame({\n",
        "    'customer_id': test_data['customer_id'],\n",
        "     'churn_risk_score': y_pred_test,\n",
        "})\n",
        "print(submission['churn_risk_score'].value_counts())"
      ],
      "execution_count": null,
      "outputs": [
        {
          "output_type": "stream",
          "text": [
            "3    5833\n",
            "1    5728\n",
            "5    4839\n",
            "4    3373\n",
            "2     146\n",
            "Name: churn_risk_score, dtype: int64\n"
          ],
          "name": "stdout"
        }
      ]
    },
    {
      "cell_type": "code",
      "metadata": {
        "id": "7l7PXVooiJw8"
      },
      "source": [
        "#write predictions to csv\n",
        "submission.to_csv('./Submission_v3_XGB.csv', index=False)"
      ],
      "execution_count": null,
      "outputs": []
    },
    {
      "cell_type": "markdown",
      "metadata": {
        "id": "5FVCTwpaj8vO"
      },
      "source": [
        "![image.png](data:image/png;base64,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)"
      ]
    },
    {
      "cell_type": "markdown",
      "metadata": {
        "id": "YFnv8Tmsl4Hi"
      },
      "source": [
        "#Improve the model"
      ]
    }
  ]
}